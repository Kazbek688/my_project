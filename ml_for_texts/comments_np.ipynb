{
 "cells": [
  {
   "cell_type": "markdown",
   "metadata": {},
   "source": [
    "<div style=\"border:solid blue 2px; padding: 20px\">\n",
    "    \n",
    "<font color='blue'> Приветствую, мой Ревью! Хочу заранее предупредить, что проект долго запускается - примерно 30 минут. Все из-за BERT )), с учетом подбора очень скромных гиперпараметров!"
   ]
  },
  {
   "cell_type": "markdown",
   "metadata": {},
   "source": [
    "Интернет-магазин «Викишоп» запускает новый сервис. Теперь пользователи могут редактировать и дополнять описания товаров, как в вики-сообществах. То есть клиенты предлагают свои правки и комментируют изменения других. Магазину нужен инструмент, который будет искать токсичные комментарии и отправлять их на модерацию. \n",
    "\n",
    "Обучите модель классифицировать комментарии на позитивные и негативные. В вашем распоряжении набор данных с разметкой о токсичности правок.\n",
    "\n",
    "Постройте модель со значением метрики качества *F1* не меньше 0.75. \n",
    "\n",
    "### Инструкция по выполнению проекта\n",
    "\n",
    "1. Загрузите и подготовьте данные.\n",
    "2. Обучите разные модели. \n",
    "3. Сделайте выводы.\n",
    "\n",
    "Для выполнения проекта применять *BERT* необязательно, но вы можете попробовать.\n",
    "\n",
    "### Описание данных\n",
    "\n",
    "Данные находятся в файле `toxic_comments.csv`. Столбец *text* в нём содержит текст комментария, а *toxic* — целевой признак."
   ]
  },
  {
   "cell_type": "markdown",
   "metadata": {},
   "source": [
    "# Содержание <a id='0.0'></a>\n",
    "\n",
    "<a href='#1.1'>1. Подготовка и обработка текста'</a>\n",
    " \n",
    "<a href='#1.2'>2. Обучение моделей и подбор гиперпараметров'</a>\n",
    "\n",
    " - <a href='#1.3'>2.1 Создание функций и параметров моделей'</a>\n",
    " - <a href='#1.4'>2.2 Признаки для моделей'</a>\n",
    " - <a href='#1.5'>2.3 Признаки для модели Bert'</a>\n",
    " - <a href='#1.6'>2.4 Подбор гиперпараметров для моделей'</a>\n",
    "\n",
    "<a href='#1.7'>3. Тестирование'</a>\n",
    "\n",
    "<a href='#1.8'>4. Выводы'</a>\n"
   ]
  },
  {
   "cell_type": "markdown",
   "metadata": {},
   "source": [
    "# 1. Подготовка и обработка текста <a id='1.1'></a>"
   ]
  },
  {
   "cell_type": "code",
   "execution_count": 555,
   "metadata": {},
   "outputs": [],
   "source": [
    "import pandas as pd\n",
    "from IPython.display import display\n",
    "import matplotlib.pyplot as plt\n",
    "import numpy as np\n",
    "import seaborn as sns\n",
    "import scipy as sp\n",
    "from pymystem3 import Mystem\n",
    "import re\n",
    "import torch\n",
    "import transformers as tf\n",
    "from tqdm import notebook\n",
    "import nltk\n",
    "from sklearn.dummy import DummyRegressor\n",
    "from nltk.corpus import stopwords as nltk_stopwords\n",
    "from sklearn.metrics import f1_score,confusion_matrix,roc_auc_score,make_scorer,precision_score,roc_curve\n",
    "from sklearn.model_selection import train_test_split, GridSearchCV\n",
    "from sklearn.linear_model import LogisticRegression, SGDClassifier\n",
    "from sklearn.ensemble import RandomForestClassifier, GradientBoostingClassifier\n",
    "from sklearn.feature_extraction.text import TfidfVectorizer\n",
    "import warnings\n",
    "# Импортируем необходимые библиотеки."
   ]
  },
  {
   "cell_type": "code",
   "execution_count": 556,
   "metadata": {},
   "outputs": [
    {
     "name": "stderr",
     "output_type": "stream",
     "text": [
      "[nltk_data] Downloading package stopwords to\n",
      "[nltk_data]     /Users/kazbek/nltk_data...\n",
      "[nltk_data]   Package stopwords is already up-to-date!\n"
     ]
    }
   ],
   "source": [
    "# Так же загрузим словари стоп-слов из библиотеки nltk и определим язык словоря.\n",
    "warnings.filterwarnings(\"ignore\")\n",
    "nltk.download('stopwords')\n",
    "stopwords = set(nltk_stopwords.words('english'))"
   ]
  },
  {
   "cell_type": "code",
   "execution_count": 557,
   "metadata": {},
   "outputs": [
    {
     "data": {
      "text/html": [
       "<div>\n",
       "<style scoped>\n",
       "    .dataframe tbody tr th:only-of-type {\n",
       "        vertical-align: middle;\n",
       "    }\n",
       "\n",
       "    .dataframe tbody tr th {\n",
       "        vertical-align: top;\n",
       "    }\n",
       "\n",
       "    .dataframe thead th {\n",
       "        text-align: right;\n",
       "    }\n",
       "</style>\n",
       "<table border=\"1\" class=\"dataframe\">\n",
       "  <thead>\n",
       "    <tr style=\"text-align: right;\">\n",
       "      <th></th>\n",
       "      <th>text</th>\n",
       "      <th>toxic</th>\n",
       "    </tr>\n",
       "  </thead>\n",
       "  <tbody>\n",
       "    <tr>\n",
       "      <th>0</th>\n",
       "      <td>Explanation\\nWhy the edits made under my usern...</td>\n",
       "      <td>0</td>\n",
       "    </tr>\n",
       "    <tr>\n",
       "      <th>1</th>\n",
       "      <td>D'aww! He matches this background colour I'm s...</td>\n",
       "      <td>0</td>\n",
       "    </tr>\n",
       "    <tr>\n",
       "      <th>2</th>\n",
       "      <td>Hey man, I'm really not trying to edit war. It...</td>\n",
       "      <td>0</td>\n",
       "    </tr>\n",
       "    <tr>\n",
       "      <th>3</th>\n",
       "      <td>\"\\nMore\\nI can't make any real suggestions on ...</td>\n",
       "      <td>0</td>\n",
       "    </tr>\n",
       "    <tr>\n",
       "      <th>4</th>\n",
       "      <td>You, sir, are my hero. Any chance you remember...</td>\n",
       "      <td>0</td>\n",
       "    </tr>\n",
       "  </tbody>\n",
       "</table>\n",
       "</div>"
      ],
      "text/plain": [
       "                                                text  toxic\n",
       "0  Explanation\\nWhy the edits made under my usern...      0\n",
       "1  D'aww! He matches this background colour I'm s...      0\n",
       "2  Hey man, I'm really not trying to edit war. It...      0\n",
       "3  \"\\nMore\\nI can't make any real suggestions on ...      0\n",
       "4  You, sir, are my hero. Any chance you remember...      0"
      ]
     },
     "metadata": {},
     "output_type": "display_data"
    },
    {
     "name": "stdout",
     "output_type": "stream",
     "text": [
      "<class 'pandas.core.frame.DataFrame'>\n",
      "RangeIndex: 159571 entries, 0 to 159570\n",
      "Data columns (total 2 columns):\n",
      " #   Column  Non-Null Count   Dtype \n",
      "---  ------  --------------   ----- \n",
      " 0   text    159571 non-null  object\n",
      " 1   toxic   159571 non-null  int64 \n",
      "dtypes: int64(1), object(1)\n",
      "memory usage: 2.4+ MB\n"
     ]
    },
    {
     "data": {
      "text/plain": [
       "None"
      ]
     },
     "metadata": {},
     "output_type": "display_data"
    },
    {
     "data": {
      "text/plain": [
       "0    143346\n",
       "1     16225\n",
       "Name: toxic, dtype: int64"
      ]
     },
     "metadata": {},
     "output_type": "display_data"
    }
   ],
   "source": [
    "# чтение файла. Просмотрим общий вид таблиц и инфу по файлу.\n",
    "#comments = pd.read_csv('/Users/kazbek/Desktop/Python/Payton/DS - обучение/Курс 10_Машинное обучение для текстов/toxic_comments.csv')\n",
    "comments = pd.read_csv('/datasets/toxic_comments.csv')\n",
    "display(comments.head())\n",
    "display(comments.info())"
   ]
  },
  {
   "cell_type": "code",
   "execution_count": 609,
   "metadata": {},
   "outputs": [
    {
     "data": {
      "text/plain": [
       "'Количество позитивных и негативных комментариев - 0    143346\\n1     16225\\nName: toxic, dtype: int64'"
      ]
     },
     "metadata": {},
     "output_type": "display_data"
    },
    {
     "data": {
      "text/plain": [
       "'Количество пропусков - text     0\\ntoxic    0\\ndtype: int64'"
      ]
     },
     "metadata": {},
     "output_type": "display_data"
    },
    {
     "data": {
      "text/plain": [
       "'Количество дубликатов - 0'"
      ]
     },
     "metadata": {},
     "output_type": "display_data"
    }
   ],
   "source": [
    "# Проверим наличие пропусков, дубликатов и количество негативных и позитивных комментариев.\n",
    "display('Количество позитивных и негативных комментариев - {}'.format(comments['toxic'].value_counts()))\n",
    "display('Количество пропусков - {}'.format(comments.isna().sum()))\n",
    "display('Количество дубликатов - {}'.format(comments.duplicated().sum()))"
   ]
  },
  {
   "cell_type": "code",
   "execution_count": 558,
   "metadata": {},
   "outputs": [],
   "source": [
    "# Методом astype переведём тексты в стандартный для Python формат: кодировку Unicode (U).\n",
    "corpus = comments['text'].values.astype('U')"
   ]
  },
  {
   "cell_type": "code",
   "execution_count": 559,
   "metadata": {},
   "outputs": [
    {
     "data": {
      "text/plain": [
       "array([\"Explanation\\nWhy the edits made under my username Hardcore Metallica Fan were reverted? They weren't vandalisms, just closure on some GAs after I voted at New York Dolls FAC. And please don't remove the template from the talk page since I'm retired now.89.205.38.27\",\n",
       "       \"D'aww! He matches this background colour I'm seemingly stuck with. Thanks.  (talk) 21:51, January 11, 2016 (UTC)\",\n",
       "       \"Hey man, I'm really not trying to edit war. It's just that this guy is constantly removing relevant information and talking to me through edits instead of my talk page. He seems to care more about the formatting than the actual info.\",\n",
       "       '\"\\nMore\\nI can\\'t make any real suggestions on improvement - I wondered if the section statistics should be later on, or a subsection of \"\"types of accidents\"\"  -I think the references may need tidying so that they are all in the exact same format ie date format etc. I can do that later on, if no-one else does first - if you have any preferences for formatting style on references or want to do it yourself please let me know.\\n\\nThere appears to be a backlog on articles for review so I guess there may be a delay until a reviewer turns up. It\\'s listed in the relevant form eg Wikipedia:Good_article_nominations#Transport  \"',\n",
       "       \"You, sir, are my hero. Any chance you remember what page that's on?\"],\n",
       "      dtype='<U5000')"
      ]
     },
     "metadata": {},
     "output_type": "display_data"
    }
   ],
   "source": [
    "# Посмотрим первые 5 комментов в исходном состоянии\n",
    "display(corpus[0:5])"
   ]
  },
  {
   "cell_type": "code",
   "execution_count": 560,
   "metadata": {},
   "outputs": [
    {
     "data": {
      "text/plain": [
       "[\"explanation why the edits made under my username hardcore metallica fan were reverted they weren't vandalisms just closure on some gas after i voted at new york dolls fac and please don't remove the template from the talk page since i'm retired now\",\n",
       " \"d'aww he matches this background colour i'm seemingly stuck with thanks talk january utc\",\n",
       " \"hey man i'm really not trying to edit war it's just that this guy is constantly removing relevant information and talking to me through edits instead of my talk page he seems to care more about the formatting than the actual info\",\n",
       " \"more i can't make any real suggestions on improvement i wondered if the section statistics should be later on or a subsection of types of accidents i think the references may need tidying so that they are all in the exact same format ie date format etc i can do that later on if no one else does first if you have any preferences for formatting style on references or want to do it yourself please let me know there appears to be a backlog on articles for review so i guess there may be a delay until a reviewer turns up it's listed in the relevant form eg wikipedia good article nominationstransport\",\n",
       " \"you sir are my hero any chance you remember what page that's on\"]"
      ]
     },
     "metadata": {},
     "output_type": "display_data"
    }
   ],
   "source": [
    "# Создадим функцию, которая обрабатывает текст возвращая лемму каждого слова без знаков препинания и цифр\n",
    "def word_processing(text):\n",
    "    m = Mystem()\n",
    "    # Создадим класс для лемматизации:\n",
    "    clear_text = []\n",
    "    for strings in text:\n",
    "        lemm_strings = m.lemmatize(strings)\n",
    "        # возвращаем лемму каждого слова\n",
    "        lemm_list = \"\".join(lemm_strings)\n",
    "        sub_strings = re.sub(r\"[^a-zA-Z']\", \" \", lemm_list.lower())\n",
    "        # оставим слова без знаков препинания и цифр\n",
    "        clear_text.append(\" \".join(sub_strings.split()))\n",
    "        # Функцией join() объединим элементы списка в строку, разделив их пробелом\n",
    "    return clear_text\n",
    "        \n",
    "clear_comments = word_processing(corpus)\n",
    "# Посмотрим первые 5 комментов после обработки\n",
    "display(clear_comments[0:5])"
   ]
  },
  {
   "cell_type": "markdown",
   "metadata": {},
   "source": [
    "<div style=\"border:solid blue 2px; padding: 20px\">\n",
    "    \n",
    "<font color='blue'> В датасете 159 571 записей и 2 столбца, тип данных (целочисленный и строчный).Два признака - комментарии пользователей и классификатор тональности комментария(целевой признак). Дубликатов и пропусков в датасете нет.Количество позитивных комментариев - 90%, и негативных комментариев - 10%.\n",
    "В ходе обработке текста было сделано:\n",
    "- перевели тексты в стандартный для Python формат(Unicode)\n",
    "- провели лемматизацию текста с помощью библиотеки pymystem3\n",
    "- через модуль re и при помощи функцией re.sub() написали регулярное выражени -  оставить только латинские символы,пробелы и апостроф. \n",
    "- удалили лишние пробелы методом split().\n",
    "- перевели текст в нижний регистр методом lower()."
   ]
  },
  {
   "cell_type": "markdown",
   "metadata": {},
   "source": [
    "<a href='#0.0'>Содержание'</a>"
   ]
  },
  {
   "cell_type": "markdown",
   "metadata": {},
   "source": [
    "# 2. Обучение моделей и подбор гиперпараметров <a id='1.2'></a>"
   ]
  },
  {
   "cell_type": "markdown",
   "metadata": {},
   "source": [
    "### 2.1 Создание функций и праметров <a id='1.3'></a>"
   ]
  },
  {
   "cell_type": "code",
   "execution_count": 561,
   "metadata": {},
   "outputs": [],
   "source": [
    "# Сохраним значение random_state в переменной rs\n",
    "rs=12345\n",
    "scorer = make_scorer(f1_score,greater_is_better=False)"
   ]
  },
  {
   "cell_type": "code",
   "execution_count": 562,
   "metadata": {},
   "outputs": [],
   "source": [
    "# Создадим функцию для пременения способа GridSearchCV для нахождения и сохранения лучших параметров модели\n",
    "def best_parameters(Regressor,features,target,param):\n",
    "    model = GridSearchCV(estimator=Regressor, param_grid=param, cv=3, n_jobs=-1)\n",
    "    model.fit(features, target)\n",
    "    display(f'Лучшие параметры: {model.best_params_}')\n",
    "    pred = model.predict(features)\n",
    "    display(\"Показатель F1  - наилучшей модели на валидационной выборке: {:.4f}\".format(f1_score(target, pred)))\n",
    "    display(\"Матрица неточностей: {}\".format(confusion_matrix(target,pred)))\n",
    "    prob = model.predict_proba(features)\n",
    "    prob_one = prob[:, 1] \n",
    "    display(\"Оценка ROC-AUC: {:.4f}\".format(roc_auc_score(target, prob_one)))\n",
    "    return model.best_estimator_"
   ]
  },
  {
   "cell_type": "code",
   "execution_count": 563,
   "metadata": {},
   "outputs": [],
   "source": [
    "# Создадим функцию для вывода матрицы неточности моделей\n",
    "def matrix(model,features,target):\n",
    "    fig = plt.figure(figsize=(6,4))\n",
    "    plt.title('Матрица неточностей')\n",
    "    pred = model.predict(features)\n",
    "    cm = confusion_matrix(target,pred)\n",
    "    sns.heatmap(cm,annot=True,cmap='coolwarm',linewidths=0.7,fmt = '.0f')\n",
    "    plt.ylabel('Целевой признак')\n",
    "    plt.xlabel('Предсказания')\n",
    "    plt.show()"
   ]
  },
  {
   "cell_type": "code",
   "execution_count": 564,
   "metadata": {},
   "outputs": [],
   "source": [
    "# Создадим функцию для нахождения и сохранения метрики качества на тестовой выборке и определения времени обучения и предсказания\n",
    "def score(model,f_test,t_test):\n",
    "    pred = model.predict(f_test)\n",
    "    prob = model.predict_proba(f_test)\n",
    "    prob_one = prob[:, 1]\n",
    "    f1 = f1_score(t_test, pred)\n",
    "    roc_auc = roc_auc_score(t_test, prob_one)\n",
    "    display(f'Метрики качества модели F1: {f1}')\n",
    "    display(\"Оценка ROC-AUC: {:.4f}\".format(roc_auc_score(t_test, prob_one)))\n",
    "    return f1, roc_auc"
   ]
  },
  {
   "cell_type": "code",
   "execution_count": 565,
   "metadata": {},
   "outputs": [],
   "source": [
    "# Запишем параметры,которые мы хотим перебрать для разных моделей в отдельные переменные \n",
    "param_forest = {'n_estimators': range(5, 80, 5),'max_depth': range(1,8,2)}\n",
    "\n",
    "param_log = {'penalty': ['l1', 'l2'],'C': [0.001, 0.01, 0.1, 1, 10, 50]}\n",
    "\n",
    "param_gbc = {'n_estimators' : [100,200],'learning_rate':[0.1,0.5]}\n",
    "\n",
    "param_sgd = {'alpha' : [1, 1e-01, 1e-02, 1e-03, 1e-04, 1e-05, 1e-06],'penalty' : ['l1','l2'],}"
   ]
  },
  {
   "cell_type": "code",
   "execution_count": 566,
   "metadata": {},
   "outputs": [],
   "source": [
    "#Создадим функцию создания эмбеддинги для комментариев , ограничив размер батча 25 объектами\n",
    "def creating_embeddings (padded,attention_mask): \n",
    "    batch_size = 50\n",
    "    embeddings = []\n",
    "    for i in notebook.tqdm(range(padded.shape[0] // batch_size)):\n",
    "            batch = torch.LongTensor(padded[batch_size*i:batch_size*(i+1)]) \n",
    "            attention_mask_batch = torch.LongTensor(attention_mask[batch_size*i:batch_size*(i+1)])\n",
    "\n",
    "            with torch.no_grad():\n",
    "                batch_embeddings = model(batch, attention_mask=attention_mask_batch)\n",
    "\n",
    "            embeddings.append(batch_embeddings[0][:,0,:].numpy())\n",
    "    return embeddings"
   ]
  },
  {
   "cell_type": "markdown",
   "metadata": {},
   "source": [
    "<div style=\"border:solid blue 2px; padding: 20px\">\n",
    "    \n",
    "<font color='blue'> Создали один блог для всех крупных функций, которые нам понадобятся в этом проекте, мне кажется , так будет удобно, и можно добавлять функции в этот блог, если в этом будет потребност. Так же в этом блоге укажем параметры для моделей и какие-то константные переменные."
   ]
  },
  {
   "cell_type": "markdown",
   "metadata": {},
   "source": [
    "<a href='#0.0'>Содержание'</a>"
   ]
  },
  {
   "cell_type": "markdown",
   "metadata": {},
   "source": [
    "### 2.2 Признаки для моделей <a id='1.4'></a>"
   ]
  },
  {
   "cell_type": "code",
   "execution_count": 567,
   "metadata": {},
   "outputs": [],
   "source": [
    "# Разделим наши данные на обучающую и тестовую выборки методом train_test_split в соотношении 75:25\n",
    "target = comments['toxic']\n",
    "features = clear_comments\n",
    "f_train, f_test, t_train, t_test = train_test_split(features, target, test_size=0.25, random_state=rs)"
   ]
  },
  {
   "cell_type": "code",
   "execution_count": 633,
   "metadata": {},
   "outputs": [
    {
     "data": {
      "text/plain": [
       "'Дисбаланс классов:'"
      ]
     },
     "metadata": {},
     "output_type": "display_data"
    },
    {
     "data": {
      "text/plain": [
       "0    0.898321\n",
       "1    0.101679\n",
       "Name: toxic, dtype: float64"
      ]
     },
     "metadata": {},
     "output_type": "display_data"
    },
    {
     "data": {
      "image/png": "[encoded data removed]",
      "text/plain": [
       "<Figure size 432x288 with 1 Axes>"
      ]
     },
     "metadata": {},
     "output_type": "display_data"
    }
   ],
   "source": [
    "# Определим дисбаланс классов и построим барный график\n",
    "class_frequency = target.value_counts(normalize=True) \n",
    "display(\"Дисбаланс классов:\")\n",
    "display(class_frequency)\n",
    "class_frequency.plot(kind='bar',grid=True,title = 'Дисбаланс классов');"
   ]
  },
  {
   "cell_type": "code",
   "execution_count": 569,
   "metadata": {},
   "outputs": [],
   "source": [
    "# класс TfidfVectorizer() создадим счётчик, указав в нём стоп-слова:\n",
    "count_tf_idf = TfidfVectorizer(max_df=0.7, stop_words=stopwords)\n",
    "#Чтобы посчитать TF-IDF для корпуса текстов, вызовем функцию fit_transform():\n",
    "tf_idf = count_tf_idf.fit_transform(f_train)\n",
    "# разделены на обучающую и тестовую выборки, функцию fit() запускайте только на обучающей. \n",
    "tf_idf_test = count_tf_idf.transform(f_test)"
   ]
  },
  {
   "cell_type": "code",
   "execution_count": 570,
   "metadata": {},
   "outputs": [
    {
     "data": {
      "text/plain": [
       "'Размер обучающей выборки: 119678 объектов, 144264 признаков'"
      ]
     },
     "metadata": {},
     "output_type": "display_data"
    },
    {
     "data": {
      "text/plain": [
       "'Размер тестовой выборки: 39893 объектов, 144264 признаков'"
      ]
     },
     "metadata": {},
     "output_type": "display_data"
    }
   ],
   "source": [
    "# Размеры обучающей и тестовой выборки\n",
    "display('Размер обучающей выборки: {} объектов, {} признаков'.format(tf_idf.shape[0], tf_idf.shape[1]))\n",
    "display('Размер тестовой выборки: {} объектов, {} признаков'.format(tf_idf_test.shape[0], tf_idf_test.shape[1]))"
   ]
  },
  {
   "cell_type": "markdown",
   "metadata": {},
   "source": [
    "<div style=\"border:solid blue 2px; padding: 20px\">\n",
    "    \n",
    "<font color='blue'> При получении признаков для обучения моделей, разделили наши данные на обучающую и тестовую выборки в соотношении 75:25. Посмотрели на дисбаланс классов. Перевели тексты в понятный для машины формат — векторный. Преобразовывали слова в векторы моделью TF-IDF из библиотеки sklearn при помощи класса TfidfVectorizer().Так как данные разделены на обучающую и тестовую выборки, функцию fit() запускалась только на обучающей. Для того, чтобы тестирование было честным: в модели не будут учтены частоты слов из тестовой выборки. У нас получилось 119678 строк и 144264 столбцов.\n",
    "    \n",
    "Посмотрели на дисбаланс классов - данные остались несбалансированны. Для улучшеная качества моделей при дисбалансе классов можно использовать четыре технологии: upsampling, downsampling, изменения веса классов параметром class_weight и технику вычисления вероятностей классов изменяя порог классов. Мы воспользуемся - class_weight"
   ]
  },
  {
   "cell_type": "markdown",
   "metadata": {},
   "source": [
    "<a href='#0.0'>Содержание'</a>"
   ]
  },
  {
   "cell_type": "markdown",
   "metadata": {},
   "source": [
    "### 2.3 Признаки для модели Bert <a id='1.5'></a>"
   ]
  },
  {
   "cell_type": "code",
   "execution_count": 571,
   "metadata": {},
   "outputs": [],
   "source": [
    "# для проверки возьмем только 2000 случайных комментариев\n",
    "df_bert = comments.sample(2000).reset_index(drop=True)"
   ]
  },
  {
   "cell_type": "code",
   "execution_count": 572,
   "metadata": {},
   "outputs": [
    {
     "data": {
      "text/plain": [
       "'Дисбаланс классов:'"
      ]
     },
     "metadata": {},
     "output_type": "display_data"
    },
    {
     "data": {
      "text/plain": [
       "0    0.8985\n",
       "1    0.1015\n",
       "Name: toxic, dtype: float64"
      ]
     },
     "metadata": {},
     "output_type": "display_data"
    },
    {
     "data": {
      "text/plain": [
       "<AxesSubplot:title={'center':'Дисбаланс классов'}>"
      ]
     },
     "execution_count": 572,
     "metadata": {},
     "output_type": "execute_result"
    },
    {
     "data": {
      "image/png": "[encoded data removed]",
      "text/plain": [
       "<Figure size 432x288 with 1 Axes>"
      ]
     },
     "metadata": {},
     "output_type": "display_data"
    }
   ],
   "source": [
    "# Определим дисбаланс классов и построим барный график\n",
    "class_frequency = df_bert['toxic'].value_counts(normalize=True) \n",
    "display(\"Дисбаланс классов:\")\n",
    "display(class_frequency)\n",
    "class_frequency.plot(kind='bar',grid=True,title = 'Дисбаланс классов') "
   ]
  },
  {
   "cell_type": "code",
   "execution_count": 573,
   "metadata": {},
   "outputs": [],
   "source": [
    "#Загрузим предобученную модели DistilBERT и токенизато\n",
    "model_bert, tokenizer_bert, config_bert, pretrained_weights = (tf.DistilBertModel,\n",
    "                                                               tf.DistilBertTokenizer,\n",
    "                                                               tf.DistilBertConfig,\n",
    "                                                               'distilbert-base-uncased')\n",
    "tokenizer = tokenizer_bert.from_pretrained(pretrained_weights)\n",
    "configuration = config_bert.from_pretrained(pretrained_weights)\n",
    "model = model_bert.from_pretrained(pretrained_weights, config = configuration)"
   ]
  },
  {
   "cell_type": "code",
   "execution_count": null,
   "metadata": {},
   "outputs": [],
   "source": []
  },
  {
   "cell_type": "code",
   "execution_count": 574,
   "metadata": {},
   "outputs": [
    {
     "data": {
      "application/vnd.jupyter.widget-view+json": {
       "model_id": "569fb39f05344c578b5000625c994e82",
       "version_major": 2,
       "version_minor": 0
      },
      "text/plain": [
       "HBox(children=(FloatProgress(value=0.0, max=2000.0), HTML(value='')))"
      ]
     },
     "metadata": {},
     "output_type": "display_data"
    },
    {
     "name": "stdout",
     "output_type": "stream",
     "text": [
      "\n"
     ]
    }
   ],
   "source": [
    "# токенизируем текст - используя уже готовый трансформатор текста, укажем максимальную длину твитов = 512\n",
    "tokenized = df_bert['text'].apply(lambda x: tokenizer.encode(x, add_special_tokens=True,\n",
    "                                                             truncation=True,max_length = 512))\n",
    "max_len = 0\n",
    "for i in notebook.tqdm(tokenized.values):\n",
    "    if len(i) > max_len:\n",
    "        max_len = len(i)\n",
    "# Применим метод padding (англ. «отступ»), чтобы после токенизации длины исходных текстов в корпусе были равными. \n",
    "padded = np.array([i + [0]*(max_len - len(i)) for i in tokenized.values])\n",
    "# «создадим маску» для действительно важных токенов, то есть укажем нулевые и не нулевые значения:\n",
    "attention_mask = np.where(padded != 0, 1, 0)"
   ]
  },
  {
   "cell_type": "code",
   "execution_count": 575,
   "metadata": {},
   "outputs": [
    {
     "data": {
      "text/plain": [
       "(2000, 512)"
      ]
     },
     "metadata": {},
     "output_type": "display_data"
    },
    {
     "data": {
      "text/plain": [
       "(2000, 512)"
      ]
     },
     "metadata": {},
     "output_type": "display_data"
    }
   ],
   "source": [
    "# Посмотрим какая получилась длина\n",
    "display(padded.shape)\n",
    "display(attention_mask.shape)"
   ]
  },
  {
   "cell_type": "code",
   "execution_count": 576,
   "metadata": {},
   "outputs": [
    {
     "data": {
      "application/vnd.jupyter.widget-view+json": {
       "model_id": "2b6b98501c5e4264a6db9513092b3d2f",
       "version_major": 2,
       "version_minor": 0
      },
      "text/plain": [
       "HBox(children=(FloatProgress(value=0.0, max=40.0), HTML(value='')))"
      ]
     },
     "metadata": {},
     "output_type": "display_data"
    },
    {
     "name": "stdout",
     "output_type": "stream",
     "text": [
      "\n"
     ]
    }
   ],
   "source": [
    "# Применим функцию получения embeddings\n",
    "embeddings = creating_embeddings(padded,attention_mask)"
   ]
  },
  {
   "cell_type": "code",
   "execution_count": 577,
   "metadata": {},
   "outputs": [],
   "source": [
    "#Запишем все эмбеддинги в матрицу признаков, выделим целевой признак.\n",
    "features_bert = np.concatenate(embeddings)\n",
    "target_bert = df_bert['toxic']\n",
    "\n",
    "# Разделим наши данные на обучающую и тестовую выборки методом rain_test_split в соотношении 70:30\n",
    "f_train_bert, f_test_bert, t_train_bert, t_test_bert = train_test_split(features_bert, target_bert, test_size=0.30, random_state=rs)"
   ]
  },
  {
   "cell_type": "code",
   "execution_count": 578,
   "metadata": {},
   "outputs": [
    {
     "data": {
      "text/plain": [
       "'Размер обучающей выборки: 1400 объектов, 768 признаков'"
      ]
     },
     "metadata": {},
     "output_type": "display_data"
    },
    {
     "data": {
      "text/plain": [
       "'Размер тестовой выборки: 600 объектов, 768 признаков'"
      ]
     },
     "metadata": {},
     "output_type": "display_data"
    }
   ],
   "source": [
    "# Размеры обучающей и тестовой выборки\n",
    "display('Размер обучающей выборки: {} объектов, {} признаков'.format(f_train_bert.shape[0], f_train_bert.shape[1]))\n",
    "display('Размер тестовой выборки: {} объектов, {} признаков'.format(f_test_bert.shape[0], f_test_bert.shape[1]))"
   ]
  },
  {
   "cell_type": "markdown",
   "metadata": {},
   "source": [
    "<div style=\"border:solid blue 2px; padding: 20px\">\n",
    "    \n",
    "<font color='blue'> Для получении признаков для обучения моделей использовали уже предобученную на большом корпусе модель DistilBert.У DistilBERT улучшает скорость вывода. Нам нужна более быстрая скорость выведения, и поэтому остановимся на DistilBERT -  является разумным выбором, однако, мы потеряем лучшие метрики прогнозирования. Думаю, для целей проекта подойдет DistilBERT, так как, основная задача проекта научить нас использовать модели Bert - а  DistilBERT ее упрощенный аналог.\n",
    "    \n",
    "Из-за того, что получение embeddings на большой выборке занимает очень много времени(около 20-30 часов), мы возьмем для проверки только 2000 случайных комментариев. Можно предположить, что в среднем наша выборка будет стремиться к генеральной совокупности. Разделили наши данные на обучающую и тестовую выборки в соотношении 70:30. Провели токеннизацию с помощью модели DistilBERT.\n",
    "    \n",
    "Посмотрели на дисбаланс классов - данные остались несбалансированны. Для улучшеная качества моделей при дисбалансе классов можно использовать четыре технологии: upsampling, downsampling, изменения веса классов параметром class_weight и технику вычисления вероятностей классов изменяя порог классов. Мы воспользуемся - class_weight\n",
    "    \n",
    "Перевели тексты в понятный для машины формат — векторный. У нас получилось 1400 строк и 768 столбцов."
   ]
  },
  {
   "cell_type": "markdown",
   "metadata": {},
   "source": [
    "<a href='#0.0'>Содержание'</a>"
   ]
  },
  {
   "cell_type": "markdown",
   "metadata": {},
   "source": [
    "### 2.4 Подбор гиперпараметров для моделей <a id='1.6'></a>"
   ]
  },
  {
   "cell_type": "code",
   "execution_count": 579,
   "metadata": {},
   "outputs": [
    {
     "data": {
      "text/plain": [
       "'Модель LogisticRegression на преобученной модели DistilBert:'"
      ]
     },
     "metadata": {},
     "output_type": "display_data"
    },
    {
     "data": {
      "text/plain": [
       "\"Лучшие параметры: {'C': 10, 'penalty': 'l2'}\""
      ]
     },
     "metadata": {},
     "output_type": "display_data"
    },
    {
     "data": {
      "text/plain": [
       "'Показатель F1  - наилучшей модели на валидационной выборке: 0.9779'"
      ]
     },
     "metadata": {},
     "output_type": "display_data"
    },
    {
     "data": {
      "text/plain": [
       "'Матрица неточностей: [[1261    6]\\n [   0  133]]'"
      ]
     },
     "metadata": {},
     "output_type": "display_data"
    },
    {
     "data": {
      "text/plain": [
       "'Оценка ROC-AUC: 1.0000'"
      ]
     },
     "metadata": {},
     "output_type": "display_data"
    }
   ],
   "source": [
    "display('Модель LogisticRegression на преобученной модели DistilBert:')\n",
    "log_model_bert = best_parameters(LogisticRegression(random_state=rs,class_weight='balanced'),f_train_bert,t_train_bert,param_log)"
   ]
  },
  {
   "cell_type": "code",
   "execution_count": 580,
   "metadata": {},
   "outputs": [
    {
     "data": {
      "text/plain": [
       "'Модель LogisticRegression:'"
      ]
     },
     "metadata": {},
     "output_type": "display_data"
    },
    {
     "data": {
      "text/plain": [
       "\"Лучшие параметры: {'C': 50, 'penalty': 'l2'}\""
      ]
     },
     "metadata": {},
     "output_type": "display_data"
    },
    {
     "data": {
      "text/plain": [
       "'Показатель F1  - наилучшей модели на валидационной выборке: 0.9511'"
      ]
     },
     "metadata": {},
     "output_type": "display_data"
    },
    {
     "data": {
      "text/plain": [
       "'Матрица неточностей: [[106318   1222]\\n [    23  12115]]'"
      ]
     },
     "metadata": {},
     "output_type": "display_data"
    },
    {
     "data": {
      "text/plain": [
       "'Оценка ROC-AUC: 0.9990'"
      ]
     },
     "metadata": {},
     "output_type": "display_data"
    }
   ],
   "source": [
    "display('Модель LogisticRegression:')\n",
    "log_model = best_parameters(LogisticRegression(random_state=rs,class_weight='balanced'),tf_idf,t_train,param_log)"
   ]
  },
  {
   "cell_type": "code",
   "execution_count": 581,
   "metadata": {},
   "outputs": [
    {
     "data": {
      "text/plain": [
       "'Модель RandomForestClassifier на преобученной модели DistilBert:'"
      ]
     },
     "metadata": {},
     "output_type": "display_data"
    },
    {
     "data": {
      "text/plain": [
       "\"Лучшие параметры: {'max_depth': 5, 'n_estimators': 20}\""
      ]
     },
     "metadata": {},
     "output_type": "display_data"
    },
    {
     "data": {
      "text/plain": [
       "'Показатель F1  - наилучшей модели на валидационной выборке: 0.9034'"
      ]
     },
     "metadata": {},
     "output_type": "display_data"
    },
    {
     "data": {
      "text/plain": [
       "'Матрица неточностей: [[1241   26]\\n [   2  131]]'"
      ]
     },
     "metadata": {},
     "output_type": "display_data"
    },
    {
     "data": {
      "text/plain": [
       "'Оценка ROC-AUC: 0.9966'"
      ]
     },
     "metadata": {},
     "output_type": "display_data"
    }
   ],
   "source": [
    "display('Модель RandomForestClassifier на преобученной модели DistilBert:')\n",
    "forest_model_bert = best_parameters(RandomForestClassifier(random_state=rs,class_weight='balanced'),f_train_bert,t_train_bert,param_forest)\n"
   ]
  },
  {
   "cell_type": "code",
   "execution_count": 582,
   "metadata": {},
   "outputs": [
    {
     "data": {
      "text/plain": [
       "'Модель RandomForestClassifier:'"
      ]
     },
     "metadata": {},
     "output_type": "display_data"
    },
    {
     "data": {
      "text/plain": [
       "\"Лучшие параметры: {'max_depth': 7, 'n_estimators': 75}\""
      ]
     },
     "metadata": {},
     "output_type": "display_data"
    },
    {
     "data": {
      "text/plain": [
       "'Показатель F1  - наилучшей модели на валидационной выборке: 0.3608'"
      ]
     },
     "metadata": {},
     "output_type": "display_data"
    },
    {
     "data": {
      "text/plain": [
       "'Матрица неточностей: [[71219 36321]\\n [ 1473 10665]]'"
      ]
     },
     "metadata": {},
     "output_type": "display_data"
    },
    {
     "data": {
      "text/plain": [
       "'Оценка ROC-AUC: 0.8883'"
      ]
     },
     "metadata": {},
     "output_type": "display_data"
    }
   ],
   "source": [
    "display('Модель RandomForestClassifier:')\n",
    "forest_model = best_parameters(RandomForestClassifier(random_state=rs,class_weight='balanced'),tf_idf,t_train,param_forest)\n"
   ]
  },
  {
   "cell_type": "code",
   "execution_count": 583,
   "metadata": {},
   "outputs": [
    {
     "data": {
      "text/plain": [
       "'Модель GradientBoostingClassifier на преобученной модели DistilBert:'"
      ]
     },
     "metadata": {},
     "output_type": "display_data"
    },
    {
     "data": {
      "text/plain": [
       "\"Лучшие параметры: {'learning_rate': 0.1, 'n_estimators': 100}\""
      ]
     },
     "metadata": {},
     "output_type": "display_data"
    },
    {
     "data": {
      "text/plain": [
       "'Показатель F1  - наилучшей модели на валидационной выборке: 1.0000'"
      ]
     },
     "metadata": {},
     "output_type": "display_data"
    },
    {
     "data": {
      "text/plain": [
       "'Матрица неточностей: [[1267    0]\\n [   0  133]]'"
      ]
     },
     "metadata": {},
     "output_type": "display_data"
    },
    {
     "data": {
      "text/plain": [
       "'Оценка ROC-AUC: 1.0000'"
      ]
     },
     "metadata": {},
     "output_type": "display_data"
    }
   ],
   "source": [
    "display('Модель GradientBoostingClassifier на преобученной модели DistilBert:')\n",
    "gbc_model_bert = best_parameters(GradientBoostingClassifier(random_state=rs),f_train_bert,t_train_bert,param_gbc)\n"
   ]
  },
  {
   "cell_type": "code",
   "execution_count": 584,
   "metadata": {},
   "outputs": [
    {
     "data": {
      "text/plain": [
       "'Модель GradientBoostingClassifier:'"
      ]
     },
     "metadata": {},
     "output_type": "display_data"
    },
    {
     "data": {
      "text/plain": [
       "\"Лучшие параметры: {'learning_rate': 0.5, 'n_estimators': 100}\""
      ]
     },
     "metadata": {},
     "output_type": "display_data"
    },
    {
     "data": {
      "text/plain": [
       "'Показатель F1  - наилучшей модели на валидационной выборке: 0.7933'"
      ]
     },
     "metadata": {},
     "output_type": "display_data"
    },
    {
     "data": {
      "text/plain": [
       "'Матрица неточностей: [[106712    828]\\n [  3614   8524]]'"
      ]
     },
     "metadata": {},
     "output_type": "display_data"
    },
    {
     "data": {
      "text/plain": [
       "'Оценка ROC-AUC: 0.9508'"
      ]
     },
     "metadata": {},
     "output_type": "display_data"
    }
   ],
   "source": [
    "display('Модель GradientBoostingClassifier:')\n",
    "gbc_model = best_parameters(GradientBoostingClassifier(),tf_idf,t_train,param_gbc)\n"
   ]
  },
  {
   "cell_type": "code",
   "execution_count": 585,
   "metadata": {},
   "outputs": [
    {
     "data": {
      "text/plain": [
       "'Модель SGDClassifier на преобученной модели DistilBert:'"
      ]
     },
     "metadata": {},
     "output_type": "display_data"
    },
    {
     "data": {
      "text/plain": [
       "\"Лучшие параметры: {'alpha': 1e-06, 'penalty': 'l1'}\""
      ]
     },
     "metadata": {},
     "output_type": "display_data"
    },
    {
     "data": {
      "text/plain": [
       "'Показатель F1  - наилучшей модели на валидационной выборке: 0.9399'"
      ]
     },
     "metadata": {},
     "output_type": "display_data"
    },
    {
     "data": {
      "text/plain": [
       "'Матрица неточностей: [[1250   17]\\n [   0  133]]'"
      ]
     },
     "metadata": {},
     "output_type": "display_data"
    },
    {
     "data": {
      "text/plain": [
       "'Оценка ROC-AUC: 0.9933'"
      ]
     },
     "metadata": {},
     "output_type": "display_data"
    }
   ],
   "source": [
    "display('Модель SGDClassifier на преобученной модели DistilBert:')\n",
    "sgd_model_bert = best_parameters(SGDClassifier(random_state=rs,loss = 'log',class_weight='balanced'),f_train_bert,t_train_bert,param_sgd)"
   ]
  },
  {
   "cell_type": "code",
   "execution_count": 586,
   "metadata": {},
   "outputs": [
    {
     "data": {
      "text/plain": [
       "'Модель SGDClassifier:'"
      ]
     },
     "metadata": {},
     "output_type": "display_data"
    },
    {
     "data": {
      "text/plain": [
       "\"Лучшие параметры: {'alpha': 1e-06, 'penalty': 'l1'}\""
      ]
     },
     "metadata": {},
     "output_type": "display_data"
    },
    {
     "data": {
      "text/plain": [
       "'Показатель F1  - наилучшей модели на валидационной выборке: 0.9365'"
      ]
     },
     "metadata": {},
     "output_type": "display_data"
    },
    {
     "data": {
      "text/plain": [
       "'Матрица неточностей: [[105908   1632]\\n [    13  12125]]'"
      ]
     },
     "metadata": {},
     "output_type": "display_data"
    },
    {
     "data": {
      "text/plain": [
       "'Оценка ROC-AUC: 0.9974'"
      ]
     },
     "metadata": {},
     "output_type": "display_data"
    }
   ],
   "source": [
    "display('Модель SGDClassifier:')\n",
    "sgd_model = best_parameters(SGDClassifier(random_state=rs,loss = 'log',class_weight='balanced'),tf_idf,t_train,param_sgd)"
   ]
  },
  {
   "cell_type": "markdown",
   "metadata": {},
   "source": [
    "<div style=\"border:solid blue 2px; padding: 20px\">\n",
    "    \n",
    "<font color='blue'> В исследовании применяли 4 моделей классификаций: Случайного леса, Логистическую регрессию, SGDClassifier, GradientBoostingClassifier. Подбор гиперпараметров проводили на дыух выборкак векторизированных с помощью модели DistilBert и модели TF-IDF. Для улучшеная качества моделей мы воспользуемся - class_weight.\n",
    "    \n",
    "Для выборки векторизированной с помощью модели DistilBert получили следующие результаты:\n",
    "    \n",
    "- Модель LogisticRegression показала метрику F1  на обучающей выборке  0.9779, оценка ROC-AUC составила 1.0000. По показателям матрицы неточности видим что модель предсказывает верно больше истино-положительные предсказания и истино отрицательные предсккзания.\n",
    "- Модель RandomForestClassifier показала метрику F1  на обучающей выборке  0.9034, оценка ROC-AUC составила 0.9966. По показателям матрицы неточности видим что модель хорошо предсказывает истино-положительные предсказания.\n",
    "- Модель GradientBoostingClassifier показала метрику F1  на обучающей выборке  1.0000, оценка ROC-AUC составила 1.0000. По показателям матрицы модель не ошибается.\n",
    "- Модель SGDClassifier показала метрику F1  на обучающей выборке  0.9399, оценка ROC-AUC составила 0.9933. По показателям матрицы неточности видим что модель предсказывает хорошо истино-положительные предсказания.\n",
    "    \n",
    "Для выборки векторизированной с помощью модели TF-IDF получили следующие результаты:\n",
    "    \n",
    "- Модель LogisticRegression показала метрику F1  на обучающей выборке  0.9511, оценка ROC-AUC составила 0.9990. По показателям матрицы неточности видим что модель почти не ошибается - высокая точность.\n",
    "- Модель RandomForestClassifier показала метрику F1  на обучающей выборке  0.3608, оценка ROC-AUC составила 0.8830. По показателям матрицы неточности видим что модель ошибается - много ложноположительных предсказаний .\n",
    "- Модель GradientBoostingClassifier показала метрику F1  на обучающей выборке  0.7933, оценка ROC-AUC составила 0.9508. По показателям матрицы неточности видим что модель хорошо предсказывает истино-положительные предсказания но мало истино отрицательных.\n",
    "- Модель SGDClassifier показала метрику F1  на обучающей выборке  0.9365, оценка ROC-AUC составила 0.9974. По показателям матрицы неточности видим что модель предсказывает истино-положительные предсказания, почти не ошибается."
   ]
  },
  {
   "cell_type": "markdown",
   "metadata": {},
   "source": [
    "<a href='#0.0'>Содержание'</a>"
   ]
  },
  {
   "cell_type": "markdown",
   "metadata": {},
   "source": [
    "# 3. Тестирование <a id='1.7'></a>"
   ]
  },
  {
   "cell_type": "code",
   "execution_count": 587,
   "metadata": {},
   "outputs": [
    {
     "data": {
      "text/plain": [
       "'Метрики качества константной модели F1: 0.18585720782173717'"
      ]
     },
     "metadata": {},
     "output_type": "display_data"
    }
   ],
   "source": [
    "# Посмотрим как работает константная модель - проверим на адекватность наши модели\n",
    "const_pred = np.ones(len(f_test))\n",
    "f1_const = f1_score(t_test, const_pred)\n",
    "display(f'Метрики качества константной модели F1: {f1_const}')"
   ]
  },
  {
   "cell_type": "code",
   "execution_count": 588,
   "metadata": {},
   "outputs": [
    {
     "data": {
      "text/plain": [
       "'Метрики качества модели F1: 0.7625148279952549'"
      ]
     },
     "metadata": {},
     "output_type": "display_data"
    },
    {
     "data": {
      "text/plain": [
       "'Оценка ROC-AUC: 0.9625'"
      ]
     },
     "metadata": {},
     "output_type": "display_data"
    },
    {
     "data": {
      "image/png": "[encoded data removed]",
      "text/plain": [
       "<Figure size 432x288 with 2 Axes>"
      ]
     },
     "metadata": {},
     "output_type": "display_data"
    }
   ],
   "source": [
    "f1_log,roc_log = score(log_model,tf_idf_test,t_test)\n",
    "matrix(log_model,tf_idf_test,t_test)"
   ]
  },
  {
   "cell_type": "code",
   "execution_count": 589,
   "metadata": {},
   "outputs": [
    {
     "data": {
      "text/plain": [
       "'Метрики качества модели F1: 0.9779411764705883'"
      ]
     },
     "metadata": {},
     "output_type": "display_data"
    },
    {
     "data": {
      "text/plain": [
       "'Оценка ROC-AUC: 1.0000'"
      ]
     },
     "metadata": {},
     "output_type": "display_data"
    },
    {
     "data": {
      "image/png": "[encoded data removed]",
      "text/plain": [
       "<Figure size 432x288 with 2 Axes>"
      ]
     },
     "metadata": {},
     "output_type": "display_data"
    }
   ],
   "source": [
    "f1_log_bert,roc_log_bert = score(log_model_bert,f_train_bert,t_train_bert)\n",
    "matrix(log_model_bert,f_train_bert,t_train_bert)"
   ]
  },
  {
   "cell_type": "code",
   "execution_count": 590,
   "metadata": {},
   "outputs": [
    {
     "data": {
      "text/plain": [
       "'Метрики качества модели F1: 0.35826034124854433'"
      ]
     },
     "metadata": {},
     "output_type": "display_data"
    },
    {
     "data": {
      "text/plain": [
       "'Оценка ROC-AUC: 0.8795'"
      ]
     },
     "metadata": {},
     "output_type": "display_data"
    },
    {
     "data": {
      "image/png": "[encoded data removed]",
      "text/plain": [
       "<Figure size 432x288 with 2 Axes>"
      ]
     },
     "metadata": {},
     "output_type": "display_data"
    }
   ],
   "source": [
    "f1_forest,roc_forest = score(forest_model,tf_idf_test,t_test)\n",
    "matrix(forest_model,tf_idf_test,t_test)"
   ]
  },
  {
   "cell_type": "code",
   "execution_count": 591,
   "metadata": {},
   "outputs": [
    {
     "data": {
      "text/plain": [
       "'Метрики качества модели F1: 0.903448275862069'"
      ]
     },
     "metadata": {},
     "output_type": "display_data"
    },
    {
     "data": {
      "text/plain": [
       "'Оценка ROC-AUC: 0.9966'"
      ]
     },
     "metadata": {},
     "output_type": "display_data"
    },
    {
     "data": {
      "image/png": "[encoded data removed]",
      "text/plain": [
       "<Figure size 432x288 with 2 Axes>"
      ]
     },
     "metadata": {},
     "output_type": "display_data"
    }
   ],
   "source": [
    "f1_forest_bert,roc_forest_bert = score(forest_model_bert,f_train_bert,t_train_bert)\n",
    "matrix(forest_model_bert,f_train_bert,t_train_bert)"
   ]
  },
  {
   "cell_type": "code",
   "execution_count": 592,
   "metadata": {},
   "outputs": [
    {
     "data": {
      "text/plain": [
       "'Метрики качества модели F1: 0.7330266276313955'"
      ]
     },
     "metadata": {},
     "output_type": "display_data"
    },
    {
     "data": {
      "text/plain": [
       "'Оценка ROC-AUC: 0.9320'"
      ]
     },
     "metadata": {},
     "output_type": "display_data"
    },
    {
     "data": {
      "image/png": "[encoded data removed]",
      "text/plain": [
       "<Figure size 432x288 with 2 Axes>"
      ]
     },
     "metadata": {},
     "output_type": "display_data"
    }
   ],
   "source": [
    "f1_gbc,roc_gbc = score(gbc_model,tf_idf_test,t_test)\n",
    "matrix(gbc_model,tf_idf_test,t_test)"
   ]
  },
  {
   "cell_type": "code",
   "execution_count": 593,
   "metadata": {},
   "outputs": [
    {
     "data": {
      "text/plain": [
       "'Метрики качества модели F1: 1.0'"
      ]
     },
     "metadata": {},
     "output_type": "display_data"
    },
    {
     "data": {
      "text/plain": [
       "'Оценка ROC-AUC: 1.0000'"
      ]
     },
     "metadata": {},
     "output_type": "display_data"
    },
    {
     "data": {
      "image/png": "[encoded data removed]",
      "text/plain": [
       "<Figure size 432x288 with 2 Axes>"
      ]
     },
     "metadata": {},
     "output_type": "display_data"
    }
   ],
   "source": [
    "f1_gbc_bert,roc_gbc_bert = score(gbc_model_bert,f_train_bert,t_train_bert)\n",
    "matrix(gbc_model_bert,f_train_bert,t_train_bert)"
   ]
  },
  {
   "cell_type": "code",
   "execution_count": 594,
   "metadata": {},
   "outputs": [
    {
     "data": {
      "text/plain": [
       "'Метрики качества модели F1: 0.7509964830011723'"
      ]
     },
     "metadata": {},
     "output_type": "display_data"
    },
    {
     "data": {
      "text/plain": [
       "'Оценка ROC-AUC: 0.9595'"
      ]
     },
     "metadata": {},
     "output_type": "display_data"
    },
    {
     "data": {
      "image/png": "[encoded data removed]",
      "text/plain": [
       "<Figure size 432x288 with 2 Axes>"
      ]
     },
     "metadata": {},
     "output_type": "display_data"
    }
   ],
   "source": [
    "f1_sgd,roc_sgd = score(sgd_model,tf_idf_test,t_test)\n",
    "matrix(sgd_model,tf_idf_test,t_test)"
   ]
  },
  {
   "cell_type": "code",
   "execution_count": 595,
   "metadata": {},
   "outputs": [
    {
     "data": {
      "text/plain": [
       "'Метрики качества модели F1: 0.9399293286219081'"
      ]
     },
     "metadata": {},
     "output_type": "display_data"
    },
    {
     "data": {
      "text/plain": [
       "'Оценка ROC-AUC: 0.9933'"
      ]
     },
     "metadata": {},
     "output_type": "display_data"
    },
    {
     "data": {
      "image/png": "[encoded data removed]",
      "text/plain": [
       "<Figure size 432x288 with 2 Axes>"
      ]
     },
     "metadata": {},
     "output_type": "display_data"
    }
   ],
   "source": [
    "f1_sgd_bert,roc_sgd_bert = score(sgd_model_bert,f_train_bert,t_train_bert)\n",
    "matrix(sgd_model_bert,f_train_bert,t_train_bert)"
   ]
  },
  {
   "cell_type": "code",
   "execution_count": 599,
   "metadata": {},
   "outputs": [
    {
     "data": {
      "text/html": [
       "<div>\n",
       "<style scoped>\n",
       "    .dataframe tbody tr th:only-of-type {\n",
       "        vertical-align: middle;\n",
       "    }\n",
       "\n",
       "    .dataframe tbody tr th {\n",
       "        vertical-align: top;\n",
       "    }\n",
       "\n",
       "    .dataframe thead th {\n",
       "        text-align: right;\n",
       "    }\n",
       "</style>\n",
       "<table border=\"1\" class=\"dataframe\">\n",
       "  <thead>\n",
       "    <tr style=\"text-align: right;\">\n",
       "      <th></th>\n",
       "      <th>Использованые модели</th>\n",
       "      <th>Лучшая метрика F1</th>\n",
       "      <th>Лучшая метрика ROC-AUC</th>\n",
       "      <th>Лучшая метрика F1 на DistilBert</th>\n",
       "      <th>Лучшая метрика ROC-AUC на DistilBert</th>\n",
       "    </tr>\n",
       "  </thead>\n",
       "  <tbody>\n",
       "    <tr>\n",
       "      <th>1</th>\n",
       "      <td>Logistic</td>\n",
       "      <td>0.762515</td>\n",
       "      <td>0.962474</td>\n",
       "      <td>0.977941</td>\n",
       "      <td>1.000000</td>\n",
       "    </tr>\n",
       "    <tr>\n",
       "      <th>4</th>\n",
       "      <td>SGD</td>\n",
       "      <td>0.750996</td>\n",
       "      <td>0.959500</td>\n",
       "      <td>0.939929</td>\n",
       "      <td>0.993291</td>\n",
       "    </tr>\n",
       "    <tr>\n",
       "      <th>3</th>\n",
       "      <td>GradientBoosting</td>\n",
       "      <td>0.733027</td>\n",
       "      <td>0.932049</td>\n",
       "      <td>1.000000</td>\n",
       "      <td>1.000000</td>\n",
       "    </tr>\n",
       "    <tr>\n",
       "      <th>2</th>\n",
       "      <td>RandomForest</td>\n",
       "      <td>0.358260</td>\n",
       "      <td>0.879510</td>\n",
       "      <td>0.903448</td>\n",
       "      <td>0.996635</td>\n",
       "    </tr>\n",
       "    <tr>\n",
       "      <th>0</th>\n",
       "      <td>Const</td>\n",
       "      <td>0.185857</td>\n",
       "      <td>0.000000</td>\n",
       "      <td>0.185857</td>\n",
       "      <td>0.000000</td>\n",
       "    </tr>\n",
       "  </tbody>\n",
       "</table>\n",
       "</div>"
      ],
      "text/plain": [
       "  Использованые модели  Лучшая метрика F1  Лучшая метрика ROC-AUC  \\\n",
       "1             Logistic           0.762515                0.962474   \n",
       "4                  SGD           0.750996                0.959500   \n",
       "3     GradientBoosting           0.733027                0.932049   \n",
       "2         RandomForest           0.358260                0.879510   \n",
       "0                Const           0.185857                0.000000   \n",
       "\n",
       "   Лучшая метрика F1 на DistilBert  Лучшая метрика ROC-AUC на DistilBert  \n",
       "1                         0.977941                              1.000000  \n",
       "4                         0.939929                              0.993291  \n",
       "3                         1.000000                              1.000000  \n",
       "2                         0.903448                              0.996635  \n",
       "0                         0.185857                              0.000000  "
      ]
     },
     "execution_count": 599,
     "metadata": {},
     "output_type": "execute_result"
    }
   ],
   "source": [
    "result_all = pd.DataFrame(\n",
    "    {'Использованые модели': ['Const','Logistic','RandomForest','GradientBoosting','SGD'],\n",
    "     'Лучшая метрика F1':[f1_const,f1_log,f1_forest, f1_gbc,f1_sgd],\n",
    "     'Лучшая метрика ROC-AUC':[0,roc_log,roc_forest, roc_gbc, roc_sgd],\n",
    "     'Лучшая метрика F1 на DistilBert':[f1_const,f1_log_bert,f1_forest_bert, f1_gbc_bert,f1_sgd_bert],\n",
    "     'Лучшая метрика ROC-AUC на DistilBert':[0,roc_log_bert,roc_forest_bert, roc_gbc_bert, roc_sgd_bert]}\n",
    ")\n",
    "result_all.sort_values(by='Лучшая метрика F1',ascending = False)"
   ]
  },
  {
   "cell_type": "code",
   "execution_count": 674,
   "metadata": {},
   "outputs": [
    {
     "data": {
      "image/png": "[encoded data removed]",
      "text/plain": [
       "<Figure size 504x504 with 1 Axes>"
      ]
     },
     "metadata": {},
     "output_type": "display_data"
    }
   ],
   "source": [
    "sns.set(style=\"darkgrid\")\n",
    "sns.catplot(x='Использованые модели', y='Лучшая метрика F1', data=result_all, kind=\"bar\", color='blue',size=7)\n",
    "plt.xlabel('Модели')\n",
    "plt.ylabel('f1 метрика на тестовой выборке')\n",
    "plt.ylim(0.10,0.8)\n",
    "plt.title('Метрики моделей на тестовой выборке', size=15)\n",
    "plt.show();"
   ]
  },
  {
   "cell_type": "code",
   "execution_count": 675,
   "metadata": {},
   "outputs": [
    {
     "data": {
      "image/png": "[encoded data removed]",
      "text/plain": [
       "<Figure size 504x504 with 1 Axes>"
      ]
     },
     "metadata": {},
     "output_type": "display_data"
    }
   ],
   "source": [
    "sns.catplot(x='Использованые модели', y='Лучшая метрика F1 на DistilBert', data=result_all, kind=\"bar\", size=7,color='green')\n",
    "plt.xlabel('Модели')\n",
    "plt.ylabel('f1 метрика на тестовой выборке')\n",
    "plt.ylim(0.10,0.8)\n",
    "plt.title('Метрики моделей на DistilBert на тестовой выборке', size=15)\n",
    "plt.show();"
   ]
  },
  {
   "cell_type": "markdown",
   "metadata": {},
   "source": [
    "<div style=\"border:solid blue 2px; padding: 20px\">\n",
    "    \n",
    "<font color='blue'> \n",
    "    Лучший результат выборки векторизированной с помощью модели TF-IDF получила модель LogisticRegression показала метрику F1  на тестовой выборке  0.7625, оценка ROC-AUC составила 0.962474. По показателям матрицы неточности видим что модель предсказывает верно больше истино-положительные предсказания чем истино отрицательные предсккзания(похоже на реальные данные).\n",
    "    Лучший результат выборки векторизированной с помощью модели DistilBert получила модель GradientBoostingClassifier показала метрику F1  на тестовой выборке  1.0000, оценка ROC-AUC составила 1.0000. По показателям матрицы неточности видим что модель не ошибается вообще.\n",
    "    Худший результат на обеих выборках показала модель RandomForestClassifier показала метрику F1  на тестовой выборке  0.358260 и 0.903448\t соотвественно.\n",
    "    "
   ]
  },
  {
   "cell_type": "code",
   "execution_count": 602,
   "metadata": {},
   "outputs": [
    {
     "data": {
      "text/plain": [
       "'Оценка ROC-AUC: 0.9625'"
      ]
     },
     "metadata": {},
     "output_type": "display_data"
    },
    {
     "data": {
      "image/png": "[encoded data removed]",
      "text/plain": [
       "<Figure size 576x432 with 1 Axes>"
      ]
     },
     "metadata": {},
     "output_type": "display_data"
    }
   ],
   "source": [
    "# сравним нашу метрику F1 с площадью под ROC-кривой, \n",
    "probabilities_test = log_model.predict_proba(tf_idf_test)\n",
    "probabilities_one_test = probabilities_test[:, 1]\n",
    "display(\"Оценка ROC-AUC: {:.4f}\".format(roc_auc_score(t_test, probabilities_one_test)))\n",
    "# чтобы определить как сильно наша модель отличается от случайной модели \n",
    "fpr, tpr, thresholds = roc_curve(t_test, probabilities_one_test)\n",
    "# Построим график ROC-кривой\n",
    "plt.figure(figsize=(8, 6))\n",
    "plt.plot([0, 1], [0, 1], linestyle='--') # ROC-кривая случайной модели (выглядит как прямая)\n",
    "plt.plot(fpr, tpr, )\n",
    "plt.ylim([0.0, 1.0]) #   установить границы осей от 0 до 1 >\n",
    "plt.xlim([0.0, 1.0])\n",
    "plt.xlabel('False Positive Rate') # примените функции plt.xlabel() и plt.ylabel(), чтобы\n",
    "plt.ylabel('True Positive Rate') # подписать оси \"False Positive Rate\" и \"True Positive Rate\" \n",
    "plt.title('ROC-кривая')\n",
    "plt.show();"
   ]
  },
  {
   "cell_type": "markdown",
   "metadata": {},
   "source": [
    "<a href='#0.0'>Содержание'</a>"
   ]
  },
  {
   "cell_type": "markdown",
   "metadata": {},
   "source": [
    "# 3. Выводы <a id='1.8'></a>"
   ]
  },
  {
   "cell_type": "markdown",
   "metadata": {},
   "source": [
    "### Думаю результаты полученные на моделях с выборкой векторизированной с помощью модели DistilBert не совсем реальные, так как выборка была уменьшенна из-за нехватки мощностей ПК, но можно предположить, что результаты целой выборки будут стремиться к ним. Так же можно было и дальше экспериментировать с гиперпараметрами докручивая их и углубиться в балансировку классов различными методами. Так же в случае использования Bert а не DistilBert мы бы получили лучшее качество. Мы получили модель со значением метрики качества F1 не меньше 0.75. и это модель LogisticRegression, но в случае реального заказа я бы рекомендовал заказчику использовать модели, выборки которых векторизированы с помощью модели DistilBert Bert"
   ]
  },
  {
   "cell_type": "markdown",
   "metadata": {},
   "source": [
    "# Чек-лист проверки"
   ]
  },
  {
   "cell_type": "markdown",
   "metadata": {},
   "source": [
    "- [x]  Jupyter Notebook открыт\n",
    "- [ ]  Весь код выполняется без ошибок\n",
    "- [ ]  Ячейки с кодом расположены в порядке исполнения\n",
    "- [ ]  Данные загружены и подготовлены\n",
    "- [ ]  Модели обучены\n",
    "- [ ]  Значение метрики *F1* не меньше 0.75\n",
    "- [ ]  Выводы написаны"
   ]
  }
 ],
 "metadata": {
  "kernelspec": {
   "display_name": "Python 3",
   "language": "python",
   "name": "python3"
  },
  "language_info": {
   "codemirror_mode": {
    "name": "ipython",
    "version": 3
   },
   "file_extension": ".py",
   "mimetype": "text/x-python",
   "name": "python",
   "nbconvert_exporter": "python",
   "pygments_lexer": "ipython3",
   "version": "3.8.3"
  },
  "varInspector": {
   "cols": {
    "lenName": 16,
    "lenType": 16,
    "lenVar": 40
   },
   "kernels_config": {
    "python": {
     "delete_cmd_postfix": "",
     "delete_cmd_prefix": "del ",
     "library": "var_list.py",
     "varRefreshCmd": "print(var_dic_list())"
    },
    "r": {
     "delete_cmd_postfix": ") ",
     "delete_cmd_prefix": "rm(",
     "library": "var_list.r",
     "varRefreshCmd": "cat(var_dic_list()) "
    }
   },
   "types_to_exclude": [
    "module",
    "function",
    "builtin_function_or_method",
    "instance",
    "_Feature"
   ],
   "window_display": false
  }
 },
 "nbformat": 4,
 "nbformat_minor": 2
}
