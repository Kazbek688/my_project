{
 "cells": [
  {
   "cell_type": "markdown",
   "metadata": {},
   "source": [
    "# Описание проекта\n",
    "Сервис по продаже автомобилей с пробегом «Не бит, не крашен» разрабатывает приложение для привлечения новых клиентов. В нём можно быстро узнать рыночную стоимость своего автомобиля. В вашем распоряжении исторические данные: технические характеристики, комплектации и цены автомобилей. Вам нужно построить модель для определения стоимости. \n",
    "\n",
    "Заказчику важны:\n",
    "\n",
    "- качество предсказания;\n",
    "- скорость предсказания;\n",
    "- время обучения."
   ]
  },
  {
   "cell_type": "markdown",
   "metadata": {},
   "source": [
    "# Инструкция по выполнению проекта\n",
    "Чтобы усилить исследование, не ограничивайтесь градиентным бустингом. Попробуйте более простые модели — иногда они работают лучше. Это редкие случаи, которые легко пропустить, если всегда применять только бустинг. Поэкспериментируйте и сравните характеристики моделей: скорость работы, точность результата.\n",
    "Проанализируйте скорость работы и качество моделей.\n",
    "\n",
    "Примечания:\n",
    "- Для оценки качества моделей применяйте метрику RMSE.\n",
    "- Самостоятельно освойте библиотеку LightGBM и её средствами постройте модели градиентного бустинга.\n",
    "- Время выполнения ячейки кода Jupyter Notebook можно получить специальной командой. Найдите её.\n",
    "- Поскольку модель градиентного бустинга может обучаться долго, измените у неё только два-три параметра.\n",
    "- Если перестанет работать Jupyter Notebook, удалите лишние переменные оператором del:\n"
   ]
  },
  {
   "cell_type": "markdown",
   "metadata": {},
   "source": [
    "# Описание данных"
   ]
  },
  {
   "cell_type": "markdown",
   "metadata": {},
   "source": [
    "Признаки:\n",
    "- DateCrawled — дата скачивания анкеты из базы\n",
    "- VehicleType — тип автомобильного кузова\n",
    "- RegistrationYear — год регистрации автомобиля\n",
    "- Gearbox — тип коробки передач\n",
    "- Power — мощность (л. с.)\n",
    "- Model — модель автомобиля\n",
    "- Kilometer — пробег (км)\n",
    "- RegistrationMonth — месяц регистрации автомобиля\n",
    "- FuelType — тип топлива\n",
    "- Brand — марка автомобиля\n",
    "- NotRepaired — была машина в ремонте или нет\n",
    "- DateCreated — дата создания анкеты\n",
    "- NumberOfPictures — количество фотографий автомобиля\n",
    "- PostalCode — почтовый индекс владельца анкеты (пользователя)\n",
    "- LastSeen — дата последней активности пользователя\n",
    "\n",
    "Целевой признак:\n",
    "- Price — цена (евро)"
   ]
  },
  {
   "cell_type": "markdown",
   "metadata": {},
   "source": [
    "Тайминг:\n",
    "\n",
    "- %time – определяет время выполнения команды\n",
    "- %timeit – определяет среднее время выполнения команды, многократно повторяя ее\n",
    "- %%time – определяет время выполнения ячейки\n",
    "- %%timeit – определяет среднее время выполнения ячейки\n",
    "\n",
    "Профилирование:\n",
    "\n",
    "- %prun – показывает как много времени подпрограмма тратит в каждой из функций\n",
    "- %mprun – трэкинг использования памяти"
   ]
  },
  {
   "cell_type": "markdown",
   "metadata": {},
   "source": [
    "# Содержание <a id='0.0'></a>\n",
    "\n",
    "<a href='#1.1'>1. Подготовка данных'</a>\n",
    "\n",
    " - <a href='#1.2'>1.1 загрузка и предобработка данных'</a>\n",
    " - <a href='#1.3'>1.2 определение корреляции данных'</a>\n",
    " - <a href='#1.4'>1.3 Изучение распределение данных'</a>\n",
    " \n",
    "<a href='#1.5'>2. Обучение моделей'</a>\n",
    "\n",
    " - <a href='#1.6'>2.1 Разделение выборки'</a>\n",
    " - <a href='#1.7'>2.2 Подбор наилучших параметров моделей'</a>\n",
    "\n",
    "<a href='#1.8'>3. Анализ моделей'</a>\n",
    "\n",
    "<a href='#1.9'>4. Выводы'</a>\n"
   ]
  },
  {
   "cell_type": "markdown",
   "metadata": {},
   "source": [
    "# 1. Подготовка данных <a id='1.1'></a>"
   ]
  },
  {
   "cell_type": "code",
   "execution_count": 807,
   "metadata": {},
   "outputs": [],
   "source": [
    "import pandas as pd\n",
    "from IPython.display import display\n",
    "import matplotlib.pyplot as plt\n",
    "import numpy as np\n",
    "import seaborn as sns\n",
    "import scipy as sp\n",
    "import timeit\n",
    "from sklearn.model_selection import train_test_split, GridSearchCV, RandomizedSearchCV\n",
    "from sklearn.preprocessing import StandardScaler, LabelEncoder,OrdinalEncoder,OneHotEncoder\n",
    "from sklearn.metrics import mean_squared_error, make_scorer\n",
    "from sklearn.linear_model import LinearRegression\n",
    "from sklearn.ensemble import RandomForestRegressor\n",
    "from sklearn.tree import DecisionTreeRegressor\n",
    "from sklearn.dummy import DummyRegressor\n",
    "import lightgbm as lgb\n",
    "from lightgbm import LGBMRegressor\n",
    "from catboost import CatBoostRegressor\n",
    "import warnings\n",
    "warnings.filterwarnings(\"ignore\")\n",
    "# Импортируем необходимые библиотеки."
   ]
  },
  {
   "cell_type": "markdown",
   "metadata": {},
   "source": [
    "### 1.2 Загрузка и предобработка данных"
   ]
  },
  {
   "cell_type": "code",
   "execution_count": 613,
   "metadata": {},
   "outputs": [
    {
     "data": {
      "text/html": [
       "<div>\n",
       "<style scoped>\n",
       "    .dataframe tbody tr th:only-of-type {\n",
       "        vertical-align: middle;\n",
       "    }\n",
       "\n",
       "    .dataframe tbody tr th {\n",
       "        vertical-align: top;\n",
       "    }\n",
       "\n",
       "    .dataframe thead th {\n",
       "        text-align: right;\n",
       "    }\n",
       "</style>\n",
       "<table border=\"1\" class=\"dataframe\">\n",
       "  <thead>\n",
       "    <tr style=\"text-align: right;\">\n",
       "      <th></th>\n",
       "      <th>DateCrawled</th>\n",
       "      <th>Price</th>\n",
       "      <th>VehicleType</th>\n",
       "      <th>RegistrationYear</th>\n",
       "      <th>Gearbox</th>\n",
       "      <th>Power</th>\n",
       "      <th>Model</th>\n",
       "      <th>Kilometer</th>\n",
       "      <th>RegistrationMonth</th>\n",
       "      <th>FuelType</th>\n",
       "      <th>Brand</th>\n",
       "      <th>NotRepaired</th>\n",
       "      <th>DateCreated</th>\n",
       "      <th>NumberOfPictures</th>\n",
       "      <th>PostalCode</th>\n",
       "      <th>LastSeen</th>\n",
       "    </tr>\n",
       "  </thead>\n",
       "  <tbody>\n",
       "    <tr>\n",
       "      <th>0</th>\n",
       "      <td>2016-03-24 11:52:17</td>\n",
       "      <td>480</td>\n",
       "      <td>NaN</td>\n",
       "      <td>1993</td>\n",
       "      <td>manual</td>\n",
       "      <td>0</td>\n",
       "      <td>golf</td>\n",
       "      <td>150000</td>\n",
       "      <td>0</td>\n",
       "      <td>petrol</td>\n",
       "      <td>volkswagen</td>\n",
       "      <td>NaN</td>\n",
       "      <td>2016-03-24 00:00:00</td>\n",
       "      <td>0</td>\n",
       "      <td>70435</td>\n",
       "      <td>2016-04-07 03:16:57</td>\n",
       "    </tr>\n",
       "    <tr>\n",
       "      <th>1</th>\n",
       "      <td>2016-03-24 10:58:45</td>\n",
       "      <td>18300</td>\n",
       "      <td>coupe</td>\n",
       "      <td>2011</td>\n",
       "      <td>manual</td>\n",
       "      <td>190</td>\n",
       "      <td>NaN</td>\n",
       "      <td>125000</td>\n",
       "      <td>5</td>\n",
       "      <td>gasoline</td>\n",
       "      <td>audi</td>\n",
       "      <td>yes</td>\n",
       "      <td>2016-03-24 00:00:00</td>\n",
       "      <td>0</td>\n",
       "      <td>66954</td>\n",
       "      <td>2016-04-07 01:46:50</td>\n",
       "    </tr>\n",
       "    <tr>\n",
       "      <th>2</th>\n",
       "      <td>2016-03-14 12:52:21</td>\n",
       "      <td>9800</td>\n",
       "      <td>suv</td>\n",
       "      <td>2004</td>\n",
       "      <td>auto</td>\n",
       "      <td>163</td>\n",
       "      <td>grand</td>\n",
       "      <td>125000</td>\n",
       "      <td>8</td>\n",
       "      <td>gasoline</td>\n",
       "      <td>jeep</td>\n",
       "      <td>NaN</td>\n",
       "      <td>2016-03-14 00:00:00</td>\n",
       "      <td>0</td>\n",
       "      <td>90480</td>\n",
       "      <td>2016-04-05 12:47:46</td>\n",
       "    </tr>\n",
       "    <tr>\n",
       "      <th>3</th>\n",
       "      <td>2016-03-17 16:54:04</td>\n",
       "      <td>1500</td>\n",
       "      <td>small</td>\n",
       "      <td>2001</td>\n",
       "      <td>manual</td>\n",
       "      <td>75</td>\n",
       "      <td>golf</td>\n",
       "      <td>150000</td>\n",
       "      <td>6</td>\n",
       "      <td>petrol</td>\n",
       "      <td>volkswagen</td>\n",
       "      <td>no</td>\n",
       "      <td>2016-03-17 00:00:00</td>\n",
       "      <td>0</td>\n",
       "      <td>91074</td>\n",
       "      <td>2016-03-17 17:40:17</td>\n",
       "    </tr>\n",
       "    <tr>\n",
       "      <th>4</th>\n",
       "      <td>2016-03-31 17:25:20</td>\n",
       "      <td>3600</td>\n",
       "      <td>small</td>\n",
       "      <td>2008</td>\n",
       "      <td>manual</td>\n",
       "      <td>69</td>\n",
       "      <td>fabia</td>\n",
       "      <td>90000</td>\n",
       "      <td>7</td>\n",
       "      <td>gasoline</td>\n",
       "      <td>skoda</td>\n",
       "      <td>no</td>\n",
       "      <td>2016-03-31 00:00:00</td>\n",
       "      <td>0</td>\n",
       "      <td>60437</td>\n",
       "      <td>2016-04-06 10:17:21</td>\n",
       "    </tr>\n",
       "  </tbody>\n",
       "</table>\n",
       "</div>"
      ],
      "text/plain": [
       "           DateCrawled  Price VehicleType  RegistrationYear Gearbox  Power  \\\n",
       "0  2016-03-24 11:52:17    480         NaN              1993  manual      0   \n",
       "1  2016-03-24 10:58:45  18300       coupe              2011  manual    190   \n",
       "2  2016-03-14 12:52:21   9800         suv              2004    auto    163   \n",
       "3  2016-03-17 16:54:04   1500       small              2001  manual     75   \n",
       "4  2016-03-31 17:25:20   3600       small              2008  manual     69   \n",
       "\n",
       "   Model  Kilometer  RegistrationMonth  FuelType       Brand NotRepaired  \\\n",
       "0   golf     150000                  0    petrol  volkswagen         NaN   \n",
       "1    NaN     125000                  5  gasoline        audi         yes   \n",
       "2  grand     125000                  8  gasoline        jeep         NaN   \n",
       "3   golf     150000                  6    petrol  volkswagen          no   \n",
       "4  fabia      90000                  7  gasoline       skoda          no   \n",
       "\n",
       "           DateCreated  NumberOfPictures  PostalCode             LastSeen  \n",
       "0  2016-03-24 00:00:00                 0       70435  2016-04-07 03:16:57  \n",
       "1  2016-03-24 00:00:00                 0       66954  2016-04-07 01:46:50  \n",
       "2  2016-03-14 00:00:00                 0       90480  2016-04-05 12:47:46  \n",
       "3  2016-03-17 00:00:00                 0       91074  2016-03-17 17:40:17  \n",
       "4  2016-03-31 00:00:00                 0       60437  2016-04-06 10:17:21  "
      ]
     },
     "metadata": {},
     "output_type": "display_data"
    },
    {
     "name": "stdout",
     "output_type": "stream",
     "text": [
      "<class 'pandas.core.frame.DataFrame'>\n",
      "RangeIndex: 354369 entries, 0 to 354368\n",
      "Data columns (total 16 columns):\n",
      " #   Column             Non-Null Count   Dtype \n",
      "---  ------             --------------   ----- \n",
      " 0   DateCrawled        354369 non-null  object\n",
      " 1   Price              354369 non-null  int64 \n",
      " 2   VehicleType        316879 non-null  object\n",
      " 3   RegistrationYear   354369 non-null  int64 \n",
      " 4   Gearbox            334536 non-null  object\n",
      " 5   Power              354369 non-null  int64 \n",
      " 6   Model              334664 non-null  object\n",
      " 7   Kilometer          354369 non-null  int64 \n",
      " 8   RegistrationMonth  354369 non-null  int64 \n",
      " 9   FuelType           321474 non-null  object\n",
      " 10  Brand              354369 non-null  object\n",
      " 11  NotRepaired        283215 non-null  object\n",
      " 12  DateCreated        354369 non-null  object\n",
      " 13  NumberOfPictures   354369 non-null  int64 \n",
      " 14  PostalCode         354369 non-null  int64 \n",
      " 15  LastSeen           354369 non-null  object\n",
      "dtypes: int64(7), object(9)\n",
      "memory usage: 43.3+ MB\n"
     ]
    },
    {
     "data": {
      "text/plain": [
       "None"
      ]
     },
     "metadata": {},
     "output_type": "display_data"
    },
    {
     "data": {
      "text/html": [
       "<div>\n",
       "<style scoped>\n",
       "    .dataframe tbody tr th:only-of-type {\n",
       "        vertical-align: middle;\n",
       "    }\n",
       "\n",
       "    .dataframe tbody tr th {\n",
       "        vertical-align: top;\n",
       "    }\n",
       "\n",
       "    .dataframe thead th {\n",
       "        text-align: right;\n",
       "    }\n",
       "</style>\n",
       "<table border=\"1\" class=\"dataframe\">\n",
       "  <thead>\n",
       "    <tr style=\"text-align: right;\">\n",
       "      <th></th>\n",
       "      <th>0</th>\n",
       "      <th>1</th>\n",
       "    </tr>\n",
       "  </thead>\n",
       "  <tbody>\n",
       "    <tr>\n",
       "      <th>NotRepaired</th>\n",
       "      <td>71154</td>\n",
       "      <td>0.200791</td>\n",
       "    </tr>\n",
       "    <tr>\n",
       "      <th>VehicleType</th>\n",
       "      <td>37490</td>\n",
       "      <td>0.105794</td>\n",
       "    </tr>\n",
       "    <tr>\n",
       "      <th>FuelType</th>\n",
       "      <td>32895</td>\n",
       "      <td>0.092827</td>\n",
       "    </tr>\n",
       "    <tr>\n",
       "      <th>Gearbox</th>\n",
       "      <td>19833</td>\n",
       "      <td>0.055967</td>\n",
       "    </tr>\n",
       "    <tr>\n",
       "      <th>Model</th>\n",
       "      <td>19705</td>\n",
       "      <td>0.055606</td>\n",
       "    </tr>\n",
       "  </tbody>\n",
       "</table>\n",
       "</div>"
      ],
      "text/plain": [
       "                 0         1\n",
       "NotRepaired  71154  0.200791\n",
       "VehicleType  37490  0.105794\n",
       "FuelType     32895  0.092827\n",
       "Gearbox      19833  0.055967\n",
       "Model        19705  0.055606"
      ]
     },
     "metadata": {},
     "output_type": "display_data"
    },
    {
     "data": {
      "text/plain": [
       "'Колличество дубликатов - 4'"
      ]
     },
     "metadata": {},
     "output_type": "display_data"
    }
   ],
   "source": [
    "autos = pd.read_csv('/datasets/autos.csv')\n",
    "#autos = pd.read_csv('/Users/kazbek/Desktop/Python/Payton/DS - обучение/Новая папка 2/autos.csv')\n",
    "display(autos.head())\n",
    "display(autos.info())\n",
    "display(pd.concat([autos.isna().sum(), autos.isna().sum()/len(autos)], axis=1).sort_values(by=[0],ascending=False).head())\n",
    "display('Количество дубликатов - {}'.format(autos.duplicated().sum()))\n",
    "# чтение файла. Просмотрим общий вид таблиц и инфу по файлу."
   ]
  },
  {
   "cell_type": "code",
   "execution_count": 614,
   "metadata": {},
   "outputs": [
    {
     "data": {
      "text/html": [
       "<div>\n",
       "<style scoped>\n",
       "    .dataframe tbody tr th:only-of-type {\n",
       "        vertical-align: middle;\n",
       "    }\n",
       "\n",
       "    .dataframe tbody tr th {\n",
       "        vertical-align: top;\n",
       "    }\n",
       "\n",
       "    .dataframe thead th {\n",
       "        text-align: right;\n",
       "    }\n",
       "</style>\n",
       "<table border=\"1\" class=\"dataframe\">\n",
       "  <thead>\n",
       "    <tr style=\"text-align: right;\">\n",
       "      <th></th>\n",
       "      <th>DateCrawled</th>\n",
       "      <th>Price</th>\n",
       "      <th>VehicleType</th>\n",
       "      <th>RegistrationYear</th>\n",
       "      <th>Gearbox</th>\n",
       "      <th>Power</th>\n",
       "      <th>Model</th>\n",
       "      <th>Kilometer</th>\n",
       "      <th>RegistrationMonth</th>\n",
       "      <th>FuelType</th>\n",
       "      <th>Brand</th>\n",
       "      <th>NotRepaired</th>\n",
       "      <th>DateCreated</th>\n",
       "      <th>NumberOfPictures</th>\n",
       "      <th>PostalCode</th>\n",
       "      <th>LastSeen</th>\n",
       "    </tr>\n",
       "  </thead>\n",
       "  <tbody>\n",
       "    <tr>\n",
       "      <th>154</th>\n",
       "      <td>2016-03-22 16:37:59</td>\n",
       "      <td>0</td>\n",
       "      <td>NaN</td>\n",
       "      <td>2006</td>\n",
       "      <td>NaN</td>\n",
       "      <td>0</td>\n",
       "      <td>other</td>\n",
       "      <td>5000</td>\n",
       "      <td>0</td>\n",
       "      <td>NaN</td>\n",
       "      <td>fiat</td>\n",
       "      <td>NaN</td>\n",
       "      <td>2016-03-22 00:00:00</td>\n",
       "      <td>0</td>\n",
       "      <td>44867</td>\n",
       "      <td>2016-04-06 06:17:56</td>\n",
       "    </tr>\n",
       "    <tr>\n",
       "      <th>415</th>\n",
       "      <td>2016-03-11 10:52:49</td>\n",
       "      <td>0</td>\n",
       "      <td>NaN</td>\n",
       "      <td>1985</td>\n",
       "      <td>NaN</td>\n",
       "      <td>0</td>\n",
       "      <td>3er</td>\n",
       "      <td>150000</td>\n",
       "      <td>0</td>\n",
       "      <td>NaN</td>\n",
       "      <td>bmw</td>\n",
       "      <td>NaN</td>\n",
       "      <td>2016-03-11 00:00:00</td>\n",
       "      <td>0</td>\n",
       "      <td>85051</td>\n",
       "      <td>2016-03-11 11:41:09</td>\n",
       "    </tr>\n",
       "    <tr>\n",
       "      <th>471</th>\n",
       "      <td>2016-04-04 02:37:41</td>\n",
       "      <td>0</td>\n",
       "      <td>NaN</td>\n",
       "      <td>1990</td>\n",
       "      <td>NaN</td>\n",
       "      <td>0</td>\n",
       "      <td>3er</td>\n",
       "      <td>5000</td>\n",
       "      <td>0</td>\n",
       "      <td>NaN</td>\n",
       "      <td>bmw</td>\n",
       "      <td>NaN</td>\n",
       "      <td>2016-04-04 00:00:00</td>\n",
       "      <td>0</td>\n",
       "      <td>59073</td>\n",
       "      <td>2016-04-06 09:16:42</td>\n",
       "    </tr>\n",
       "    <tr>\n",
       "      <th>522</th>\n",
       "      <td>2016-03-14 18:40:14</td>\n",
       "      <td>0</td>\n",
       "      <td>NaN</td>\n",
       "      <td>2000</td>\n",
       "      <td>NaN</td>\n",
       "      <td>0</td>\n",
       "      <td>NaN</td>\n",
       "      <td>150000</td>\n",
       "      <td>0</td>\n",
       "      <td>NaN</td>\n",
       "      <td>volvo</td>\n",
       "      <td>NaN</td>\n",
       "      <td>2016-03-14 00:00:00</td>\n",
       "      <td>0</td>\n",
       "      <td>25524</td>\n",
       "      <td>2016-03-14 18:40:14</td>\n",
       "    </tr>\n",
       "    <tr>\n",
       "      <th>622</th>\n",
       "      <td>2016-03-16 16:55:09</td>\n",
       "      <td>0</td>\n",
       "      <td>NaN</td>\n",
       "      <td>1111</td>\n",
       "      <td>NaN</td>\n",
       "      <td>0</td>\n",
       "      <td>NaN</td>\n",
       "      <td>5000</td>\n",
       "      <td>0</td>\n",
       "      <td>NaN</td>\n",
       "      <td>opel</td>\n",
       "      <td>NaN</td>\n",
       "      <td>2016-03-16 00:00:00</td>\n",
       "      <td>0</td>\n",
       "      <td>44628</td>\n",
       "      <td>2016-03-20 16:44:37</td>\n",
       "    </tr>\n",
       "    <tr>\n",
       "      <th>969</th>\n",
       "      <td>2016-03-25 09:57:23</td>\n",
       "      <td>0</td>\n",
       "      <td>NaN</td>\n",
       "      <td>1990</td>\n",
       "      <td>NaN</td>\n",
       "      <td>0</td>\n",
       "      <td>3er</td>\n",
       "      <td>150000</td>\n",
       "      <td>0</td>\n",
       "      <td>NaN</td>\n",
       "      <td>bmw</td>\n",
       "      <td>NaN</td>\n",
       "      <td>2016-03-25 00:00:00</td>\n",
       "      <td>0</td>\n",
       "      <td>66822</td>\n",
       "      <td>2016-03-29 22:46:53</td>\n",
       "    </tr>\n",
       "    <tr>\n",
       "      <th>1396</th>\n",
       "      <td>2016-04-05 10:58:11</td>\n",
       "      <td>0</td>\n",
       "      <td>NaN</td>\n",
       "      <td>2000</td>\n",
       "      <td>NaN</td>\n",
       "      <td>0</td>\n",
       "      <td>NaN</td>\n",
       "      <td>150000</td>\n",
       "      <td>0</td>\n",
       "      <td>NaN</td>\n",
       "      <td>volvo</td>\n",
       "      <td>NaN</td>\n",
       "      <td>2016-04-05 00:00:00</td>\n",
       "      <td>0</td>\n",
       "      <td>14552</td>\n",
       "      <td>2016-04-05 11:46:04</td>\n",
       "    </tr>\n",
       "    <tr>\n",
       "      <th>1672</th>\n",
       "      <td>2016-03-30 23:57:49</td>\n",
       "      <td>0</td>\n",
       "      <td>NaN</td>\n",
       "      <td>2000</td>\n",
       "      <td>NaN</td>\n",
       "      <td>0</td>\n",
       "      <td>fiesta</td>\n",
       "      <td>5000</td>\n",
       "      <td>0</td>\n",
       "      <td>NaN</td>\n",
       "      <td>ford</td>\n",
       "      <td>NaN</td>\n",
       "      <td>2016-03-30 00:00:00</td>\n",
       "      <td>0</td>\n",
       "      <td>88682</td>\n",
       "      <td>2016-03-31 07:45:24</td>\n",
       "    </tr>\n",
       "    <tr>\n",
       "      <th>2065</th>\n",
       "      <td>2016-03-07 15:06:23</td>\n",
       "      <td>0</td>\n",
       "      <td>NaN</td>\n",
       "      <td>2000</td>\n",
       "      <td>NaN</td>\n",
       "      <td>0</td>\n",
       "      <td>NaN</td>\n",
       "      <td>5000</td>\n",
       "      <td>0</td>\n",
       "      <td>NaN</td>\n",
       "      <td>sonstige_autos</td>\n",
       "      <td>NaN</td>\n",
       "      <td>2016-03-07 00:00:00</td>\n",
       "      <td>0</td>\n",
       "      <td>57610</td>\n",
       "      <td>2016-03-07 15:06:23</td>\n",
       "    </tr>\n",
       "    <tr>\n",
       "      <th>2301</th>\n",
       "      <td>2016-03-06 12:48:00</td>\n",
       "      <td>0</td>\n",
       "      <td>NaN</td>\n",
       "      <td>2016</td>\n",
       "      <td>NaN</td>\n",
       "      <td>105</td>\n",
       "      <td>3er</td>\n",
       "      <td>150000</td>\n",
       "      <td>0</td>\n",
       "      <td>NaN</td>\n",
       "      <td>bmw</td>\n",
       "      <td>NaN</td>\n",
       "      <td>2016-03-06 00:00:00</td>\n",
       "      <td>0</td>\n",
       "      <td>33415</td>\n",
       "      <td>2016-03-07 17:45:06</td>\n",
       "    </tr>\n",
       "  </tbody>\n",
       "</table>\n",
       "</div>"
      ],
      "text/plain": [
       "              DateCrawled  Price VehicleType  RegistrationYear Gearbox  Power  \\\n",
       "154   2016-03-22 16:37:59      0         NaN              2006     NaN      0   \n",
       "415   2016-03-11 10:52:49      0         NaN              1985     NaN      0   \n",
       "471   2016-04-04 02:37:41      0         NaN              1990     NaN      0   \n",
       "522   2016-03-14 18:40:14      0         NaN              2000     NaN      0   \n",
       "622   2016-03-16 16:55:09      0         NaN              1111     NaN      0   \n",
       "969   2016-03-25 09:57:23      0         NaN              1990     NaN      0   \n",
       "1396  2016-04-05 10:58:11      0         NaN              2000     NaN      0   \n",
       "1672  2016-03-30 23:57:49      0         NaN              2000     NaN      0   \n",
       "2065  2016-03-07 15:06:23      0         NaN              2000     NaN      0   \n",
       "2301  2016-03-06 12:48:00      0         NaN              2016     NaN    105   \n",
       "\n",
       "       Model  Kilometer  RegistrationMonth FuelType           Brand  \\\n",
       "154    other       5000                  0      NaN            fiat   \n",
       "415      3er     150000                  0      NaN             bmw   \n",
       "471      3er       5000                  0      NaN             bmw   \n",
       "522      NaN     150000                  0      NaN           volvo   \n",
       "622      NaN       5000                  0      NaN            opel   \n",
       "969      3er     150000                  0      NaN             bmw   \n",
       "1396     NaN     150000                  0      NaN           volvo   \n",
       "1672  fiesta       5000                  0      NaN            ford   \n",
       "2065     NaN       5000                  0      NaN  sonstige_autos   \n",
       "2301     3er     150000                  0      NaN             bmw   \n",
       "\n",
       "     NotRepaired          DateCreated  NumberOfPictures  PostalCode  \\\n",
       "154          NaN  2016-03-22 00:00:00                 0       44867   \n",
       "415          NaN  2016-03-11 00:00:00                 0       85051   \n",
       "471          NaN  2016-04-04 00:00:00                 0       59073   \n",
       "522          NaN  2016-03-14 00:00:00                 0       25524   \n",
       "622          NaN  2016-03-16 00:00:00                 0       44628   \n",
       "969          NaN  2016-03-25 00:00:00                 0       66822   \n",
       "1396         NaN  2016-04-05 00:00:00                 0       14552   \n",
       "1672         NaN  2016-03-30 00:00:00                 0       88682   \n",
       "2065         NaN  2016-03-07 00:00:00                 0       57610   \n",
       "2301         NaN  2016-03-06 00:00:00                 0       33415   \n",
       "\n",
       "                 LastSeen  \n",
       "154   2016-04-06 06:17:56  \n",
       "415   2016-03-11 11:41:09  \n",
       "471   2016-04-06 09:16:42  \n",
       "522   2016-03-14 18:40:14  \n",
       "622   2016-03-20 16:44:37  \n",
       "969   2016-03-29 22:46:53  \n",
       "1396  2016-04-05 11:46:04  \n",
       "1672  2016-03-31 07:45:24  \n",
       "2065  2016-03-07 15:06:23  \n",
       "2301  2016-03-07 17:45:06  "
      ]
     },
     "metadata": {},
     "output_type": "display_data"
    }
   ],
   "source": [
    "display(autos[(autos['Price'] == 0)&(autos['Gearbox'].isna())&(autos['VehicleType'].isna())&(autos['FuelType'].isna())].head(10))\n",
    "# методом isnull посмотрел совпадения пропусков в столбцах 'gearbox' и 'model' VehicleType\n"
   ]
  },
  {
   "cell_type": "markdown",
   "metadata": {},
   "source": [
    "<div style=\"border:solid blue 2px; padding: 20px\">\n",
    "    \n",
    "<font color='blue'> Таблица с данными состоит из 354369 записей и 16 столбцов, и имеет два типа данных - object и int64. Название столбцов на латинице в верхнем регистре, без пробелов - можно перевести в нижний регистр для удобства работы. В данных имеются пропуски в столбцах NotRepaired (20% от всех данных), VehicleType (10% от всех данных), FuelType (9% от всех данных), Gearbox (6% от всех данных), Model (6% от всех данных). Все эти столбцы (признаки) - категориальные, и вероятно, важны для определения стоимости машины. При первом ознакомлении с данными видно,что есть не нужные нам столбцы, которые не влияют на формирование стоимости автомобиля. Например столбцы с датами, столбец с количеством фотографий и столбец с почтовым индексом - их можно удалить. так же у нас есть 4 дубликата,  которые мы смело удалим. Пропуски в этих признаках заполним значением other"
   ]
  },
  {
   "cell_type": "code",
   "execution_count": 615,
   "metadata": {},
   "outputs": [
    {
     "data": {
      "text/plain": [
       "Index(['datecrawled', 'price', 'vehicletype', 'registrationyear', 'gearbox',\n",
       "       'power', 'model', 'kilometer', 'registrationmonth', 'fueltype', 'brand',\n",
       "       'notrepaired', 'datecreated', 'numberofpictures', 'postalcode',\n",
       "       'lastseen'],\n",
       "      dtype='object')"
      ]
     },
     "metadata": {},
     "output_type": "display_data"
    }
   ],
   "source": [
    "autos.columns = [x.lower() for x in autos.columns]\n",
    "# переводим в нижний регистр столбцы фрейма для удобства работы \n",
    "display(autos.columns)"
   ]
  },
  {
   "cell_type": "code",
   "execution_count": 616,
   "metadata": {},
   "outputs": [],
   "source": [
    "autos = autos.drop(['numberofpictures', 'datecrawled', 'datecreated', 'lastseen','postalcode'], axis=1)\n",
    "# удалим ненужные нам столбцы методом drop"
   ]
  },
  {
   "cell_type": "markdown",
   "metadata": {},
   "source": [
    "##### Посмотрим как распределены наши категориальные столбцы - какие в них уникальные значения"
   ]
  },
  {
   "cell_type": "code",
   "execution_count": 617,
   "metadata": {},
   "outputs": [
    {
     "data": {
      "text/plain": [
       "sedan          91457\n",
       "small          79831\n",
       "wagon          65166\n",
       "bus            28775\n",
       "convertible    20203\n",
       "coupe          16163\n",
       "suv            11996\n",
       "other           3288\n",
       "Name: vehicletype, dtype: int64"
      ]
     },
     "metadata": {},
     "output_type": "display_data"
    }
   ],
   "source": [
    "display(autos['vehicletype'].value_counts())"
   ]
  },
  {
   "cell_type": "markdown",
   "metadata": {},
   "source": [
    "<div style=\"border:solid blue 2px; padding: 20px\">\n",
    "    \n",
    "<font color='blue'> Как видим у нас в столбце есть значение other, т.е. в столбце vehicletype у нас 37490 пропусков и 3288 - other,пропусков много и удалять их не стоит, пользователь мог просто не указать тип кузова авто. Можно заменить пропуски на значение other - обьеденить, так сказать."
   ]
  },
  {
   "cell_type": "code",
   "execution_count": 618,
   "metadata": {},
   "outputs": [
    {
     "data": {
      "text/plain": [
       "manual    268251\n",
       "auto       66285\n",
       "Name: gearbox, dtype: int64"
      ]
     },
     "metadata": {},
     "output_type": "display_data"
    }
   ],
   "source": [
    "display(autos['gearbox'].value_counts())"
   ]
  },
  {
   "cell_type": "markdown",
   "metadata": {},
   "source": [
    "<div style=\"border:solid blue 2px; padding: 20px\">\n",
    "    \n",
    "<font color='blue'> В столбце gearbox у нас только два значения,но 19833 пропуска. С чем это связано - есть еще роботезированная коробка передач,вариаторная коробка передач и возможно пользователь не указа тип коробки передач из-за это. Можно заменить пропуски на значение other"
   ]
  },
  {
   "cell_type": "code",
   "execution_count": 619,
   "metadata": {},
   "outputs": [
    {
     "data": {
      "text/plain": [
       "golf                  29232\n",
       "other                 24421\n",
       "3er                   19761\n",
       "polo                  13066\n",
       "corsa                 12570\n",
       "                      ...  \n",
       "serie_2                   8\n",
       "rangerover                4\n",
       "serie_3                   4\n",
       "range_rover_evoque        2\n",
       "serie_1                   2\n",
       "Name: model, Length: 250, dtype: int64"
      ]
     },
     "metadata": {},
     "output_type": "display_data"
    }
   ],
   "source": [
    "display(autos['model'].value_counts())"
   ]
  },
  {
   "cell_type": "markdown",
   "metadata": {},
   "source": [
    "<div style=\"border:solid blue 2px; padding: 20px\">\n",
    "    \n",
    "<font color='blue'> В столбце model есть значение other, т.е. в столбце model у нас 19705 пропусков и 24421 - other,пропусков много и удалять их не стоит, пользователь мог просто не указать модель авто. Можно заменить пропуски на значение other - обьеденить."
   ]
  },
  {
   "cell_type": "code",
   "execution_count": 620,
   "metadata": {},
   "outputs": [
    {
     "data": {
      "text/plain": [
       "petrol      216352\n",
       "gasoline     98720\n",
       "lpg           5310\n",
       "cng            565\n",
       "hybrid         233\n",
       "other          204\n",
       "electric        90\n",
       "Name: fueltype, dtype: int64"
      ]
     },
     "metadata": {},
     "output_type": "display_data"
    }
   ],
   "source": [
    "display(autos['fueltype'].value_counts())"
   ]
  },
  {
   "cell_type": "markdown",
   "metadata": {},
   "source": [
    "<div style=\"border:solid blue 2px; padding: 20px\">\n",
    "    \n",
    "<font color='blue'> В столбце fueltype у нас аналогичная картина - есть значение other, т.е. в столбце fueltype у нас 32895 пропусков и 204 - other,пропусков много и удалять их не стоит. Возможно, пользователь просто не указа тип топлива. Можно заменить пропуски на значение other - обьеденить."
   ]
  },
  {
   "cell_type": "code",
   "execution_count": 621,
   "metadata": {},
   "outputs": [],
   "source": [
    "# Заменим пропуски на значение other\n",
    "autos.fillna(value='other', inplace=True)"
   ]
  },
  {
   "cell_type": "code",
   "execution_count": 622,
   "metadata": {},
   "outputs": [],
   "source": [
    "# удалим дубликаты методом drop_duplicates\n",
    "autos = autos.drop_duplicates().reset_index(drop=True)"
   ]
  },
  {
   "cell_type": "code",
   "execution_count": 623,
   "metadata": {},
   "outputs": [
    {
     "data": {
      "text/plain": [
       "price                0\n",
       "vehicletype          0\n",
       "registrationyear     0\n",
       "gearbox              0\n",
       "power                0\n",
       "model                0\n",
       "kilometer            0\n",
       "registrationmonth    0\n",
       "fueltype             0\n",
       "brand                0\n",
       "notrepaired          0\n",
       "dtype: int64"
      ]
     },
     "metadata": {},
     "output_type": "display_data"
    }
   ],
   "source": [
    "# Проверим на наличие пропусков\n",
    "display(autos.isna().sum())"
   ]
  },
  {
   "cell_type": "code",
   "execution_count": 624,
   "metadata": {},
   "outputs": [
    {
     "data": {
      "text/html": [
       "<div>\n",
       "<style scoped>\n",
       "    .dataframe tbody tr th:only-of-type {\n",
       "        vertical-align: middle;\n",
       "    }\n",
       "\n",
       "    .dataframe tbody tr th {\n",
       "        vertical-align: top;\n",
       "    }\n",
       "\n",
       "    .dataframe thead th {\n",
       "        text-align: right;\n",
       "    }\n",
       "</style>\n",
       "<table border=\"1\" class=\"dataframe\">\n",
       "  <thead>\n",
       "    <tr style=\"text-align: right;\">\n",
       "      <th></th>\n",
       "      <th>price</th>\n",
       "      <th>vehicletype</th>\n",
       "      <th>registrationyear</th>\n",
       "      <th>gearbox</th>\n",
       "      <th>power</th>\n",
       "      <th>model</th>\n",
       "      <th>kilometer</th>\n",
       "      <th>registrationmonth</th>\n",
       "      <th>fueltype</th>\n",
       "      <th>brand</th>\n",
       "      <th>notrepaired</th>\n",
       "    </tr>\n",
       "  </thead>\n",
       "  <tbody>\n",
       "    <tr>\n",
       "      <th>0</th>\n",
       "      <td>480</td>\n",
       "      <td>other</td>\n",
       "      <td>1993</td>\n",
       "      <td>manual</td>\n",
       "      <td>0</td>\n",
       "      <td>golf</td>\n",
       "      <td>150000</td>\n",
       "      <td>0</td>\n",
       "      <td>petrol</td>\n",
       "      <td>volkswagen</td>\n",
       "      <td>other</td>\n",
       "    </tr>\n",
       "    <tr>\n",
       "      <th>1</th>\n",
       "      <td>18300</td>\n",
       "      <td>coupe</td>\n",
       "      <td>2011</td>\n",
       "      <td>manual</td>\n",
       "      <td>190</td>\n",
       "      <td>other</td>\n",
       "      <td>125000</td>\n",
       "      <td>5</td>\n",
       "      <td>gasoline</td>\n",
       "      <td>audi</td>\n",
       "      <td>yes</td>\n",
       "    </tr>\n",
       "    <tr>\n",
       "      <th>2</th>\n",
       "      <td>9800</td>\n",
       "      <td>suv</td>\n",
       "      <td>2004</td>\n",
       "      <td>auto</td>\n",
       "      <td>163</td>\n",
       "      <td>grand</td>\n",
       "      <td>125000</td>\n",
       "      <td>8</td>\n",
       "      <td>gasoline</td>\n",
       "      <td>jeep</td>\n",
       "      <td>other</td>\n",
       "    </tr>\n",
       "    <tr>\n",
       "      <th>3</th>\n",
       "      <td>1500</td>\n",
       "      <td>small</td>\n",
       "      <td>2001</td>\n",
       "      <td>manual</td>\n",
       "      <td>75</td>\n",
       "      <td>golf</td>\n",
       "      <td>150000</td>\n",
       "      <td>6</td>\n",
       "      <td>petrol</td>\n",
       "      <td>volkswagen</td>\n",
       "      <td>no</td>\n",
       "    </tr>\n",
       "    <tr>\n",
       "      <th>4</th>\n",
       "      <td>3600</td>\n",
       "      <td>small</td>\n",
       "      <td>2008</td>\n",
       "      <td>manual</td>\n",
       "      <td>69</td>\n",
       "      <td>fabia</td>\n",
       "      <td>90000</td>\n",
       "      <td>7</td>\n",
       "      <td>gasoline</td>\n",
       "      <td>skoda</td>\n",
       "      <td>no</td>\n",
       "    </tr>\n",
       "  </tbody>\n",
       "</table>\n",
       "</div>"
      ],
      "text/plain": [
       "   price vehicletype  registrationyear gearbox  power  model  kilometer  \\\n",
       "0    480       other              1993  manual      0   golf     150000   \n",
       "1  18300       coupe              2011  manual    190  other     125000   \n",
       "2   9800         suv              2004    auto    163  grand     125000   \n",
       "3   1500       small              2001  manual     75   golf     150000   \n",
       "4   3600       small              2008  manual     69  fabia      90000   \n",
       "\n",
       "   registrationmonth  fueltype       brand notrepaired  \n",
       "0                  0    petrol  volkswagen       other  \n",
       "1                  5  gasoline        audi         yes  \n",
       "2                  8  gasoline        jeep       other  \n",
       "3                  6    petrol  volkswagen          no  \n",
       "4                  7  gasoline       skoda          no  "
      ]
     },
     "metadata": {},
     "output_type": "display_data"
    }
   ],
   "source": [
    "display(autos.head())"
   ]
  },
  {
   "cell_type": "markdown",
   "metadata": {},
   "source": [
    "<a href='#0.0'>Содержание'</a>"
   ]
  },
  {
   "cell_type": "markdown",
   "metadata": {},
   "source": [
    "### 1.2 Определение корреляции данных <a id='1.3'></a>"
   ]
  },
  {
   "cell_type": "markdown",
   "metadata": {},
   "source": [
    "##### Посмотрим как коррелируют наши столбцы. для начала посмотрим на статистические показатели числовых признаков."
   ]
  },
  {
   "cell_type": "code",
   "execution_count": 625,
   "metadata": {},
   "outputs": [
    {
     "data": {
      "text/html": [
       "<div>\n",
       "<style scoped>\n",
       "    .dataframe tbody tr th:only-of-type {\n",
       "        vertical-align: middle;\n",
       "    }\n",
       "\n",
       "    .dataframe tbody tr th {\n",
       "        vertical-align: top;\n",
       "    }\n",
       "\n",
       "    .dataframe thead th {\n",
       "        text-align: right;\n",
       "    }\n",
       "</style>\n",
       "<table border=\"1\" class=\"dataframe\">\n",
       "  <thead>\n",
       "    <tr style=\"text-align: right;\">\n",
       "      <th></th>\n",
       "      <th>price</th>\n",
       "      <th>registrationyear</th>\n",
       "      <th>power</th>\n",
       "      <th>kilometer</th>\n",
       "      <th>registrationmonth</th>\n",
       "    </tr>\n",
       "  </thead>\n",
       "  <tbody>\n",
       "    <tr>\n",
       "      <th>count</th>\n",
       "      <td>326719.000000</td>\n",
       "      <td>326719.000000</td>\n",
       "      <td>326719.000000</td>\n",
       "      <td>326719.000000</td>\n",
       "      <td>326719.000000</td>\n",
       "    </tr>\n",
       "    <tr>\n",
       "      <th>mean</th>\n",
       "      <td>4404.326115</td>\n",
       "      <td>2004.232466</td>\n",
       "      <td>110.259308</td>\n",
       "      <td>128147.551872</td>\n",
       "      <td>5.696889</td>\n",
       "    </tr>\n",
       "    <tr>\n",
       "      <th>std</th>\n",
       "      <td>4518.369580</td>\n",
       "      <td>91.134742</td>\n",
       "      <td>195.912988</td>\n",
       "      <td>37942.468873</td>\n",
       "      <td>3.723788</td>\n",
       "    </tr>\n",
       "    <tr>\n",
       "      <th>min</th>\n",
       "      <td>0.000000</td>\n",
       "      <td>1000.000000</td>\n",
       "      <td>0.000000</td>\n",
       "      <td>5000.000000</td>\n",
       "      <td>0.000000</td>\n",
       "    </tr>\n",
       "    <tr>\n",
       "      <th>25%</th>\n",
       "      <td>1000.000000</td>\n",
       "      <td>1999.000000</td>\n",
       "      <td>69.000000</td>\n",
       "      <td>125000.000000</td>\n",
       "      <td>3.000000</td>\n",
       "    </tr>\n",
       "    <tr>\n",
       "      <th>50%</th>\n",
       "      <td>2700.000000</td>\n",
       "      <td>2003.000000</td>\n",
       "      <td>105.000000</td>\n",
       "      <td>150000.000000</td>\n",
       "      <td>6.000000</td>\n",
       "    </tr>\n",
       "    <tr>\n",
       "      <th>75%</th>\n",
       "      <td>6350.000000</td>\n",
       "      <td>2008.000000</td>\n",
       "      <td>141.000000</td>\n",
       "      <td>150000.000000</td>\n",
       "      <td>9.000000</td>\n",
       "    </tr>\n",
       "    <tr>\n",
       "      <th>max</th>\n",
       "      <td>20000.000000</td>\n",
       "      <td>9999.000000</td>\n",
       "      <td>20000.000000</td>\n",
       "      <td>150000.000000</td>\n",
       "      <td>12.000000</td>\n",
       "    </tr>\n",
       "  </tbody>\n",
       "</table>\n",
       "</div>"
      ],
      "text/plain": [
       "               price  registrationyear          power      kilometer  \\\n",
       "count  326719.000000     326719.000000  326719.000000  326719.000000   \n",
       "mean     4404.326115       2004.232466     110.259308  128147.551872   \n",
       "std      4518.369580         91.134742     195.912988   37942.468873   \n",
       "min         0.000000       1000.000000       0.000000    5000.000000   \n",
       "25%      1000.000000       1999.000000      69.000000  125000.000000   \n",
       "50%      2700.000000       2003.000000     105.000000  150000.000000   \n",
       "75%      6350.000000       2008.000000     141.000000  150000.000000   \n",
       "max     20000.000000       9999.000000   20000.000000  150000.000000   \n",
       "\n",
       "       registrationmonth  \n",
       "count      326719.000000  \n",
       "mean            5.696889  \n",
       "std             3.723788  \n",
       "min             0.000000  \n",
       "25%             3.000000  \n",
       "50%             6.000000  \n",
       "75%             9.000000  \n",
       "max            12.000000  "
      ]
     },
     "execution_count": 625,
     "metadata": {},
     "output_type": "execute_result"
    }
   ],
   "source": [
    "# Методом describe выводим статистические показатели числовых столбцов\n",
    "autos.describe()"
   ]
  },
  {
   "cell_type": "markdown",
   "metadata": {},
   "source": [
    "<div style=\"border:solid blue 2px; padding: 20px\">\n",
    "    \n",
    "<font color='blue'> Начнем с целевого признака price:\n",
    " - минимальное значение 0, а максимум 20000 евро - и это не нормально, стоимость машины 0 евро, нам ни как не поможет в определении стоимости и скорее всего машины не стоят меньше 100 евро - даже если продают авто на запчасти. \n",
    " - среднее значение 4403 евро, а стандартное отклонение 4518, медиана 2700 - распределение не нормально,разброс огромный и очень много выбросов - нужно детально иследовать этот признак.\n",
    " \n",
    "Признака registrationyear: \n",
    " - минимальное значение 1000, а максимум 9999 год - и это не нормально,  явные выбросы. \n",
    " - среднее значение 2004 год, а стандартное отклонение 91 год - разброс огромный - нужно детально иследовать этот признак.\n",
    "\n",
    "Признака power: \n",
    " - минимальное значение 0, а максимум 20000 л.с. - и это тоже не нормально, явные выбросы. \n",
    " - среднее значение 110 л.с., а стандартное отклонение 195 л.с.\n",
    "\n",
    "Признака kilometer: \n",
    " - минимальное значение 5000, а максимум 150000 км. - нормально. \n",
    " - среднее значение 128144 км., а стандартное отклонение 37947 км. - нужно детально иследовать этот признак.\n",
    "\n",
    "Признака registrationmonth: \n",
    " - думаю данный признак мало чем полезен нам для определения стоимости авто."
   ]
  },
  {
   "cell_type": "code",
   "execution_count": 626,
   "metadata": {},
   "outputs": [
    {
     "data": {
      "image/png": "[encoded data removed]",
      "text/plain": [
       "<Figure size 432x288 with 2 Axes>"
      ]
     },
     "metadata": {},
     "output_type": "display_data"
    }
   ],
   "source": [
    "# Посмотрим на корреляцию числовых признаков\n",
    "sns.heatmap(autos.corr(),annot=True,cmap='coolwarm',linewidths=0.5)\n",
    "plt.show()"
   ]
  },
  {
   "cell_type": "markdown",
   "metadata": {},
   "source": [
    "<div style=\"border:solid blue 2px; padding: 20px\">\n",
    "    \n",
    "<font color='blue'> Есть небольшая отрицательная зависимость между столбцом kilometer и целевым признаком.Другие признаки не имеют явной связи с ценой автомобиля."
   ]
  },
  {
   "cell_type": "markdown",
   "metadata": {},
   "source": [
    "### 1.3 Изучение распределение данных <a id='1.4'></a>"
   ]
  },
  {
   "cell_type": "code",
   "execution_count": 627,
   "metadata": {},
   "outputs": [
    {
     "data": {
      "image/png": "[encoded data removed]",
      "text/plain": [
       "<Figure size 1296x576 with 1 Axes>"
      ]
     },
     "metadata": {},
     "output_type": "display_data"
    },
    {
     "data": {
      "image/png": "[encoded data removed]",
      "text/plain": [
       "<Figure size 1152x144 with 1 Axes>"
      ]
     },
     "metadata": {},
     "output_type": "display_data"
    }
   ],
   "source": [
    "# Посмотрим на распределение целевого признака, построим графики\n",
    "plt.subplots(figsize=(18,8))\n",
    "sns.set(style=\"darkgrid\")\n",
    "\n",
    "ax = sns.distplot(autos['price'],\n",
    "                  kde_kws={\"color\": \"r\", \"label\": \"Цена авто\"})                                                 \n",
    "ax.set_xlabel('Стоимость')\n",
    "ax.set_ylabel('Частота')\n",
    "plt.title('Распределение целевого признака')\n",
    "plt.xticks(np.arange(0,20000,step=1000))\n",
    "plt.xlim(0, 20000)\n",
    "plt.show()\n",
    "\n",
    "plt.figure(figsize=(16,2))\n",
    "plt.xticks(np.arange(0,20000,step=1000))\n",
    "plt.xlim(-2, 21000)\n",
    "sns.boxplot(x='price', data=autos)\n",
    "plt.show()"
   ]
  },
  {
   "cell_type": "markdown",
   "metadata": {},
   "source": [
    "<div style=\"border:solid blue 2px; padding: 20px\">\n",
    "    \n",
    "<font color='blue'> Распределение имеет асиметричный вид - смещенно в право. С ростом стоимости снижается количествопредложений. "
   ]
  },
  {
   "cell_type": "code",
   "execution_count": 628,
   "metadata": {},
   "outputs": [
    {
     "data": {
      "text/plain": [
       "(12728, 11)"
      ]
     },
     "execution_count": 628,
     "metadata": {},
     "output_type": "execute_result"
    }
   ],
   "source": [
    "# Количество  значений цены меньше 100\n",
    "autos[autos['price']<=100].shape"
   ]
  },
  {
   "cell_type": "code",
   "execution_count": 629,
   "metadata": {},
   "outputs": [
    {
     "data": {
      "text/html": [
       "<div>\n",
       "<style scoped>\n",
       "    .dataframe tbody tr th:only-of-type {\n",
       "        vertical-align: middle;\n",
       "    }\n",
       "\n",
       "    .dataframe tbody tr th {\n",
       "        vertical-align: top;\n",
       "    }\n",
       "\n",
       "    .dataframe thead th {\n",
       "        text-align: right;\n",
       "    }\n",
       "</style>\n",
       "<table border=\"1\" class=\"dataframe\">\n",
       "  <thead>\n",
       "    <tr style=\"text-align: right;\">\n",
       "      <th></th>\n",
       "      <th>price</th>\n",
       "      <th>registrationyear</th>\n",
       "    </tr>\n",
       "  </thead>\n",
       "  <tbody>\n",
       "    <tr>\n",
       "      <th>0</th>\n",
       "      <td>0</td>\n",
       "      <td>9351</td>\n",
       "    </tr>\n",
       "    <tr>\n",
       "      <th>1</th>\n",
       "      <td>1</td>\n",
       "      <td>1091</td>\n",
       "    </tr>\n",
       "    <tr>\n",
       "      <th>2</th>\n",
       "      <td>2</td>\n",
       "      <td>12</td>\n",
       "    </tr>\n",
       "    <tr>\n",
       "      <th>3</th>\n",
       "      <td>3</td>\n",
       "      <td>7</td>\n",
       "    </tr>\n",
       "    <tr>\n",
       "      <th>4</th>\n",
       "      <td>4</td>\n",
       "      <td>1</td>\n",
       "    </tr>\n",
       "  </tbody>\n",
       "</table>\n",
       "</div>"
      ],
      "text/plain": [
       "   price  registrationyear\n",
       "0      0              9351\n",
       "1      1              1091\n",
       "2      2                12\n",
       "3      3                 7\n",
       "4      4                 1"
      ]
     },
     "metadata": {},
     "output_type": "display_data"
    }
   ],
   "source": [
    "# Изучим целевой признак - в нем очень много некоректных значений равных 0,1,2 евро и т.д. \n",
    "price = (autos\n",
    "         .groupby('price')['registrationyear']\n",
    "         .agg('count')\n",
    "         .reset_index()\n",
    "         .sort_values(by='price',ascending = True)\n",
    ")\n",
    "display(price[price['price'] <= 100].head())"
   ]
  },
  {
   "cell_type": "markdown",
   "metadata": {},
   "source": [
    "<div style=\"border:solid blue 2px; padding: 20px\">\n",
    "    \n",
    "<font color='blue'> В ходе изучения расспределения целевого признака пришли к следующему выводу, что значений меньше 100 евро в наших данных всего 12728, из них 9351 это нули и 1091 - единицы. Можно отбросить эти значения"
   ]
  },
  {
   "cell_type": "code",
   "execution_count": 630,
   "metadata": {},
   "outputs": [
    {
     "data": {
      "text/plain": [
       "(3869, 11)"
      ]
     },
     "metadata": {},
     "output_type": "display_data"
    },
    {
     "data": {
      "text/plain": [
       "(100, 11)"
      ]
     },
     "execution_count": 630,
     "metadata": {},
     "output_type": "execute_result"
    }
   ],
   "source": [
    "# Количество  значений цены меньше 1980 года\n",
    "display(autos[autos['registrationyear']<=1980].shape)\n",
    "autos[autos['registrationyear']>=2020].shape"
   ]
  },
  {
   "cell_type": "code",
   "execution_count": 631,
   "metadata": {},
   "outputs": [
    {
     "data": {
      "image/png": "[encoded data removed]",
      "text/plain": [
       "<Figure size 1152x432 with 1 Axes>"
      ]
     },
     "metadata": {},
     "output_type": "display_data"
    },
    {
     "data": {
      "image/png": "[encoded data removed]",
      "text/plain": [
       "<Figure size 1152x144 with 1 Axes>"
      ]
     },
     "metadata": {},
     "output_type": "display_data"
    }
   ],
   "source": [
    "# Посмотрим на распределение признака registrationyear, построим графики\n",
    "year = (autos\n",
    "         .query('registrationyear >= 1980 and registrationyear <= 2020')\n",
    "         .groupby('registrationyear')['registrationyear']\n",
    "         .agg('count')\n",
    "         .plot(y = 'count',kind='bar',figsize=(16, 6),grid=True,title = 'Количество обьявлений по году выпуска авто') \n",
    "         \n",
    ") \n",
    "plt.ylabel('Частота')\n",
    "plt.xlabel('Год выпуска')\n",
    "plt.show()\n",
    "plt.figure(figsize=(16,2))\n",
    "plt.xlim(1900, 2020)\n",
    "sns.boxplot(x='registrationyear', data=autos)\n",
    "plt.show()"
   ]
  },
  {
   "cell_type": "markdown",
   "metadata": {},
   "source": [
    "<div style=\"border:solid blue 2px; padding: 20px\">\n",
    "    \n",
    "<font color='blue'> Распределение нормальное, есть выбросы меньше 1980 года - 3869, и больше 2020 года - 100. Можно отбросить выбросы"
   ]
  },
  {
   "cell_type": "code",
   "execution_count": 632,
   "metadata": {},
   "outputs": [
    {
     "data": {
      "text/plain": [
       "0      36991\n",
       "75     22000\n",
       "60     14497\n",
       "150    13288\n",
       "101    12249\n",
       "Name: power, dtype: int64"
      ]
     },
     "metadata": {},
     "output_type": "display_data"
    },
    {
     "data": {
      "image/png": "[encoded data removed]",
      "text/plain": [
       "<Figure size 1152x432 with 1 Axes>"
      ]
     },
     "metadata": {},
     "output_type": "display_data"
    },
    {
     "data": {
      "image/png": "[encoded data removed]",
      "text/plain": [
       "<Figure size 1152x144 with 1 Axes>"
      ]
     },
     "metadata": {},
     "output_type": "display_data"
    }
   ],
   "source": [
    "# Посмотрим на распределение признака power, построим графики\n",
    "display(autos['power'].value_counts().head())\n",
    "power = (autos\n",
    "         .query('power >= 30 and power <= 500')\n",
    "         .groupby('power')['power']\n",
    "         .agg('count')\n",
    "         .plot(kind='hist',bins=300,figsize=(16, 6),grid=True,title = 'Количество обьявлений по мощности авто') \n",
    "         \n",
    ") \n",
    "plt.ylabel('Частота')\n",
    "plt.xlabel('Мощность')\n",
    "plt.xticks(np.arange(0,2000,step=100))\n",
    "plt.xlim(0, 2000)\n",
    "plt.show()\n",
    "\n",
    "plt.figure(figsize=(16,2))\n",
    "plt.xlim(-1, 2000)\n",
    "sns.boxplot(x='power', data=autos)\n",
    "plt.show()\n"
   ]
  },
  {
   "cell_type": "code",
   "execution_count": 633,
   "metadata": {},
   "outputs": [
    {
     "data": {
      "text/plain": [
       "(37892, 11)"
      ]
     },
     "metadata": {},
     "output_type": "display_data"
    },
    {
     "data": {
      "text/plain": [
       "(387, 11)"
      ]
     },
     "execution_count": 633,
     "metadata": {},
     "output_type": "execute_result"
    }
   ],
   "source": [
    "# Количество  значений цены меньше 1980 года\n",
    "display(autos[autos['power']<=30].shape)\n",
    "autos[autos['power']>=600].shape"
   ]
  },
  {
   "cell_type": "markdown",
   "metadata": {},
   "source": [
    "<div style=\"border:solid blue 2px; padding: 20px\">\n",
    "    \n",
    "<font color='blue'> Распределение не нормальное, положительно смещенное в право, асиметричное. Есть выбросы - значений меньше 30 л.с. в наших данных 37892, из них 36991 это нули, значений больше 600 л.с. - 387. Думаю авто с супер мощными моторами не так много, можно отбросить эти значения "
   ]
  },
  {
   "cell_type": "code",
   "execution_count": 634,
   "metadata": {},
   "outputs": [],
   "source": [
    "# Удалим все выше перечисленные выбросы методом query и удалим не влияющий на стоимость столбец с месяцем регистрации.\n",
    "good_autos = autos.drop(['registrationmonth'], axis=1)\n",
    "good_autos = autos.query('registrationyear <= 2020 and registrationyear >= 1980 and power <= 600 and power >= 30 and price >100')"
   ]
  },
  {
   "cell_type": "code",
   "execution_count": 635,
   "metadata": {},
   "outputs": [
    {
     "name": "stdout",
     "output_type": "stream",
     "text": [
      "<class 'pandas.core.frame.DataFrame'>\n",
      "Int64Index: 278649 entries, 1 to 326718\n",
      "Data columns (total 11 columns):\n",
      " #   Column             Non-Null Count   Dtype \n",
      "---  ------             --------------   ----- \n",
      " 0   price              278649 non-null  int64 \n",
      " 1   vehicletype        278649 non-null  object\n",
      " 2   registrationyear   278649 non-null  int64 \n",
      " 3   gearbox            278649 non-null  object\n",
      " 4   power              278649 non-null  int64 \n",
      " 5   model              278649 non-null  object\n",
      " 6   kilometer          278649 non-null  int64 \n",
      " 7   registrationmonth  278649 non-null  int64 \n",
      " 8   fueltype           278649 non-null  object\n",
      " 9   brand              278649 non-null  object\n",
      " 10  notrepaired        278649 non-null  object\n",
      "dtypes: int64(5), object(6)\n",
      "memory usage: 25.5+ MB\n"
     ]
    },
    {
     "data": {
      "text/plain": [
       "None"
      ]
     },
     "metadata": {},
     "output_type": "display_data"
    }
   ],
   "source": [
    "display(good_autos.info())"
   ]
  },
  {
   "cell_type": "code",
   "execution_count": 637,
   "metadata": {},
   "outputs": [
    {
     "data": {
      "text/plain": [
       "price                0\n",
       "vehicletype          0\n",
       "registrationyear     0\n",
       "gearbox              0\n",
       "power                0\n",
       "model                0\n",
       "kilometer            0\n",
       "registrationmonth    0\n",
       "fueltype             0\n",
       "brand                0\n",
       "notrepaired          0\n",
       "dtype: int64"
      ]
     },
     "metadata": {},
     "output_type": "display_data"
    },
    {
     "data": {
      "text/html": [
       "<div>\n",
       "<style scoped>\n",
       "    .dataframe tbody tr th:only-of-type {\n",
       "        vertical-align: middle;\n",
       "    }\n",
       "\n",
       "    .dataframe tbody tr th {\n",
       "        vertical-align: top;\n",
       "    }\n",
       "\n",
       "    .dataframe thead th {\n",
       "        text-align: right;\n",
       "    }\n",
       "</style>\n",
       "<table border=\"1\" class=\"dataframe\">\n",
       "  <thead>\n",
       "    <tr style=\"text-align: right;\">\n",
       "      <th></th>\n",
       "      <th>price</th>\n",
       "      <th>vehicletype</th>\n",
       "      <th>registrationyear</th>\n",
       "      <th>gearbox</th>\n",
       "      <th>power</th>\n",
       "      <th>model</th>\n",
       "      <th>kilometer</th>\n",
       "      <th>registrationmonth</th>\n",
       "      <th>fueltype</th>\n",
       "      <th>brand</th>\n",
       "      <th>notrepaired</th>\n",
       "    </tr>\n",
       "  </thead>\n",
       "  <tbody>\n",
       "    <tr>\n",
       "      <th>1</th>\n",
       "      <td>18300</td>\n",
       "      <td>coupe</td>\n",
       "      <td>2011</td>\n",
       "      <td>manual</td>\n",
       "      <td>190</td>\n",
       "      <td>other</td>\n",
       "      <td>125000</td>\n",
       "      <td>5</td>\n",
       "      <td>gasoline</td>\n",
       "      <td>audi</td>\n",
       "      <td>yes</td>\n",
       "    </tr>\n",
       "    <tr>\n",
       "      <th>2</th>\n",
       "      <td>9800</td>\n",
       "      <td>suv</td>\n",
       "      <td>2004</td>\n",
       "      <td>auto</td>\n",
       "      <td>163</td>\n",
       "      <td>grand</td>\n",
       "      <td>125000</td>\n",
       "      <td>8</td>\n",
       "      <td>gasoline</td>\n",
       "      <td>jeep</td>\n",
       "      <td>other</td>\n",
       "    </tr>\n",
       "    <tr>\n",
       "      <th>3</th>\n",
       "      <td>1500</td>\n",
       "      <td>small</td>\n",
       "      <td>2001</td>\n",
       "      <td>manual</td>\n",
       "      <td>75</td>\n",
       "      <td>golf</td>\n",
       "      <td>150000</td>\n",
       "      <td>6</td>\n",
       "      <td>petrol</td>\n",
       "      <td>volkswagen</td>\n",
       "      <td>no</td>\n",
       "    </tr>\n",
       "    <tr>\n",
       "      <th>4</th>\n",
       "      <td>3600</td>\n",
       "      <td>small</td>\n",
       "      <td>2008</td>\n",
       "      <td>manual</td>\n",
       "      <td>69</td>\n",
       "      <td>fabia</td>\n",
       "      <td>90000</td>\n",
       "      <td>7</td>\n",
       "      <td>gasoline</td>\n",
       "      <td>skoda</td>\n",
       "      <td>no</td>\n",
       "    </tr>\n",
       "    <tr>\n",
       "      <th>5</th>\n",
       "      <td>650</td>\n",
       "      <td>sedan</td>\n",
       "      <td>1995</td>\n",
       "      <td>manual</td>\n",
       "      <td>102</td>\n",
       "      <td>3er</td>\n",
       "      <td>150000</td>\n",
       "      <td>10</td>\n",
       "      <td>petrol</td>\n",
       "      <td>bmw</td>\n",
       "      <td>yes</td>\n",
       "    </tr>\n",
       "  </tbody>\n",
       "</table>\n",
       "</div>"
      ],
      "text/plain": [
       "   price vehicletype  registrationyear gearbox  power  model  kilometer  \\\n",
       "1  18300       coupe              2011  manual    190  other     125000   \n",
       "2   9800         suv              2004    auto    163  grand     125000   \n",
       "3   1500       small              2001  manual     75   golf     150000   \n",
       "4   3600       small              2008  manual     69  fabia      90000   \n",
       "5    650       sedan              1995  manual    102    3er     150000   \n",
       "\n",
       "   registrationmonth  fueltype       brand notrepaired  \n",
       "1                  5  gasoline        audi         yes  \n",
       "2                  8  gasoline        jeep       other  \n",
       "3                  6    petrol  volkswagen          no  \n",
       "4                  7  gasoline       skoda          no  \n",
       "5                 10    petrol         bmw         yes  "
      ]
     },
     "metadata": {},
     "output_type": "display_data"
    },
    {
     "data": {
      "text/plain": [
       "'Колличество дубликатов - 0'"
      ]
     },
     "metadata": {},
     "output_type": "display_data"
    }
   ],
   "source": [
    "display(good_autos.isna().sum())\n",
    "display(good_autos.head())\n",
    "display('Количество дубликатов - {}'.format(good_autos.duplicated().sum()))"
   ]
  },
  {
   "cell_type": "code",
   "execution_count": 655,
   "metadata": {},
   "outputs": [
    {
     "data": {
      "text/plain": [
       "'Количество потерь данных:48070'"
      ]
     },
     "metadata": {},
     "output_type": "display_data"
    },
    {
     "data": {
      "text/plain": [
       "'Количество потерь данных:14.712949047958643'"
      ]
     },
     "metadata": {},
     "output_type": "display_data"
    }
   ],
   "source": [
    "\n",
    "display(f'Количество потерь данных:{(len(autos) - len(good_autos))}')\n",
    "display(f'Процент потерь данных:{(len(autos) - len(good_autos))/len(autos)*100}')"
   ]
  },
  {
   "cell_type": "markdown",
   "metadata": {},
   "source": [
    "<div style=\"border:solid blue 2px; padding: 20px\">\n",
    "    \n",
    "<font color='blue'> После проведения предобработки данных у нас осталось 278649 значений и 10 столбцов.Потеря данных составила 48070 или 14.71 %"
   ]
  },
  {
   "cell_type": "markdown",
   "metadata": {},
   "source": [
    "<a href='#0.0'>Содержание'</a>"
   ]
  },
  {
   "cell_type": "markdown",
   "metadata": {},
   "source": [
    "# 2. Обучение моделей <a id='1.5'></a>"
   ]
  },
  {
   "cell_type": "markdown",
   "metadata": {},
   "source": [
    "### 2.1 Разделение выборки  <a id='1.6'></a>"
   ]
  },
  {
   "cell_type": "code",
   "execution_count": 656,
   "metadata": {},
   "outputs": [],
   "source": [
    "# Сохраним значение random_state в переменной rs\n",
    "rs=12345"
   ]
  },
  {
   "cell_type": "code",
   "execution_count": 657,
   "metadata": {},
   "outputs": [],
   "source": [
    "# Разделим нашу таблицу с данными на целевой признак и осальные признаки\n",
    "features = good_autos.drop(['price'], axis = 1)\n",
    "target = good_autos['price']"
   ]
  },
  {
   "cell_type": "code",
   "execution_count": 658,
   "metadata": {},
   "outputs": [],
   "source": [
    "# преобразуем строки категориальных признаков в числовые при помощи OneHotEncoder, произведем кодирование данных\n",
    "features_ohe = pd.get_dummies(features, drop_first=True)\n",
    "# Для работы с моделью LightGBM необходимо указать, какие переменные являются категориальными. LightGBM понимает тип int\n",
    "categorial = ['vehicletype', 'gearbox', 'model', 'fueltype','notrepaired','registrationmonth','brand']\n",
    "for col in categorial:\n",
    "    features[col] = features[col].astype('category')"
   ]
  },
  {
   "cell_type": "code",
   "execution_count": 659,
   "metadata": {},
   "outputs": [],
   "source": [
    "# Разделим выборку на обучающую и тестовую часть - для модели LGBM отдельно и для остальных моделей.\n",
    "features_train_LGBM, features_test_LGBM, target_train_LGBM, target_test_LGBM = train_test_split(features,\n",
    "                                                                                                target, \n",
    "                                                                                                test_size=.25,\n",
    "                                                                                                random_state=rs)\n",
    "features_train, features_test, target_train, target_test = train_test_split(features_ohe,\n",
    "                                                                            target, test_size=.25,random_state=rs)"
   ]
  },
  {
   "cell_type": "code",
   "execution_count": 660,
   "metadata": {},
   "outputs": [],
   "source": [
    "# Провеем стандартизацию данных методом StandardScaler\n",
    "# Создадим объект этой структуры и настроим его на обучающих данных.\n",
    "numeric = ['registrationyear','power','kilometer',]\n",
    "scaler = StandardScaler()\n",
    "scaler.fit(features_train[numeric])\n",
    "# Преобразуем обучающую и тестовую выборки функцией transform\n",
    "features_train[numeric] = scaler.transform(features_train[numeric])\n",
    "features_test[numeric] = scaler.transform(features_test[numeric])"
   ]
  },
  {
   "cell_type": "code",
   "execution_count": 852,
   "metadata": {},
   "outputs": [
    {
     "data": {
      "text/plain": [
       "(208986, 307)"
      ]
     },
     "metadata": {},
     "output_type": "display_data"
    },
    {
     "data": {
      "text/plain": [
       "(69663, 307)"
      ]
     },
     "metadata": {},
     "output_type": "display_data"
    },
    {
     "data": {
      "text/plain": [
       "(208986, 10)"
      ]
     },
     "metadata": {},
     "output_type": "display_data"
    },
    {
     "data": {
      "text/plain": [
       "(69663, 10)"
      ]
     },
     "metadata": {},
     "output_type": "display_data"
    },
    {
     "data": {
      "text/plain": [
       "(208986,)"
      ]
     },
     "metadata": {},
     "output_type": "display_data"
    },
    {
     "data": {
      "text/plain": [
       "(69663,)"
      ]
     },
     "metadata": {},
     "output_type": "display_data"
    }
   ],
   "source": [
    "# проверяем с помощью вывода метода shape количество записей и столбцов в выборках\n",
    "display(features_train.shape,features_test.shape)\n",
    "display(features_train_LGBM.shape,features_test_LGBM.shape)\n",
    "display(target_train.shape)\n",
    "display(target_test.shape)"
   ]
  },
  {
   "cell_type": "markdown",
   "metadata": {},
   "source": [
    "<div style=\"border:solid blue 2px; padding: 20px\">\n",
    "    \n",
    "<font color='blue'> В ходе разделения наших данных на выборки (обучающая выборка - 75% и тестовая - 25%) мы получили два набора выборок отдельно для модели LGBM и для остальных моделей. Количество записей в признаках для модели LGBM составило 208986 и столбцов 10, а для признаков остальных моделей 208986 и 307 столбцов. Выборки с целевыми признаками составили 69663 записей. Так же была проведена кодировка данных с помощью метода OneHotEncoder для всех моделей, кроме модели LGBM, для нее мы изменили тип данных категориальных признаков. так же провели стандартизацию данных методом StandardScaler."
   ]
  },
  {
   "cell_type": "markdown",
   "metadata": {},
   "source": [
    "### 2.2 Подбор наилучших параметров моделей  <a id='1.7'></a>"
   ]
  },
  {
   "cell_type": "code",
   "execution_count": 663,
   "metadata": {},
   "outputs": [],
   "source": [
    "# Создадим функцию для определения метрики RMSE для оценки моделей\n",
    "def rmse(target, pred):\n",
    "    return (mean_squared_error(target, pred)**0.5)\n",
    "rmse_score = make_scorer(rmse, greater_is_better=True)"
   ]
  },
  {
   "cell_type": "code",
   "execution_count": 804,
   "metadata": {},
   "outputs": [],
   "source": [
    "# Создадим функцию для пременения способа GridSearchCV для нахождения и сохранения лучших параметров модели\n",
    "def best_parameters(Regressor,features,target,param):\n",
    "    model = GridSearchCV(estimator=Regressor, param_grid=param, cv=3,n_jobs=-1)\n",
    "    model.fit(features, target)\n",
    "    display(f'Лучшие параметры: {model.best_params_}')\n",
    "    return model.best_estimator_"
   ]
  },
  {
   "cell_type": "code",
   "execution_count": 788,
   "metadata": {},
   "outputs": [],
   "source": [
    "# Запишем параметры,которые мы хотим перебрать для разных моделей в отдельные переменные \n",
    "param_tree = {'max_depth': range(1, 10),\n",
    "          'min_samples_split': range(2, 40, 10), \n",
    "          'min_samples_leaf': range(1, 20, 5)}\n",
    "param_forest = {'n_estimators': range(10, 50, 10),\n",
    "                'max_depth': range(3,10,3),\n",
    "                'min_samples_leaf':range(2,6,2)}\n",
    "param_linear = {}\n",
    "param_LGBM = {'max_depth': range(2,11,2),\n",
    "              'num_leaves':range(10,70,10),\n",
    "              'learning_rate':[0.1,0.2]}\n",
    "param_catboost = {'depth': range(2,11,2),\n",
    "                  'learning_rate':[0.1,0.2],\n",
    "                  'iterations':[80]}"
   ]
  },
  {
   "cell_type": "code",
   "execution_count": 855,
   "metadata": {},
   "outputs": [
    {
     "data": {
      "text/plain": [
       "'Время обучения: 0.00074'"
      ]
     },
     "metadata": {},
     "output_type": "display_data"
    },
    {
     "data": {
      "text/plain": [
       "'Время предсказания: 0.001'"
      ]
     },
     "metadata": {},
     "output_type": "display_data"
    },
    {
     "data": {
      "text/plain": [
       "'Метрики качества модели RMSE: 4574.095332999386'"
      ]
     },
     "metadata": {},
     "output_type": "display_data"
    }
   ],
   "source": [
    "# Создадим Константную модель для проверки на адекватность. Предсказывать будем по среднему тренировочной выборки.\n",
    "dummy = DummyRegressor(strategy='mean')\n",
    "start_time = timeit.default_timer()\n",
    "dummy.fit(features_train, target_train)\n",
    "educ_time_dummy = round(timeit.default_timer() - start_time,5)\n",
    "pred_dummy = dummy.predict(features_train)\n",
    "pred_time_dummy = round(timeit.default_timer() - start_time - educ_time_dummy,5)\n",
    "result_dummy = rmse(target_train, pred_dummy)\n",
    "display(f'Время обучения: {educ_time_dummy}')\n",
    "display(f'Время предсказания: {pred_time_dummy}')\n",
    "display(f'Метрики качества модели RMSE: {result_dummy}')"
   ]
  },
  {
   "cell_type": "code",
   "execution_count": 805,
   "metadata": {},
   "outputs": [
    {
     "data": {
      "text/plain": [
       "'Модель DecisionTreeRegressor:'"
      ]
     },
     "metadata": {},
     "output_type": "display_data"
    },
    {
     "data": {
      "text/plain": [
       "\"Лучшие параметры: {'max_depth': 9, 'min_samples_leaf': 6, 'min_samples_split': 32}\""
      ]
     },
     "metadata": {},
     "output_type": "display_data"
    },
    {
     "data": {
      "text/plain": [
       "'Метрики качества модели RMSE:1947.712488180004'"
      ]
     },
     "metadata": {},
     "output_type": "display_data"
    }
   ],
   "source": [
    "display('Модель DecisionTreeRegressor:')\n",
    "tree_model = best_parameters(DecisionTreeRegressor(random_state=rs),features_train,target_train,param_tree)\n",
    "pred = tree_model.predict(features_train)\n",
    "display(f'Метрики качества модели RMSE:{rmse(target_train, pred)}')"
   ]
  },
  {
   "cell_type": "code",
   "execution_count": 820,
   "metadata": {},
   "outputs": [
    {
     "data": {
      "text/plain": [
       "'Модель RandomForestRegressor:'"
      ]
     },
     "metadata": {},
     "output_type": "display_data"
    },
    {
     "data": {
      "text/plain": [
       "\"Лучшие параметры: {'max_depth': 9, 'min_samples_leaf': 2, 'n_estimators': 40}\""
      ]
     },
     "metadata": {},
     "output_type": "display_data"
    },
    {
     "data": {
      "text/plain": [
       "'Метрики качества модели RMSE:1879.5755032338752'"
      ]
     },
     "metadata": {},
     "output_type": "display_data"
    }
   ],
   "source": [
    "display('Модель RandomForestRegressor:')\n",
    "forest_model = best_parameters(RandomForestRegressor(random_state=rs),features_train,target_train,param_forest)\n",
    "pred = forest_model.predict(features_train)\n",
    "display(f'Метрики качества модели RMSE:{rmse(target_train, pred)}')"
   ]
  },
  {
   "cell_type": "code",
   "execution_count": 822,
   "metadata": {},
   "outputs": [
    {
     "data": {
      "text/plain": [
       "'Модель CatBoostRegressor:'"
      ]
     },
     "metadata": {},
     "output_type": "display_data"
    },
    {
     "data": {
      "text/plain": [
       "\"Лучшие параметры: {'depth': 10, 'iterations': 80, 'learning_rate': 0.2}\""
      ]
     },
     "metadata": {},
     "output_type": "display_data"
    },
    {
     "data": {
      "text/plain": [
       "'Метрики качества модели RMSE:1578.8280852936819'"
      ]
     },
     "metadata": {},
     "output_type": "display_data"
    }
   ],
   "source": [
    "display('Модель CatBoostRegressor:')\n",
    "catboost_model = best_parameters(CatBoostRegressor(loss_function = 'RMSE',random_state = rs,verbose = False),\n",
    "                                 features_train,target_train,param_catboost)\n",
    "pred = catboost_model.predict(features_train)\n",
    "display(f'Метрики качества модели RMSE:{rmse(target_train, pred)}')"
   ]
  },
  {
   "cell_type": "code",
   "execution_count": 824,
   "metadata": {},
   "outputs": [
    {
     "data": {
      "text/plain": [
       "'Модель LinearRegression:'"
      ]
     },
     "metadata": {},
     "output_type": "display_data"
    },
    {
     "data": {
      "text/plain": [
       "'Лучшие параметры: {}'"
      ]
     },
     "metadata": {},
     "output_type": "display_data"
    },
    {
     "data": {
      "text/plain": [
       "'Метрики качества модели RMSE:2436.612192733538'"
      ]
     },
     "metadata": {},
     "output_type": "display_data"
    }
   ],
   "source": [
    "display('Модель LinearRegression:')\n",
    "linear_model = best_parameters(LinearRegression(),features_train,target_train,param_linear)\n",
    "pred = linear_model.predict(features_train)\n",
    "display(f'Метрики качества модели RMSE:{rmse(target_train, pred)}')"
   ]
  },
  {
   "cell_type": "code",
   "execution_count": 826,
   "metadata": {},
   "outputs": [
    {
     "data": {
      "text/plain": [
       "'Модель LGBMRegressor:'"
      ]
     },
     "metadata": {},
     "output_type": "display_data"
    },
    {
     "data": {
      "text/plain": [
       "\"Лучшие параметры: {'learning_rate': 0.2, 'max_depth': 10, 'num_leaves': 60}\""
      ]
     },
     "metadata": {},
     "output_type": "display_data"
    },
    {
     "data": {
      "text/plain": [
       "'Метрики качества модели RMSE:1416.609721498856'"
      ]
     },
     "metadata": {},
     "output_type": "display_data"
    }
   ],
   "source": [
    "display('Модель LGBMRegressor:')\n",
    "LGBM_model = best_parameters(LGBMRegressor(random_state=rs),features_train_LGBM,target_train,param_LGBM)\n",
    "pred = LGBM_model.predict(features_train_LGBM)\n",
    "display(f'Метрики качества модели RMSE:{rmse(target_train, pred)}')"
   ]
  },
  {
   "cell_type": "markdown",
   "metadata": {},
   "source": [
    "<div style=\"border:solid blue 2px; padding: 20px\">\n",
    "    \n",
    "<font color='blue'> В ходе подбора параметров для моделей проделали следующее:\n",
    "\n",
    "- Создали функцию для преминения способа GridSearchCV для нахождения и сохранения лучших параметров модели\n",
    "- В качестве метрики качества использовали RMSE\n",
    "- Создали константную модель для проверки на адекватность с помощью DummyRegressor - использовали среднее значение. Время обучения составило 0.0007 сек., время предсказания - 0.00126 сек., а метрика качества модели RMSE: 4574.10 евро.\n",
    "- В исследовании применяли 5 моделей: Решающего дерева, Случайного леса, Линейной регрессии, CatBoostRegressor и LGBMRegressor\n",
    "- Метрика качества RMSE для модели Решающего дерева на обучающей выборке составила 1947.71 евро.\n",
    "- Метрика качества RMSE для модели Случайного леса на обучающей выборке составила 1879.57 евро.\n",
    "- Метрика качества RMSE для модели Линейной регрессии на обучающей выборке составила 2436.61 евро.\n",
    "- Метрика качества RMSE для модели CatBoostRegressor на обучающей выборке составила 1578.82 евро.\n",
    "- Метрика качества RMSE для модели LGBMRegressor на обучающей выборке составила 1416.60 евро.\n"
   ]
  },
  {
   "cell_type": "markdown",
   "metadata": {},
   "source": [
    "<a href='#0.0'>Содержание'</a>"
   ]
  },
  {
   "cell_type": "markdown",
   "metadata": {},
   "source": [
    "# 3. Анализ моделей <a id='1.8'></a>"
   ]
  },
  {
   "cell_type": "code",
   "execution_count": 801,
   "metadata": {},
   "outputs": [],
   "source": [
    "# Создадим функцию для нахождения и сохранения метрики качества на тестовой выборке и определения времени обучения и предсказания\n",
    "def time(model,f_train,f_test,t_train,t_test):\n",
    "    start_time = timeit.default_timer()\n",
    "    model=model\n",
    "    model.fit(f_train, t_train)\n",
    "    educ_time = round(timeit.default_timer() - start_time, 2)\n",
    "    pred = model.predict(f_test)\n",
    "    pred_time = round(timeit.default_timer() - start_time - educ_time, 2)\n",
    "    result = rmse(t_test, pred)\n",
    "    return educ_time,pred_time,result\n",
    "def time_disp(educ_time,pred_time,result):\n",
    "    display(f'Время обучения: {educ_time}')\n",
    "    display(f'Время предсказания: {pred_time}')\n",
    "    display(f'Метрики качества модели RMSE: {result}')"
   ]
  },
  {
   "cell_type": "code",
   "execution_count": 819,
   "metadata": {},
   "outputs": [
    {
     "data": {
      "text/plain": [
       "'Модель DecisionTreeRegressor на тестовой выборке :'"
      ]
     },
     "metadata": {},
     "output_type": "display_data"
    },
    {
     "data": {
      "text/plain": [
       "'Время обучения: 4.47'"
      ]
     },
     "metadata": {},
     "output_type": "display_data"
    },
    {
     "data": {
      "text/plain": [
       "'Время предсказания: 0.16'"
      ]
     },
     "metadata": {},
     "output_type": "display_data"
    },
    {
     "data": {
      "text/plain": [
       "'Метрики качества модели RMSE: 1991.1267846701955'"
      ]
     },
     "metadata": {},
     "output_type": "display_data"
    }
   ],
   "source": [
    "display('Модель DecisionTreeRegressor на тестовой выборке :')\n",
    "educ_time_tree,pred_time_tree,result_tree = time(tree_model,features_train,features_test,target_train,target_test)\n",
    "time_disp(educ_time_tree,pred_time_tree,result_tree)"
   ]
  },
  {
   "cell_type": "code",
   "execution_count": 821,
   "metadata": {},
   "outputs": [
    {
     "data": {
      "text/plain": [
       "'Модель RandomForestRegressor на тестовой выборке:'"
      ]
     },
     "metadata": {},
     "output_type": "display_data"
    },
    {
     "data": {
      "text/plain": [
       "'Время обучения: 100.21'"
      ]
     },
     "metadata": {},
     "output_type": "display_data"
    },
    {
     "data": {
      "text/plain": [
       "'Время предсказания: 0.37'"
      ]
     },
     "metadata": {},
     "output_type": "display_data"
    },
    {
     "data": {
      "text/plain": [
       "'Метрики качества модели RMSE: 1925.2305545791812'"
      ]
     },
     "metadata": {},
     "output_type": "display_data"
    }
   ],
   "source": [
    "display('Модель RandomForestRegressor на тестовой выборке:')\n",
    "educ_time_forest,pred_time_forest,result_forest = time(forest_model,features_train,features_test,\n",
    "                                                       target_train,target_test)\n",
    "time_disp(educ_time_forest,pred_time_forest,result_forest)"
   ]
  },
  {
   "cell_type": "code",
   "execution_count": 823,
   "metadata": {},
   "outputs": [
    {
     "data": {
      "text/plain": [
       "'Модель CatBoostRegressor на тестовой выборке:'"
      ]
     },
     "metadata": {},
     "output_type": "display_data"
    },
    {
     "data": {
      "text/plain": [
       "'Время обучения: 2.74'"
      ]
     },
     "metadata": {},
     "output_type": "display_data"
    },
    {
     "data": {
      "text/plain": [
       "'Время предсказания: 0.03'"
      ]
     },
     "metadata": {},
     "output_type": "display_data"
    },
    {
     "data": {
      "text/plain": [
       "'Метрики качества модели RMSE: 1622.052116721818'"
      ]
     },
     "metadata": {},
     "output_type": "display_data"
    }
   ],
   "source": [
    "display('Модель CatBoostRegressor на тестовой выборке:')\n",
    "educ_time_catboost,pred_time_catboost,result_catboost = time(catboost_model,features_train,features_test,\n",
    "                                                             target_train,target_test)\n",
    "time_disp(educ_time_catboost,pred_time_catboost,result_catboost)"
   ]
  },
  {
   "cell_type": "code",
   "execution_count": 825,
   "metadata": {},
   "outputs": [
    {
     "data": {
      "text/plain": [
       "'Модель LinearRegression на тестовой выборке:'"
      ]
     },
     "metadata": {},
     "output_type": "display_data"
    },
    {
     "data": {
      "text/plain": [
       "'Время обучения: 2.54'"
      ]
     },
     "metadata": {},
     "output_type": "display_data"
    },
    {
     "data": {
      "text/plain": [
       "'Время предсказания: 0.12'"
      ]
     },
     "metadata": {},
     "output_type": "display_data"
    },
    {
     "data": {
      "text/plain": [
       "'Метрики качества модели RMSE: 2441.4246861978368'"
      ]
     },
     "metadata": {},
     "output_type": "display_data"
    }
   ],
   "source": [
    "display('Модель LinearRegression на тестовой выборке:')\n",
    "educ_time_ln,pred_time_ln,result_ln = time(linear_model,features_train,features_test,target_train,target_test)\n",
    "time_disp(educ_time_ln,pred_time_ln,result_ln)"
   ]
  },
  {
   "cell_type": "code",
   "execution_count": 827,
   "metadata": {},
   "outputs": [
    {
     "data": {
      "text/plain": [
       "'Модель LGBMRegressor на тестовой выборке:'"
      ]
     },
     "metadata": {},
     "output_type": "display_data"
    },
    {
     "data": {
      "text/plain": [
       "'Время обучения: 0.83'"
      ]
     },
     "metadata": {},
     "output_type": "display_data"
    },
    {
     "data": {
      "text/plain": [
       "'Время предсказания: 0.15'"
      ]
     },
     "metadata": {},
     "output_type": "display_data"
    },
    {
     "data": {
      "text/plain": [
       "'Метрики качества модели RMSE: 1554.2445985438098'"
      ]
     },
     "metadata": {},
     "output_type": "display_data"
    }
   ],
   "source": [
    "display('Модель LGBMRegressor на тестовой выборке:')\n",
    "educ_time_LGBM,pred_time_LGBM,result_LGBM = time(LGBM_model,features_train_LGBM,features_test_LGBM,\n",
    "                                                 target_train,target_test)\n",
    "time_disp(educ_time_LGBM,pred_time_LGBM,result_LGBM)"
   ]
  },
  {
   "cell_type": "code",
   "execution_count": 850,
   "metadata": {},
   "outputs": [
    {
     "data": {
      "image/png": "[encoded data removed]",
      "text/plain": [
       "<Figure size 864x288 with 1 Axes>"
      ]
     },
     "metadata": {},
     "output_type": "display_data"
    }
   ],
   "source": [
    "lgb.plot_importance(LGBM_model,figsize=(12,4),\n",
    "                    title = 'Таблица значимости признаков при определении стоимоти авто для модели LGBMRegressor')\n",
    "plt.ylabel('Признаки')\n",
    "plt.xlabel('Влияние')\n",
    "plt.show()"
   ]
  },
  {
   "cell_type": "code",
   "execution_count": 857,
   "metadata": {},
   "outputs": [
    {
     "data": {
      "text/html": [
       "<div>\n",
       "<style scoped>\n",
       "    .dataframe tbody tr th:only-of-type {\n",
       "        vertical-align: middle;\n",
       "    }\n",
       "\n",
       "    .dataframe tbody tr th {\n",
       "        vertical-align: top;\n",
       "    }\n",
       "\n",
       "    .dataframe thead th {\n",
       "        text-align: right;\n",
       "    }\n",
       "</style>\n",
       "<table border=\"1\" class=\"dataframe\">\n",
       "  <thead>\n",
       "    <tr style=\"text-align: right;\">\n",
       "      <th></th>\n",
       "      <th>Использованые модели регрессии</th>\n",
       "      <th>Время обучения</th>\n",
       "      <th>Время предсказания</th>\n",
       "      <th>Лучшая метрика RMSE</th>\n",
       "    </tr>\n",
       "  </thead>\n",
       "  <tbody>\n",
       "    <tr>\n",
       "      <th>5</th>\n",
       "      <td>LGBM</td>\n",
       "      <td>0.83000</td>\n",
       "      <td>0.150</td>\n",
       "      <td>1554.244599</td>\n",
       "    </tr>\n",
       "    <tr>\n",
       "      <th>3</th>\n",
       "      <td>Catboost</td>\n",
       "      <td>2.74000</td>\n",
       "      <td>0.030</td>\n",
       "      <td>1622.052117</td>\n",
       "    </tr>\n",
       "    <tr>\n",
       "      <th>2</th>\n",
       "      <td>RandomForest</td>\n",
       "      <td>100.21000</td>\n",
       "      <td>0.370</td>\n",
       "      <td>1925.230555</td>\n",
       "    </tr>\n",
       "    <tr>\n",
       "      <th>1</th>\n",
       "      <td>DecisionTree</td>\n",
       "      <td>4.47000</td>\n",
       "      <td>0.160</td>\n",
       "      <td>1991.126785</td>\n",
       "    </tr>\n",
       "    <tr>\n",
       "      <th>4</th>\n",
       "      <td>Linear</td>\n",
       "      <td>2.54000</td>\n",
       "      <td>0.120</td>\n",
       "      <td>2441.424686</td>\n",
       "    </tr>\n",
       "    <tr>\n",
       "      <th>0</th>\n",
       "      <td>Dummy</td>\n",
       "      <td>0.00074</td>\n",
       "      <td>0.001</td>\n",
       "      <td>4574.095333</td>\n",
       "    </tr>\n",
       "  </tbody>\n",
       "</table>\n",
       "</div>"
      ],
      "text/plain": [
       "  Использованые модели регрессии  Время обучения  Время предсказания  \\\n",
       "5                           LGBM         0.83000               0.150   \n",
       "3                       Catboost         2.74000               0.030   \n",
       "2                   RandomForest       100.21000               0.370   \n",
       "1                   DecisionTree         4.47000               0.160   \n",
       "4                         Linear         2.54000               0.120   \n",
       "0                          Dummy         0.00074               0.001   \n",
       "\n",
       "   Лучшая метрика RMSE  \n",
       "5          1554.244599  \n",
       "3          1622.052117  \n",
       "2          1925.230555  \n",
       "1          1991.126785  \n",
       "4          2441.424686  \n",
       "0          4574.095333  "
      ]
     },
     "execution_count": 857,
     "metadata": {},
     "output_type": "execute_result"
    }
   ],
   "source": [
    "result_all = pd.DataFrame(\n",
    "    {'Использованые модели регрессии': ['Dummy','DecisionTree','RandomForest','Catboost','Linear','LGBM'],\n",
    "     'Время обучения':[educ_time_dummy,educ_time_tree,educ_time_forest,educ_time_catboost,educ_time_ln,educ_time_LGBM],\n",
    "     'Время предсказания':[pred_time_dummy,pred_time_tree,pred_time_forest,pred_time_catboost,pred_time_ln,pred_time_LGBM],\n",
    "     'Лучшая метрика RMSE':[result_dummy,result_tree,result_forest, result_catboost, result_ln,result_LGBM]}\n",
    ")\n",
    "result_all.sort_values(by='Лучшая метрика RMSE',ascending = True)"
   ]
  },
  {
   "cell_type": "markdown",
   "metadata": {},
   "source": [
    "<div style=\"border:solid blue 2px; padding: 20px\">\n",
    "    \n",
    "<font color='blue'>  В ходе анализа моделей проделали следующее:\n",
    "\n",
    "- Создали функцию для определения метрики качества RMSE для тестовой выборки и определения времени обучения модели и времени предсказания\n",
    "- В качестве определения времени использовали метод timeit\n",
    "- Для модели LGBMRegressor вывели таблица значимости признаков при определении стоимоти авто.\n",
    "- Сформировали сводную таблицу с результатами исследования."
   ]
  },
  {
   "cell_type": "markdown",
   "metadata": {},
   "source": [
    "<a href='#0.0'>Содержание'</a>"
   ]
  },
  {
   "cell_type": "markdown",
   "metadata": {},
   "source": [
    "# Выводы <a id='1.9'></a>"
   ]
  },
  {
   "cell_type": "markdown",
   "metadata": {},
   "source": [
    "### Лучший результат показала модель LightGBMRegressor (RMSE 1554.24, время обучения 0.83000, а время предсказания 0.150), второй результат у модели CatBoostRegressor (RMSE 1622.05, время обучения 2.74000, а время предсказания 0.030). Третье место принадлежит Случайному лесу. Все модели адекватные: они справляются лучше, чем предсказание среднего значения целевого признака. Как обычно с увеличением сложности модели растет качество, но уменьшается скорость. Так же для нашей лучшей модели LightGBMRegressor значимыми признаками для определения стоимости авто являются мощность, год регистрации авто и модель авто\n"
   ]
  },
  {
   "cell_type": "markdown",
   "metadata": {},
   "source": [
    "## Чек-лист проверки"
   ]
  },
  {
   "cell_type": "markdown",
   "metadata": {},
   "source": [
    "Поставьте 'x' в выполненных пунктах. Далее нажмите Shift+Enter."
   ]
  },
  {
   "cell_type": "markdown",
   "metadata": {},
   "source": [
    "- [x]  Jupyter Notebook открыт\n",
    "- [ ]  Весь код выполняется без ошибок\n",
    "- [ ]  Ячейки с кодом расположены в порядке исполнения\n",
    "- [ ]  Выполнена загрузка и подготовка данных\n",
    "- [ ]  Выполнено обучение моделей\n",
    "- [ ]  Есть анализ скорости работы и качества моделей"
   ]
  },
  {
   "cell_type": "markdown",
   "metadata": {},
   "source": [
    "<a href='#0.0'>Содержание'</a>"
   ]
  }
 ],
 "metadata": {
  "kernelspec": {
   "display_name": "Python 3",
   "language": "python",
   "name": "python3"
  },
  "language_info": {
   "codemirror_mode": {
    "name": "ipython",
    "version": 3
   },
   "file_extension": ".py",
   "mimetype": "text/x-python",
   "name": "python",
   "nbconvert_exporter": "python",
   "pygments_lexer": "ipython3",
   "version": "3.8.3"
  }
 },
 "nbformat": 4,
 "nbformat_minor": 2
}
