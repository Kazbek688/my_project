{
 "cells": [
  {
   "cell_type": "markdown",
   "metadata": {},
   "source": [
    "<div style=\"border:solid green 2px; padding: 20px\">\n",
    "    \n",
    "~~Казбек, привет! Меня зовут Бунакова Влада. Если не возражаешь, предлагаю общаться на «ты» :)\n",
    "Ниже в файле ты найдешь мои комментарии: <font color='green'>зеленый цвет — «все отлично»; </font> <font color='orange'>желтый — «хорошо, но можно лучше (один-два таких замечаний допустимы, но если их больше — придется исправлять)»; </font> <font color='red'>красный — «нужно исправить».</font> Комментарии в самом коде я отделяю знаками «###». Пожалуйста, не удаляй мои комментарии, они мне нужны при повторной проверке. Будет здорово, если в своих новых комментариях (выделяй их другим цветом) ты напишешь о сделанных тобой изменениях в коде.~~\n",
    "    \n",
    "Казбек, спасибо за доработки! Осталось несколько небольших замечаний."
   ]
  },
  {
   "cell_type": "markdown",
   "metadata": {},
   "source": [
    "<div style=\"border:solid blue 2px; padding: 20px\">\n",
    "    \n",
    "Привет, Влада! Конечно, не возражаю,Спасибо за оперативный ответ...\n",
    "\n",
    "Давай я буду свои ответы на комментарии: <font color='blue'> будут голобуго цвета. "
   ]
  },
  {
   "cell_type": "markdown",
   "metadata": {},
   "source": [
    "<div style=\"border:solid blue 2px; padding: 20px\">\n",
    "    \n",
    "Забегая вперед!\n",
    "    \n",
    "Спасибо - много нового узнал после исправления твоих замечаний!\n",
    "    \n",
    "Я исправил все замечания кроме одного <a href='#Error'>У меня не получается '</a>"
   ]
  },
  {
   "cell_type": "markdown",
   "metadata": {},
   "source": [
    "# Описание проекта\n",
    "\n",
    "Подготовьте прототип модели машинного обучения для «Цифры». Компания разрабатывает решения для эффективной работы промышленных предприятий.\n",
    "\n",
    "Модель должна предсказать коэффициент восстановления золота из золотосодержащей руды. В вашем распоряжении данные с параметрами добычи и очистки. \n",
    "\n",
    "Модель поможет оптимизировать производство, чтобы не запускать предприятие с убыточными характеристиками.\n"
   ]
  },
  {
   "cell_type": "markdown",
   "metadata": {},
   "source": [
    "# Описание данных\n",
    "\n",
    "#### Технологический процесс\n",
    "\n",
    "- Rougher feed — исходное сырье\n",
    "- Rougher additions (или reagent additions) — флотационные реагенты: Xanthate, Sulphate, Depressant\n",
    "- Xanthate**— ксантогенат (промотер, или активатор флотации);\n",
    "- Sulphate — сульфат (на данном производстве сульфид натрия);\n",
    "- Depressant — депрессант (силикат натрия).\n",
    "- Rougher process (англ. «грубый процесс») — флотация\n",
    "- Rougher tails — отвальные хвосты\n",
    "- Float banks — флотационная установка\n",
    "- Cleaner process — очистка\n",
    "- Rougher Au — черновой концентрат золота\n",
    "- Final Au — финальный концентрат золота\n",
    "\n",
    "#### Параметры этапов:\n",
    "\n",
    "- air amount — объём воздуха\n",
    "- fluid levels — уровень жидкости\n",
    "- feed size — размер гранул сырья\n",
    "- feed rate — скорость подачи\n",
    "\n",
    "#### Наименование признаков\n",
    "\n",
    "Наименование признаков должно быть такое: [этап].[тип_параметра].[название_параметра]\n",
    "\n",
    "Пример: rougher.input.feed_ag\n",
    "\n",
    "#### Возможные значения для блока [этап]:\n",
    "\n",
    "- rougher — флотация\n",
    "- primary_cleaner — первичная очистка\n",
    "- secondary_cleaner — вторичная очистка\n",
    "- final — финальные характеристики\n",
    "\n",
    "#### Возможные значения для блока [тип_параметра]:\n",
    "\n",
    "- input — параметры сырья\n",
    "- output — параметры продукта\n",
    "- state — параметры, характеризующие текущее состояние этапа\n",
    "- calculation — расчётные характеристики\n"
   ]
  },
  {
   "cell_type": "markdown",
   "metadata": {},
   "source": [
    "# Технологический процесс\n",
    "\n",
    "- Флотация\n",
    "Во флотационную установку подаётся смесь золотосодержащей руды. После обогащения получается черновой концентрат и «отвальные хвосты», то есть остатки продукта с низкой концентрацией ценных металлов.\n",
    "\n",
    "На стабильность этого процесса влияет непостоянное и неоптимальное физико-химическое состояние флотационной пульпы (смеси твёрдых частиц и жидкости).\n",
    "\n",
    "- Очистка\n",
    "Черновой концентрат проходит две очистки. На выходе получается финальный концентрат и новые отвальные хвосты.\n"
   ]
  },
  {
   "cell_type": "markdown",
   "metadata": {},
   "source": [
    "# Расчёт эффективности\n",
    "Вам нужно смоделировать процесс восстановления золота из золотосодержащей руды. Эффективность обогащения рассчитывается по формуле\n",
    "\n",
    "$$\\begin{equation*}\n",
    "Recovery = \\frac{C\\times(F-T)}{F\\times(C-T)} \\times 100\\%\n",
    "\\end{equation*}$$\n",
    "\n",
    "где:\n",
    "\n",
    "- C — доля золота в концентрате после флотации/очистки;\n",
    " \n",
    "- F — доля золота в сырье/концентрате до флотации/очистки;\n",
    "- T — доля золота в отвальных хвостах после флотации/очистки.\n",
    "\n",
    "Для прогноза коэффициента нужно найти долю золота в концентратах и хвостах. Причём важен не только финальный продукт, но и черновой концентрат."
   ]
  },
  {
   "cell_type": "markdown",
   "metadata": {},
   "source": [
    "# Метрика качества\n",
    "\n",
    "sMAPE (англ. Symmetric Mean Absolute Percentage Error, «симметричное среднее абсолютное процентное отклонение»).\n",
    "\n",
    "Она похожа на MAE, но выражается не в абсолютных величинах, а в относительных. Почему симметричная? Она одинаково учитывает масштаб и целевого признака, и предсказания.\n",
    "\n",
    "Метрика sMAPE вычисляется так:\n",
    "$$\\begin{equation*}\n",
    "    sMAPE = \\frac{1}{N}\\sum_{i=1}^N\\frac{\\mid{y_i-y'_i}\\mid}{(\\mid{y_i}\\mid+\\mid{y'_i}\\mid)/2} \\times 100\\%\n",
    "\\end{equation*}$$\n",
    "\n",
    "где:\n",
    "\n",
    " - y(i) значение целевого признака для объекта с порядковым номером i в выборке, на которой измеряется качество.\n",
    " - y'(i) значение предсказания для объекта с порядковым номером i, например, в тестовой выборке.\n",
    " \n",
    "##### Нужно спрогнозировать сразу две величины:\n",
    "\n",
    "- эффективность обогащения чернового концентрата rougher.output.recovery;\n",
    "- эффективность обогащения финального концентрата final.output.recovery.\n",
    "\n",
    "##### Итоговая метрика складывается из двух величин:\n",
    "\n",
    "$$\\begin{equation*}\n",
    "   sMAPE = 25\\% \\times sMAPE(rougher) + 75\\% \\times sMAPE(final)\n",
    "\\end{equation*}$$\n"
   ]
  },
  {
   "cell_type": "markdown",
   "metadata": {},
   "source": [
    "# Содержание <a id='0.0'></a>\n",
    "\n",
    "##### Часть 1. Загрузка и подготовка данных\n",
    "\n",
    "<a href='#1.1'>1.1 Откройте файлы и изучите их.'</a>\n",
    "\n",
    "<a href='#1.2'>1.2 Проверка правильности рассчета эффективность обогащения'</a>\n",
    "\n",
    "<a href='#1.3'>1.3 Анализ признаков'</a>\n",
    "\n",
    "<a href='#1.4'>1.4 Предобработка данных'</a>\n",
    "\n",
    "<a href='#1.5'>1.5 Исследование корреляции признаков'</a>\n",
    "\n",
    "##### Часть 2. Анализ данных\n",
    "\n",
    "<a href='#2.1'>2.1 Исследование концентрации металлов (Au, Ag, Pb) на различных этапах очистки'</a>\n",
    "\n",
    "<a href='#2.2'>2.2 Исследование распределения гранул сырья в обучающей и тестовой выборке'</a>\n",
    "\n",
    "<a href='#2.3'>2.3 Исследование суммарной концентрации всех веществ на разных стадиях: в сырье, в черновом и финальном концентратах'</a>\n",
    "\n",
    "##### Часть 3. Построение модели\n",
    "\n",
    "<a href='#3.1'>3.1. Напишите функцию для вычисления итоговой sMAPE.'</a>\n",
    "\n",
    "<a href='#3.2'>3.2. Обучение разных моделей и оценка их качества кросс-валидацией'</a>\n",
    "\n",
    "<a href='#3.3'>3.3 Тестирование лучшей модели'</a>\n",
    "\n",
    "\n",
    "##### Вывод\n",
    "\n",
    "<a href='#3.4'> Выводы'</a>"
   ]
  },
  {
   "cell_type": "markdown",
   "metadata": {},
   "source": [
    "<div class=\"alert alert-block alert-warning\">\n",
    "<b>Комментарий ревьюера:</b> \n",
    "\n",
    "~~1) Где продолжение? :)~~\n",
    "    \n",
    "~~2) Кроме общего описания задачи было бы здорово увидеть план ее решения. Пример:~~\n",
    "    \n",
    "~~### Содержание~~\n",
    "\n",
    "~~##### Часть 1. Название первой части:~~\n",
    "~~* [1. Название первого пункта первой части.](#the_destination)~~\n",
    "~~* [2. Название второго пункта первой части.](#2-bullet)~~\n",
    "\n",
    "~~##### Часть 2. Название второй части:~~\n",
    "~~* [1. Название первого пункта второй части.](#3-bullet)~~\n",
    "~~* [2. Название второго пункта второй части.](#4-bullet)~~\n",
    "\n",
    "~~и т.д~~\n",
    "\n",
    "~~Про то, как делать ссылки, чтобы переходить к разным частям проекта, читай <a href=\"https://sebastianraschka.com/Articles/2014_ipython_internal_links.html\">тут.</a> ~~\n",
    "\n",
    "</div>\n",
    "\n"
   ]
  },
  {
   "cell_type": "markdown",
   "metadata": {},
   "source": [
    "<div style=\"border:solid blue 2px; padding: 20px\">\n",
    "    \n",
    "<font color='blue'> Спасибо, что показала как делать содержание - плюс в мою маленькую копилку опыта. "
   ]
  },
  {
   "cell_type": "markdown",
   "metadata": {},
   "source": [
    "<div class=\"alert alert-block alert-success\">\n",
    "<b>Комментарий ревьюера v2:</b>    \n",
    "Отлично. Только добавь еще названия подразделов в сам проект (вижу названия подразделов только в оглавлении).\n",
    "</div>"
   ]
  },
  {
   "cell_type": "markdown",
   "metadata": {},
   "source": [
    "<div style=\"border:solid blue 2px; padding: 20px\">\n",
    "    \n",
    "<font color='blue'> Добавил! и Еще добавил возврат на содержание). "
   ]
  },
  {
   "cell_type": "markdown",
   "metadata": {},
   "source": [
    "# 1. Подготовка данных "
   ]
  },
  {
   "cell_type": "markdown",
   "metadata": {},
   "source": [
    "### 1.1 Откройте файлы и изучите их. <a id='1.1'></a>"
   ]
  },
  {
   "cell_type": "code",
   "execution_count": 57,
   "metadata": {},
   "outputs": [],
   "source": [
    "import pandas as pd\n",
    "from IPython.display import display\n",
    "pd.set_option('display.max_columns', 10)\n",
    "pd.set_option('display.max_rows', 86)\n",
    "import matplotlib.pyplot as plt\n",
    "import numpy as np\n",
    "import seaborn as sns\n",
    "from sklearn.metrics import mean_absolute_error\n",
    "from sklearn.metrics import make_scorer\n",
    "from sklearn.model_selection import GridSearchCV, cross_val_score\n",
    "from sklearn.tree import DecisionTreeRegressor\n",
    "from sklearn.ensemble import RandomForestRegressor\n",
    "from sklearn.linear_model import LinearRegression\n",
    "from sklearn.model_selection import train_test_split\n",
    "from sklearn.preprocessing import StandardScaler\n",
    "from sklearn.ensemble import GradientBoostingRegressor\n",
    "\n",
    "import warnings\n",
    "warnings.filterwarnings(\"ignore\")\n",
    "# Импортируем необходимые библиотеки."
   ]
  },
  {
   "cell_type": "code",
   "execution_count": 58,
   "metadata": {},
   "outputs": [
    {
     "data": {
      "text/html": [
       "<div>\n",
       "<style scoped>\n",
       "    .dataframe tbody tr th:only-of-type {\n",
       "        vertical-align: middle;\n",
       "    }\n",
       "\n",
       "    .dataframe tbody tr th {\n",
       "        vertical-align: top;\n",
       "    }\n",
       "\n",
       "    .dataframe thead th {\n",
       "        text-align: right;\n",
       "    }\n",
       "</style>\n",
       "<table border=\"1\" class=\"dataframe\">\n",
       "  <thead>\n",
       "    <tr style=\"text-align: right;\">\n",
       "      <th></th>\n",
       "      <th>date</th>\n",
       "      <th>final.output.concentrate_ag</th>\n",
       "      <th>final.output.concentrate_pb</th>\n",
       "      <th>final.output.concentrate_sol</th>\n",
       "      <th>final.output.concentrate_au</th>\n",
       "      <th>...</th>\n",
       "      <th>secondary_cleaner.state.floatbank5_a_level</th>\n",
       "      <th>secondary_cleaner.state.floatbank5_b_air</th>\n",
       "      <th>secondary_cleaner.state.floatbank5_b_level</th>\n",
       "      <th>secondary_cleaner.state.floatbank6_a_air</th>\n",
       "      <th>secondary_cleaner.state.floatbank6_a_level</th>\n",
       "    </tr>\n",
       "  </thead>\n",
       "  <tbody>\n",
       "    <tr>\n",
       "      <th>0</th>\n",
       "      <td>2016-01-15 00:00:00</td>\n",
       "      <td>6.055403</td>\n",
       "      <td>9.889648</td>\n",
       "      <td>5.507324</td>\n",
       "      <td>42.192020</td>\n",
       "      <td>...</td>\n",
       "      <td>-498.310211</td>\n",
       "      <td>8.079666</td>\n",
       "      <td>-500.470978</td>\n",
       "      <td>14.151341</td>\n",
       "      <td>-605.841980</td>\n",
       "    </tr>\n",
       "    <tr>\n",
       "      <th>1</th>\n",
       "      <td>2016-01-15 01:00:00</td>\n",
       "      <td>6.029369</td>\n",
       "      <td>9.968944</td>\n",
       "      <td>5.257781</td>\n",
       "      <td>42.701629</td>\n",
       "      <td>...</td>\n",
       "      <td>-500.169983</td>\n",
       "      <td>7.984757</td>\n",
       "      <td>-500.582168</td>\n",
       "      <td>13.998353</td>\n",
       "      <td>-599.787184</td>\n",
       "    </tr>\n",
       "    <tr>\n",
       "      <th>2</th>\n",
       "      <td>2016-01-15 02:00:00</td>\n",
       "      <td>6.055926</td>\n",
       "      <td>10.213995</td>\n",
       "      <td>5.383759</td>\n",
       "      <td>42.657501</td>\n",
       "      <td>...</td>\n",
       "      <td>-500.129135</td>\n",
       "      <td>8.013877</td>\n",
       "      <td>-500.517572</td>\n",
       "      <td>14.028663</td>\n",
       "      <td>-601.427363</td>\n",
       "    </tr>\n",
       "    <tr>\n",
       "      <th>3</th>\n",
       "      <td>2016-01-15 03:00:00</td>\n",
       "      <td>6.047977</td>\n",
       "      <td>9.977019</td>\n",
       "      <td>4.858634</td>\n",
       "      <td>42.689819</td>\n",
       "      <td>...</td>\n",
       "      <td>-499.201640</td>\n",
       "      <td>7.977324</td>\n",
       "      <td>-500.255908</td>\n",
       "      <td>14.005551</td>\n",
       "      <td>-599.996129</td>\n",
       "    </tr>\n",
       "    <tr>\n",
       "      <th>4</th>\n",
       "      <td>2016-01-15 04:00:00</td>\n",
       "      <td>6.148599</td>\n",
       "      <td>10.142511</td>\n",
       "      <td>4.939416</td>\n",
       "      <td>42.774141</td>\n",
       "      <td>...</td>\n",
       "      <td>-501.686727</td>\n",
       "      <td>7.894242</td>\n",
       "      <td>-500.356035</td>\n",
       "      <td>13.996647</td>\n",
       "      <td>-601.496691</td>\n",
       "    </tr>\n",
       "  </tbody>\n",
       "</table>\n",
       "<p>5 rows × 87 columns</p>\n",
       "</div>"
      ],
      "text/plain": [
       "                  date  final.output.concentrate_ag  \\\n",
       "0  2016-01-15 00:00:00                     6.055403   \n",
       "1  2016-01-15 01:00:00                     6.029369   \n",
       "2  2016-01-15 02:00:00                     6.055926   \n",
       "3  2016-01-15 03:00:00                     6.047977   \n",
       "4  2016-01-15 04:00:00                     6.148599   \n",
       "\n",
       "   final.output.concentrate_pb  final.output.concentrate_sol  \\\n",
       "0                     9.889648                      5.507324   \n",
       "1                     9.968944                      5.257781   \n",
       "2                    10.213995                      5.383759   \n",
       "3                     9.977019                      4.858634   \n",
       "4                    10.142511                      4.939416   \n",
       "\n",
       "   final.output.concentrate_au  ...  \\\n",
       "0                    42.192020  ...   \n",
       "1                    42.701629  ...   \n",
       "2                    42.657501  ...   \n",
       "3                    42.689819  ...   \n",
       "4                    42.774141  ...   \n",
       "\n",
       "   secondary_cleaner.state.floatbank5_a_level  \\\n",
       "0                                 -498.310211   \n",
       "1                                 -500.169983   \n",
       "2                                 -500.129135   \n",
       "3                                 -499.201640   \n",
       "4                                 -501.686727   \n",
       "\n",
       "   secondary_cleaner.state.floatbank5_b_air  \\\n",
       "0                                  8.079666   \n",
       "1                                  7.984757   \n",
       "2                                  8.013877   \n",
       "3                                  7.977324   \n",
       "4                                  7.894242   \n",
       "\n",
       "   secondary_cleaner.state.floatbank5_b_level  \\\n",
       "0                                 -500.470978   \n",
       "1                                 -500.582168   \n",
       "2                                 -500.517572   \n",
       "3                                 -500.255908   \n",
       "4                                 -500.356035   \n",
       "\n",
       "   secondary_cleaner.state.floatbank6_a_air  \\\n",
       "0                                 14.151341   \n",
       "1                                 13.998353   \n",
       "2                                 14.028663   \n",
       "3                                 14.005551   \n",
       "4                                 13.996647   \n",
       "\n",
       "   secondary_cleaner.state.floatbank6_a_level  \n",
       "0                                 -605.841980  \n",
       "1                                 -599.787184  \n",
       "2                                 -601.427363  \n",
       "3                                 -599.996129  \n",
       "4                                 -601.496691  \n",
       "\n",
       "[5 rows x 87 columns]"
      ]
     },
     "metadata": {},
     "output_type": "display_data"
    }
   ],
   "source": [
    "#train_data = pd.read_csv('/datasets/gold_recovery_train.csv')\n",
    "train_data = pd.read_csv('/Users/kazbek/Desktop/Python/Payton/DS - обучение/Сп_2/gold_recovery_train.csv')\n",
    "display(train_data.head())\n",
    "# чтение файла. Просмотрел общий вид таблиц и посмотрел инфу по файлу."
   ]
  },
  {
   "cell_type": "code",
   "execution_count": 59,
   "metadata": {},
   "outputs": [
    {
     "name": "stdout",
     "output_type": "stream",
     "text": [
      "<class 'pandas.core.frame.DataFrame'>\n",
      "RangeIndex: 16860 entries, 0 to 16859\n",
      "Data columns (total 87 columns):\n",
      " #   Column                                              Non-Null Count  Dtype  \n",
      "---  ------                                              --------------  -----  \n",
      " 0   date                                                16860 non-null  object \n",
      " 1   final.output.concentrate_ag                         16788 non-null  float64\n",
      " 2   final.output.concentrate_pb                         16788 non-null  float64\n",
      " 3   final.output.concentrate_sol                        16490 non-null  float64\n",
      " 4   final.output.concentrate_au                         16789 non-null  float64\n",
      " 5   final.output.recovery                               15339 non-null  float64\n",
      " 6   final.output.tail_ag                                16794 non-null  float64\n",
      " 7   final.output.tail_pb                                16677 non-null  float64\n",
      " 8   final.output.tail_sol                               16715 non-null  float64\n",
      " 9   final.output.tail_au                                16794 non-null  float64\n",
      " 10  primary_cleaner.input.sulfate                       15553 non-null  float64\n",
      " 11  primary_cleaner.input.depressant                    15598 non-null  float64\n",
      " 12  primary_cleaner.input.feed_size                     16860 non-null  float64\n",
      " 13  primary_cleaner.input.xanthate                      15875 non-null  float64\n",
      " 14  primary_cleaner.output.concentrate_ag               16778 non-null  float64\n",
      " 15  primary_cleaner.output.concentrate_pb               16502 non-null  float64\n",
      " 16  primary_cleaner.output.concentrate_sol              16224 non-null  float64\n",
      " 17  primary_cleaner.output.concentrate_au               16778 non-null  float64\n",
      " 18  primary_cleaner.output.tail_ag                      16777 non-null  float64\n",
      " 19  primary_cleaner.output.tail_pb                      16761 non-null  float64\n",
      " 20  primary_cleaner.output.tail_sol                     16579 non-null  float64\n",
      " 21  primary_cleaner.output.tail_au                      16777 non-null  float64\n",
      " 22  primary_cleaner.state.floatbank8_a_air              16820 non-null  float64\n",
      " 23  primary_cleaner.state.floatbank8_a_level            16827 non-null  float64\n",
      " 24  primary_cleaner.state.floatbank8_b_air              16820 non-null  float64\n",
      " 25  primary_cleaner.state.floatbank8_b_level            16833 non-null  float64\n",
      " 26  primary_cleaner.state.floatbank8_c_air              16822 non-null  float64\n",
      " 27  primary_cleaner.state.floatbank8_c_level            16833 non-null  float64\n",
      " 28  primary_cleaner.state.floatbank8_d_air              16821 non-null  float64\n",
      " 29  primary_cleaner.state.floatbank8_d_level            16833 non-null  float64\n",
      " 30  rougher.calculation.sulfate_to_au_concentrate       16833 non-null  float64\n",
      " 31  rougher.calculation.floatbank10_sulfate_to_au_feed  16833 non-null  float64\n",
      " 32  rougher.calculation.floatbank11_sulfate_to_au_feed  16833 non-null  float64\n",
      " 33  rougher.calculation.au_pb_ratio                     15618 non-null  float64\n",
      " 34  rougher.input.feed_ag                               16778 non-null  float64\n",
      " 35  rougher.input.feed_pb                               16632 non-null  float64\n",
      " 36  rougher.input.feed_rate                             16347 non-null  float64\n",
      " 37  rougher.input.feed_size                             16443 non-null  float64\n",
      " 38  rougher.input.feed_sol                              16568 non-null  float64\n",
      " 39  rougher.input.feed_au                               16777 non-null  float64\n",
      " 40  rougher.input.floatbank10_sulfate                   15816 non-null  float64\n",
      " 41  rougher.input.floatbank10_xanthate                  16514 non-null  float64\n",
      " 42  rougher.input.floatbank11_sulfate                   16237 non-null  float64\n",
      " 43  rougher.input.floatbank11_xanthate                  14956 non-null  float64\n",
      " 44  rougher.output.concentrate_ag                       16778 non-null  float64\n",
      " 45  rougher.output.concentrate_pb                       16778 non-null  float64\n",
      " 46  rougher.output.concentrate_sol                      16698 non-null  float64\n",
      " 47  rougher.output.concentrate_au                       16778 non-null  float64\n",
      " 48  rougher.output.recovery                             14287 non-null  float64\n",
      " 49  rougher.output.tail_ag                              14610 non-null  float64\n",
      " 50  rougher.output.tail_pb                              16778 non-null  float64\n",
      " 51  rougher.output.tail_sol                             14611 non-null  float64\n",
      " 52  rougher.output.tail_au                              14611 non-null  float64\n",
      " 53  rougher.state.floatbank10_a_air                     16807 non-null  float64\n",
      " 54  rougher.state.floatbank10_a_level                   16807 non-null  float64\n",
      " 55  rougher.state.floatbank10_b_air                     16807 non-null  float64\n",
      " 56  rougher.state.floatbank10_b_level                   16807 non-null  float64\n",
      " 57  rougher.state.floatbank10_c_air                     16807 non-null  float64\n",
      " 58  rougher.state.floatbank10_c_level                   16814 non-null  float64\n",
      " 59  rougher.state.floatbank10_d_air                     16802 non-null  float64\n",
      " 60  rougher.state.floatbank10_d_level                   16809 non-null  float64\n",
      " 61  rougher.state.floatbank10_e_air                     16257 non-null  float64\n",
      " 62  rougher.state.floatbank10_e_level                   16809 non-null  float64\n",
      " 63  rougher.state.floatbank10_f_air                     16802 non-null  float64\n",
      " 64  rougher.state.floatbank10_f_level                   16802 non-null  float64\n",
      " 65  secondary_cleaner.output.tail_ag                    16776 non-null  float64\n",
      " 66  secondary_cleaner.output.tail_pb                    16764 non-null  float64\n",
      " 67  secondary_cleaner.output.tail_sol                   14874 non-null  float64\n",
      " 68  secondary_cleaner.output.tail_au                    16778 non-null  float64\n",
      " 69  secondary_cleaner.state.floatbank2_a_air            16497 non-null  float64\n",
      " 70  secondary_cleaner.state.floatbank2_a_level          16751 non-null  float64\n",
      " 71  secondary_cleaner.state.floatbank2_b_air            16705 non-null  float64\n",
      " 72  secondary_cleaner.state.floatbank2_b_level          16748 non-null  float64\n",
      " 73  secondary_cleaner.state.floatbank3_a_air            16763 non-null  float64\n",
      " 74  secondary_cleaner.state.floatbank3_a_level          16747 non-null  float64\n",
      " 75  secondary_cleaner.state.floatbank3_b_air            16752 non-null  float64\n",
      " 76  secondary_cleaner.state.floatbank3_b_level          16750 non-null  float64\n",
      " 77  secondary_cleaner.state.floatbank4_a_air            16731 non-null  float64\n",
      " 78  secondary_cleaner.state.floatbank4_a_level          16747 non-null  float64\n",
      " 79  secondary_cleaner.state.floatbank4_b_air            16768 non-null  float64\n",
      " 80  secondary_cleaner.state.floatbank4_b_level          16767 non-null  float64\n",
      " 81  secondary_cleaner.state.floatbank5_a_air            16775 non-null  float64\n",
      " 82  secondary_cleaner.state.floatbank5_a_level          16775 non-null  float64\n",
      " 83  secondary_cleaner.state.floatbank5_b_air            16775 non-null  float64\n",
      " 84  secondary_cleaner.state.floatbank5_b_level          16776 non-null  float64\n",
      " 85  secondary_cleaner.state.floatbank6_a_air            16757 non-null  float64\n",
      " 86  secondary_cleaner.state.floatbank6_a_level          16775 non-null  float64\n",
      "dtypes: float64(86), object(1)\n",
      "memory usage: 11.2+ MB\n"
     ]
    },
    {
     "data": {
      "text/plain": [
       "None"
      ]
     },
     "metadata": {},
     "output_type": "display_data"
    }
   ],
   "source": [
    "display(train_data.info())"
   ]
  },
  {
   "cell_type": "code",
   "execution_count": 60,
   "metadata": {},
   "outputs": [
    {
     "name": "stdout",
     "output_type": "stream",
     "text": [
      "<class 'pandas.core.frame.DataFrame'>\n",
      "RangeIndex: 5856 entries, 0 to 5855\n",
      "Data columns (total 53 columns):\n",
      " #   Column                                      Non-Null Count  Dtype  \n",
      "---  ------                                      --------------  -----  \n",
      " 0   date                                        5856 non-null   object \n",
      " 1   primary_cleaner.input.sulfate               5554 non-null   float64\n",
      " 2   primary_cleaner.input.depressant            5572 non-null   float64\n",
      " 3   primary_cleaner.input.feed_size             5856 non-null   float64\n",
      " 4   primary_cleaner.input.xanthate              5690 non-null   float64\n",
      " 5   primary_cleaner.state.floatbank8_a_air      5840 non-null   float64\n",
      " 6   primary_cleaner.state.floatbank8_a_level    5840 non-null   float64\n",
      " 7   primary_cleaner.state.floatbank8_b_air      5840 non-null   float64\n",
      " 8   primary_cleaner.state.floatbank8_b_level    5840 non-null   float64\n",
      " 9   primary_cleaner.state.floatbank8_c_air      5840 non-null   float64\n",
      " 10  primary_cleaner.state.floatbank8_c_level    5840 non-null   float64\n",
      " 11  primary_cleaner.state.floatbank8_d_air      5840 non-null   float64\n",
      " 12  primary_cleaner.state.floatbank8_d_level    5840 non-null   float64\n",
      " 13  rougher.input.feed_ag                       5840 non-null   float64\n",
      " 14  rougher.input.feed_pb                       5840 non-null   float64\n",
      " 15  rougher.input.feed_rate                     5816 non-null   float64\n",
      " 16  rougher.input.feed_size                     5834 non-null   float64\n",
      " 17  rougher.input.feed_sol                      5789 non-null   float64\n",
      " 18  rougher.input.feed_au                       5840 non-null   float64\n",
      " 19  rougher.input.floatbank10_sulfate           5599 non-null   float64\n",
      " 20  rougher.input.floatbank10_xanthate          5733 non-null   float64\n",
      " 21  rougher.input.floatbank11_sulfate           5801 non-null   float64\n",
      " 22  rougher.input.floatbank11_xanthate          5503 non-null   float64\n",
      " 23  rougher.state.floatbank10_a_air             5839 non-null   float64\n",
      " 24  rougher.state.floatbank10_a_level           5840 non-null   float64\n",
      " 25  rougher.state.floatbank10_b_air             5839 non-null   float64\n",
      " 26  rougher.state.floatbank10_b_level           5840 non-null   float64\n",
      " 27  rougher.state.floatbank10_c_air             5839 non-null   float64\n",
      " 28  rougher.state.floatbank10_c_level           5840 non-null   float64\n",
      " 29  rougher.state.floatbank10_d_air             5839 non-null   float64\n",
      " 30  rougher.state.floatbank10_d_level           5840 non-null   float64\n",
      " 31  rougher.state.floatbank10_e_air             5839 non-null   float64\n",
      " 32  rougher.state.floatbank10_e_level           5840 non-null   float64\n",
      " 33  rougher.state.floatbank10_f_air             5839 non-null   float64\n",
      " 34  rougher.state.floatbank10_f_level           5840 non-null   float64\n",
      " 35  secondary_cleaner.state.floatbank2_a_air    5836 non-null   float64\n",
      " 36  secondary_cleaner.state.floatbank2_a_level  5840 non-null   float64\n",
      " 37  secondary_cleaner.state.floatbank2_b_air    5833 non-null   float64\n",
      " 38  secondary_cleaner.state.floatbank2_b_level  5840 non-null   float64\n",
      " 39  secondary_cleaner.state.floatbank3_a_air    5822 non-null   float64\n",
      " 40  secondary_cleaner.state.floatbank3_a_level  5840 non-null   float64\n",
      " 41  secondary_cleaner.state.floatbank3_b_air    5840 non-null   float64\n",
      " 42  secondary_cleaner.state.floatbank3_b_level  5840 non-null   float64\n",
      " 43  secondary_cleaner.state.floatbank4_a_air    5840 non-null   float64\n",
      " 44  secondary_cleaner.state.floatbank4_a_level  5840 non-null   float64\n",
      " 45  secondary_cleaner.state.floatbank4_b_air    5840 non-null   float64\n",
      " 46  secondary_cleaner.state.floatbank4_b_level  5840 non-null   float64\n",
      " 47  secondary_cleaner.state.floatbank5_a_air    5840 non-null   float64\n",
      " 48  secondary_cleaner.state.floatbank5_a_level  5840 non-null   float64\n",
      " 49  secondary_cleaner.state.floatbank5_b_air    5840 non-null   float64\n",
      " 50  secondary_cleaner.state.floatbank5_b_level  5840 non-null   float64\n",
      " 51  secondary_cleaner.state.floatbank6_a_air    5840 non-null   float64\n",
      " 52  secondary_cleaner.state.floatbank6_a_level  5840 non-null   float64\n",
      "dtypes: float64(52), object(1)\n",
      "memory usage: 2.4+ MB\n"
     ]
    },
    {
     "data": {
      "text/plain": [
       "None"
      ]
     },
     "metadata": {},
     "output_type": "display_data"
    }
   ],
   "source": [
    "#test_data = pd.read_csv('/datasets/gold_recovery_test.csv')\n",
    "test_data = pd.read_csv('/Users/kazbek/Desktop/Python/Payton/DS - обучение/Сп_2/gold_recovery_test.csv')\n",
    "display(test_data.info())\n",
    "# чтение файла. Просмотрел общий вид таблиц и посмотрел инфу по файлу."
   ]
  },
  {
   "cell_type": "code",
   "execution_count": 61,
   "metadata": {},
   "outputs": [
    {
     "name": "stdout",
     "output_type": "stream",
     "text": [
      "<class 'pandas.core.frame.DataFrame'>\n",
      "RangeIndex: 22716 entries, 0 to 22715\n",
      "Data columns (total 87 columns):\n",
      " #   Column                                              Non-Null Count  Dtype  \n",
      "---  ------                                              --------------  -----  \n",
      " 0   date                                                22716 non-null  object \n",
      " 1   final.output.concentrate_ag                         22627 non-null  float64\n",
      " 2   final.output.concentrate_pb                         22629 non-null  float64\n",
      " 3   final.output.concentrate_sol                        22331 non-null  float64\n",
      " 4   final.output.concentrate_au                         22630 non-null  float64\n",
      " 5   final.output.recovery                               20753 non-null  float64\n",
      " 6   final.output.tail_ag                                22633 non-null  float64\n",
      " 7   final.output.tail_pb                                22516 non-null  float64\n",
      " 8   final.output.tail_sol                               22445 non-null  float64\n",
      " 9   final.output.tail_au                                22635 non-null  float64\n",
      " 10  primary_cleaner.input.sulfate                       21107 non-null  float64\n",
      " 11  primary_cleaner.input.depressant                    21170 non-null  float64\n",
      " 12  primary_cleaner.input.feed_size                     22716 non-null  float64\n",
      " 13  primary_cleaner.input.xanthate                      21565 non-null  float64\n",
      " 14  primary_cleaner.output.concentrate_ag               22618 non-null  float64\n",
      " 15  primary_cleaner.output.concentrate_pb               22268 non-null  float64\n",
      " 16  primary_cleaner.output.concentrate_sol              21918 non-null  float64\n",
      " 17  primary_cleaner.output.concentrate_au               22618 non-null  float64\n",
      " 18  primary_cleaner.output.tail_ag                      22614 non-null  float64\n",
      " 19  primary_cleaner.output.tail_pb                      22594 non-null  float64\n",
      " 20  primary_cleaner.output.tail_sol                     22365 non-null  float64\n",
      " 21  primary_cleaner.output.tail_au                      22617 non-null  float64\n",
      " 22  primary_cleaner.state.floatbank8_a_air              22660 non-null  float64\n",
      " 23  primary_cleaner.state.floatbank8_a_level            22667 non-null  float64\n",
      " 24  primary_cleaner.state.floatbank8_b_air              22660 non-null  float64\n",
      " 25  primary_cleaner.state.floatbank8_b_level            22673 non-null  float64\n",
      " 26  primary_cleaner.state.floatbank8_c_air              22662 non-null  float64\n",
      " 27  primary_cleaner.state.floatbank8_c_level            22673 non-null  float64\n",
      " 28  primary_cleaner.state.floatbank8_d_air              22661 non-null  float64\n",
      " 29  primary_cleaner.state.floatbank8_d_level            22673 non-null  float64\n",
      " 30  rougher.calculation.sulfate_to_au_concentrate       22672 non-null  float64\n",
      " 31  rougher.calculation.floatbank10_sulfate_to_au_feed  22672 non-null  float64\n",
      " 32  rougher.calculation.floatbank11_sulfate_to_au_feed  22672 non-null  float64\n",
      " 33  rougher.calculation.au_pb_ratio                     21089 non-null  float64\n",
      " 34  rougher.input.feed_ag                               22618 non-null  float64\n",
      " 35  rougher.input.feed_pb                               22472 non-null  float64\n",
      " 36  rougher.input.feed_rate                             22163 non-null  float64\n",
      " 37  rougher.input.feed_size                             22277 non-null  float64\n",
      " 38  rougher.input.feed_sol                              22357 non-null  float64\n",
      " 39  rougher.input.feed_au                               22617 non-null  float64\n",
      " 40  rougher.input.floatbank10_sulfate                   21415 non-null  float64\n",
      " 41  rougher.input.floatbank10_xanthate                  22247 non-null  float64\n",
      " 42  rougher.input.floatbank11_sulfate                   22038 non-null  float64\n",
      " 43  rougher.input.floatbank11_xanthate                  20459 non-null  float64\n",
      " 44  rougher.output.concentrate_ag                       22618 non-null  float64\n",
      " 45  rougher.output.concentrate_pb                       22618 non-null  float64\n",
      " 46  rougher.output.concentrate_sol                      22526 non-null  float64\n",
      " 47  rougher.output.concentrate_au                       22618 non-null  float64\n",
      " 48  rougher.output.recovery                             19597 non-null  float64\n",
      " 49  rougher.output.tail_ag                              19979 non-null  float64\n",
      " 50  rougher.output.tail_pb                              22618 non-null  float64\n",
      " 51  rougher.output.tail_sol                             19980 non-null  float64\n",
      " 52  rougher.output.tail_au                              19980 non-null  float64\n",
      " 53  rougher.state.floatbank10_a_air                     22646 non-null  float64\n",
      " 54  rougher.state.floatbank10_a_level                   22647 non-null  float64\n",
      " 55  rougher.state.floatbank10_b_air                     22646 non-null  float64\n",
      " 56  rougher.state.floatbank10_b_level                   22647 non-null  float64\n",
      " 57  rougher.state.floatbank10_c_air                     22646 non-null  float64\n",
      " 58  rougher.state.floatbank10_c_level                   22654 non-null  float64\n",
      " 59  rougher.state.floatbank10_d_air                     22641 non-null  float64\n",
      " 60  rougher.state.floatbank10_d_level                   22649 non-null  float64\n",
      " 61  rougher.state.floatbank10_e_air                     22096 non-null  float64\n",
      " 62  rougher.state.floatbank10_e_level                   22649 non-null  float64\n",
      " 63  rougher.state.floatbank10_f_air                     22641 non-null  float64\n",
      " 64  rougher.state.floatbank10_f_level                   22642 non-null  float64\n",
      " 65  secondary_cleaner.output.tail_ag                    22616 non-null  float64\n",
      " 66  secondary_cleaner.output.tail_pb                    22600 non-null  float64\n",
      " 67  secondary_cleaner.output.tail_sol                   20501 non-null  float64\n",
      " 68  secondary_cleaner.output.tail_au                    22618 non-null  float64\n",
      " 69  secondary_cleaner.state.floatbank2_a_air            22333 non-null  float64\n",
      " 70  secondary_cleaner.state.floatbank2_a_level          22591 non-null  float64\n",
      " 71  secondary_cleaner.state.floatbank2_b_air            22538 non-null  float64\n",
      " 72  secondary_cleaner.state.floatbank2_b_level          22588 non-null  float64\n",
      " 73  secondary_cleaner.state.floatbank3_a_air            22585 non-null  float64\n",
      " 74  secondary_cleaner.state.floatbank3_a_level          22587 non-null  float64\n",
      " 75  secondary_cleaner.state.floatbank3_b_air            22592 non-null  float64\n",
      " 76  secondary_cleaner.state.floatbank3_b_level          22590 non-null  float64\n",
      " 77  secondary_cleaner.state.floatbank4_a_air            22571 non-null  float64\n",
      " 78  secondary_cleaner.state.floatbank4_a_level          22587 non-null  float64\n",
      " 79  secondary_cleaner.state.floatbank4_b_air            22608 non-null  float64\n",
      " 80  secondary_cleaner.state.floatbank4_b_level          22607 non-null  float64\n",
      " 81  secondary_cleaner.state.floatbank5_a_air            22615 non-null  float64\n",
      " 82  secondary_cleaner.state.floatbank5_a_level          22615 non-null  float64\n",
      " 83  secondary_cleaner.state.floatbank5_b_air            22615 non-null  float64\n",
      " 84  secondary_cleaner.state.floatbank5_b_level          22616 non-null  float64\n",
      " 85  secondary_cleaner.state.floatbank6_a_air            22597 non-null  float64\n",
      " 86  secondary_cleaner.state.floatbank6_a_level          22615 non-null  float64\n",
      "dtypes: float64(86), object(1)\n",
      "memory usage: 15.1+ MB\n"
     ]
    },
    {
     "data": {
      "text/plain": [
       "None"
      ]
     },
     "metadata": {},
     "output_type": "display_data"
    }
   ],
   "source": [
    "#full_data = pd.read_csv('/datasets/gold_recovery_full.csv')\n",
    "full_data = pd.read_csv('/Users/kazbek/Desktop/Python/Payton/DS - обучение/Сп_2/gold_recovery_full.csv')\n",
    "display(full_data.info())\n",
    "# чтение файла. Просмотрел общий вид таблиц и посмотрел инфу по файлу."
   ]
  },
  {
   "cell_type": "markdown",
   "metadata": {},
   "source": [
    "<div style=\"border:solid gray 2px; padding: 20px\">\n",
    "Заказчик иследования предоставил нам 3 таблицы - одна с исходными данными и две разделенные (тренировочная и обучающая выборка). \n",
    "    \n",
    " * Обучающий датасет содержит 16860 записей и 87 столбцов\n",
    " * Тестовый датасет содержит 5856 записей и 53 столбца\n",
    " * Полный датасет содержит  22716 записей и 87 столбцов\n",
    " \n",
    "В тестовую таблицу попали только 53 столбца. Некоторые параметры недоступны, потому что замеряются и/или рассчитываются значительно позже. Из-за этого в тестовой выборке отсутствуют некоторые признаки, которые могут быть в обучающей. Также в тестовом наборе нет целевых признаков.\n",
    "\n",
    "Стoлбцы именованны в нижнем регистре на латинице. Но есть точки в названниях - желательно перевести их в нижнее подчеркивание. В данных есть много пропусков, исследуем их количество."
   ]
  },
  {
   "cell_type": "code",
   "execution_count": 62,
   "metadata": {},
   "outputs": [],
   "source": [
    "train_data.columns = train_data.columns.str.replace(\"[.]\", \"_\")\n",
    "test_data.columns = test_data.columns.str.replace(\"[.]\", \"_\")\n",
    "full_data.columns = full_data.columns.str.replace(\"[.]\", \"_\")\n",
    "# изменим названия всех столбцов, заменим точки на нижнее подчеркивание - так будет проще работать!"
   ]
  },
  {
   "cell_type": "code",
   "execution_count": 63,
   "metadata": {},
   "outputs": [],
   "source": [
    "#display(full_data.info())"
   ]
  },
  {
   "cell_type": "markdown",
   "metadata": {},
   "source": [
    "<a href='#0.0'>Содержание'</a>"
   ]
  },
  {
   "cell_type": "markdown",
   "metadata": {},
   "source": [
    "### 1.2 Проверка правильности рассчета эффективность обогащени <a id='1.2'></a>"
   ]
  },
  {
   "cell_type": "code",
   "execution_count": 64,
   "metadata": {},
   "outputs": [
    {
     "data": {
      "text/plain": [
       "0.000000      320\n",
       "83.406924      10\n",
       "100.000000      6\n",
       "91.792293       5\n",
       "91.636690       4\n",
       "85.533758       3\n",
       "89.524066       1\n",
       "77.463713       1\n",
       "87.281625       1\n",
       "79.828758       1\n",
       "Name: rougher_output_recovery, dtype: int64"
      ]
     },
     "metadata": {},
     "output_type": "display_data"
    },
    {
     "data": {
      "text/plain": [
       "0"
      ]
     },
     "metadata": {},
     "output_type": "display_data"
    }
   ],
   "source": [
    "# Проверим, что эффективность обогащения рассчитана правильно. \n",
    "# Вычислим её на обучающей выборке для признака rougher.output.recovery. \n",
    "# Найдем MAE между нашими расчётами и значением признака. \n",
    "display(train_data['rougher_output_recovery'].value_counts().head(10))\n",
    "rougher_recovery = train_data['rougher_output_recovery'].dropna()\n",
    "# Проверим на пропуски\n",
    "display(rougher_recovery.isna().sum())"
   ]
  },
  {
   "cell_type": "code",
   "execution_count": 65,
   "metadata": {},
   "outputs": [],
   "source": [
    "# Создадим функцию расчета эффективность обогащения\n",
    "def rec(C,F,T):\n",
    "    recovery = ((C*(F-T))/(F*(C-T)))*100\n",
    "    return recovery"
   ]
  },
  {
   "cell_type": "markdown",
   "metadata": {},
   "source": [
    "<div style=\"border:solid gray 2px; padding: 20px\">\n",
    "    \n",
    " C = rougher.output.concentrate_au — доля золота в концентрате после флотации/очистки;\n",
    " \n",
    " F = rougher.input.feed_au — доля золота в сырье/концентрате до флотации/очистки;\n",
    " \n",
    " T = rougher.output.tail_au — доля золота в отвальных хвостах после флотации/очистки.\n"
   ]
  },
  {
   "cell_type": "code",
   "execution_count": 66,
   "metadata": {},
   "outputs": [
    {
     "data": {
      "text/plain": [
       "-0.000000      320\n",
       "-inf            29\n",
       " 83.406924      10\n",
       " 100.000000      6\n",
       " 91.792293       5\n",
       "              ... \n",
       " 81.222672       1\n",
       " 90.893920       1\n",
       " 78.166353       1\n",
       " 90.242793       1\n",
       " 84.111039       1\n",
       "Length: 14207, dtype: int64"
      ]
     },
     "metadata": {},
     "output_type": "display_data"
    },
    {
     "data": {
      "text/plain": [
       "2283"
      ]
     },
     "metadata": {},
     "output_type": "display_data"
    }
   ],
   "source": [
    "# Применим функцию и проверим на пропуски\n",
    "recovery = rec(train_data['rougher_output_concentrate_au'],train_data['rougher_input_feed_au'],\n",
    "               train_data['rougher_output_tail_au'])\n",
    "display(recovery.value_counts())\n",
    "display(recovery.isna().sum())"
   ]
  },
  {
   "cell_type": "code",
   "execution_count": 67,
   "metadata": {},
   "outputs": [
    {
     "data": {
      "text/plain": [
       "-0.000000      320\n",
       " 83.406924      10\n",
       " 100.000000      6\n",
       " 91.792293       5\n",
       " 91.636690       4\n",
       " 85.533758       3\n",
       " 95.647541       1\n",
       " 72.669867       1\n",
       " 83.217311       1\n",
       " 86.298677       1\n",
       "dtype: int64"
      ]
     },
     "metadata": {},
     "output_type": "display_data"
    },
    {
     "data": {
      "text/plain": [
       "0"
      ]
     },
     "metadata": {},
     "output_type": "display_data"
    }
   ],
   "source": [
    "# Заменим значения inf на пропуски и затем удалим пропуски\n",
    "recovery = recovery.replace([-np.inf,np.inf],[None,None])\n",
    "recovery = recovery.dropna()\n",
    "display(recovery.value_counts().head(10))\n",
    "display(recovery.isna().sum())"
   ]
  },
  {
   "cell_type": "code",
   "execution_count": 68,
   "metadata": {},
   "outputs": [
    {
     "data": {
      "text/plain": [
       "'Средняя абсолютная ошибка (МАЕ) между рассчетами составляет : 9.27608241893178e-15'"
      ]
     },
     "metadata": {},
     "output_type": "display_data"
    }
   ],
   "source": [
    "# Расчитаем МАЕ\n",
    "mae = (rougher_recovery-recovery).abs().sum()/len(recovery)\n",
    "display(f'Средняя абсолютная ошибка (МАЕ) между рассчетами составляет : {mae}')"
   ]
  },
  {
   "cell_type": "markdown",
   "metadata": {},
   "source": [
    "<div class=\"alert alert-info\">\n",
    "МАЕ очень низкая и стремится к нулю, точности расчета эффективности обогащения - высокая.\n",
    "</div>"
   ]
  },
  {
   "cell_type": "markdown",
   "metadata": {},
   "source": [
    "<div class=\"alert alert-block alert-success\">\n",
    "<b>Комментарий ревьюера:</b> \n",
    "MAE найдено верно. Значит, формула для расчета эффективности корректная, и доступные данные ее подтверждают.\n",
    "    \n",
    "Обрати внимание, столбцы rougher_recovery (истинные значения без пропусков) и recovery (рассчитанные по формуле без пропусков и бесконечностей) **разной длины**. Лучше было бы создать таблицу из двух столбцов: с истинными и соответствующими предсказанными значениями, удалить в ней пропуски, а затем вычислить MAE.\n",
    "</div>"
   ]
  },
  {
   "cell_type": "markdown",
   "metadata": {},
   "source": [
    "<a href='#0.0'>Содержание'</a>"
   ]
  },
  {
   "cell_type": "markdown",
   "metadata": {},
   "source": [
    "### 1.3 Анализ признаков <a id='1.3'></a>"
   ]
  },
  {
   "cell_type": "code",
   "execution_count": 69,
   "metadata": {},
   "outputs": [
    {
     "data": {
      "text/plain": [
       "{'final_output_concentrate_ag',\n",
       " 'final_output_concentrate_au',\n",
       " 'final_output_concentrate_pb',\n",
       " 'final_output_concentrate_sol',\n",
       " 'final_output_recovery',\n",
       " 'final_output_tail_ag',\n",
       " 'final_output_tail_au',\n",
       " 'final_output_tail_pb',\n",
       " 'final_output_tail_sol',\n",
       " 'primary_cleaner_output_concentrate_ag',\n",
       " 'primary_cleaner_output_concentrate_au',\n",
       " 'primary_cleaner_output_concentrate_pb',\n",
       " 'primary_cleaner_output_concentrate_sol',\n",
       " 'primary_cleaner_output_tail_ag',\n",
       " 'primary_cleaner_output_tail_au',\n",
       " 'primary_cleaner_output_tail_pb',\n",
       " 'primary_cleaner_output_tail_sol',\n",
       " 'rougher_calculation_au_pb_ratio',\n",
       " 'rougher_calculation_floatbank10_sulfate_to_au_feed',\n",
       " 'rougher_calculation_floatbank11_sulfate_to_au_feed',\n",
       " 'rougher_calculation_sulfate_to_au_concentrate',\n",
       " 'rougher_output_concentrate_ag',\n",
       " 'rougher_output_concentrate_au',\n",
       " 'rougher_output_concentrate_pb',\n",
       " 'rougher_output_concentrate_sol',\n",
       " 'rougher_output_recovery',\n",
       " 'rougher_output_tail_ag',\n",
       " 'rougher_output_tail_au',\n",
       " 'rougher_output_tail_pb',\n",
       " 'rougher_output_tail_sol',\n",
       " 'secondary_cleaner_output_tail_ag',\n",
       " 'secondary_cleaner_output_tail_au',\n",
       " 'secondary_cleaner_output_tail_pb',\n",
       " 'secondary_cleaner_output_tail_sol'}"
      ]
     },
     "execution_count": 69,
     "metadata": {},
     "output_type": "execute_result"
    }
   ],
   "source": [
    "# Проанализируем признаки, недоступные в тестовой выборке.\n",
    "set(train_data.columns) - set(test_data.columns)"
   ]
  },
  {
   "cell_type": "markdown",
   "metadata": {},
   "source": [
    "<div style=\"border:solid gray 2px; padding: 20px\">\n",
    "    \n",
    "Отсутсвуют 34 столбца. В основном это все выходные конечные данные после производственных процесов:\n",
    "    \n",
    " - черновые концентраты и хвосты (rougher.output.concentrate_au,rougher.output.tail_au),\n",
    "    \n",
    " - первичные концентраты и хвосты (primary_cleaner.output.concentrate_au,primary_cleaner.output.tail_au),\n",
    "    \n",
    " - вторичные хвосты(secondary_cleaner.output.tail_au) \n",
    "    \n",
    " - финальные концентраты и хвосты(final.output.concentrate_au,final.output.tail_au) \n",
    "    \n",
    " - расчетные характеристики (rougher.calculation.sulfate_to_au_concentrate,rougher.calculation.floatbank10_sulfate_to_au_feed, rougher.calculation.floatbank11_sulfate_to_au_feed, rougher.calculation.au_pb_ratio)\n",
    "    \n",
    " - признаки расчета эффективности чернового концетрата и финального продукта(rougher.output.recovery,final.output.recovery)\n",
    "\n",
    "Тип данных во всех осутствующих столбцах - float64(дробный)"
   ]
  },
  {
   "cell_type": "markdown",
   "metadata": {},
   "source": [
    "<div class=\"alert alert-block alert-success\">\n",
    "<b>Комментарий ревьюера:</b> \n",
    "Список недоступных в тестовой выборке признаков найден верно. Это выходные (output) и некоторые расчетные (calculation) характеристики процесса. Данные параметры недоступны, так как их невозможно получить/измерить во время выполнения технологического процесса.\n",
    "</div>"
   ]
  },
  {
   "cell_type": "markdown",
   "metadata": {},
   "source": [
    "<a href='#0.0'>Содержание'</a>"
   ]
  },
  {
   "cell_type": "markdown",
   "metadata": {},
   "source": [
    "### 1.4 Предобработка данных<a id='1.4'></a>"
   ]
  },
  {
   "cell_type": "code",
   "execution_count": 70,
   "metadata": {},
   "outputs": [],
   "source": [
    "# Для начала оставим в обучающей таблице только те столбцы, которые есть в тестовой\n",
    "train_data = train_data[test_data.columns]"
   ]
  },
  {
   "cell_type": "code",
   "execution_count": 71,
   "metadata": {},
   "outputs": [
    {
     "data": {
      "text/plain": [
       "date                                            0\n",
       "primary_cleaner_input_sulfate                 302\n",
       "primary_cleaner_input_depressant              284\n",
       "primary_cleaner_input_feed_size                 0\n",
       "primary_cleaner_input_xanthate                166\n",
       "primary_cleaner_state_floatbank8_a_air         16\n",
       "primary_cleaner_state_floatbank8_a_level       16\n",
       "primary_cleaner_state_floatbank8_b_air         16\n",
       "primary_cleaner_state_floatbank8_b_level       16\n",
       "primary_cleaner_state_floatbank8_c_air         16\n",
       "primary_cleaner_state_floatbank8_c_level       16\n",
       "primary_cleaner_state_floatbank8_d_air         16\n",
       "primary_cleaner_state_floatbank8_d_level       16\n",
       "rougher_input_feed_ag                          16\n",
       "rougher_input_feed_pb                          16\n",
       "rougher_input_feed_rate                        40\n",
       "rougher_input_feed_size                        22\n",
       "rougher_input_feed_sol                         67\n",
       "rougher_input_feed_au                          16\n",
       "rougher_input_floatbank10_sulfate             257\n",
       "rougher_input_floatbank10_xanthate            123\n",
       "rougher_input_floatbank11_sulfate              55\n",
       "rougher_input_floatbank11_xanthate            353\n",
       "rougher_state_floatbank10_a_air                17\n",
       "rougher_state_floatbank10_a_level              16\n",
       "rougher_state_floatbank10_b_air                17\n",
       "rougher_state_floatbank10_b_level              16\n",
       "rougher_state_floatbank10_c_air                17\n",
       "rougher_state_floatbank10_c_level              16\n",
       "rougher_state_floatbank10_d_air                17\n",
       "rougher_state_floatbank10_d_level              16\n",
       "rougher_state_floatbank10_e_air                17\n",
       "rougher_state_floatbank10_e_level              16\n",
       "rougher_state_floatbank10_f_air                17\n",
       "rougher_state_floatbank10_f_level              16\n",
       "secondary_cleaner_state_floatbank2_a_air       20\n",
       "secondary_cleaner_state_floatbank2_a_level     16\n",
       "secondary_cleaner_state_floatbank2_b_air       23\n",
       "secondary_cleaner_state_floatbank2_b_level     16\n",
       "secondary_cleaner_state_floatbank3_a_air       34\n",
       "secondary_cleaner_state_floatbank3_a_level     16\n",
       "secondary_cleaner_state_floatbank3_b_air       16\n",
       "secondary_cleaner_state_floatbank3_b_level     16\n",
       "secondary_cleaner_state_floatbank4_a_air       16\n",
       "secondary_cleaner_state_floatbank4_a_level     16\n",
       "secondary_cleaner_state_floatbank4_b_air       16\n",
       "secondary_cleaner_state_floatbank4_b_level     16\n",
       "secondary_cleaner_state_floatbank5_a_air       16\n",
       "secondary_cleaner_state_floatbank5_a_level     16\n",
       "secondary_cleaner_state_floatbank5_b_air       16\n",
       "secondary_cleaner_state_floatbank5_b_level     16\n",
       "secondary_cleaner_state_floatbank6_a_air       16\n",
       "secondary_cleaner_state_floatbank6_a_level     16\n",
       "dtype: int64"
      ]
     },
     "metadata": {},
     "output_type": "display_data"
    },
    {
     "data": {
      "text/plain": [
       "'Количество дубликатов : 0'"
      ]
     },
     "metadata": {},
     "output_type": "display_data"
    }
   ],
   "source": [
    "# Посмотрим какое колличество пропусков в каждой таблице и проверим на наличие дубликатов\n",
    "display(test_data.isna().sum().head(86))\n",
    "display(f'Количество дубликатов : {test_data.duplicated().sum()}')"
   ]
  },
  {
   "cell_type": "code",
   "execution_count": 72,
   "metadata": {},
   "outputs": [
    {
     "data": {
      "text/plain": [
       "date                                             0\n",
       "primary_cleaner_input_sulfate                 1307\n",
       "primary_cleaner_input_depressant              1262\n",
       "primary_cleaner_input_feed_size                  0\n",
       "primary_cleaner_input_xanthate                 985\n",
       "primary_cleaner_state_floatbank8_a_air          40\n",
       "primary_cleaner_state_floatbank8_a_level        33\n",
       "primary_cleaner_state_floatbank8_b_air          40\n",
       "primary_cleaner_state_floatbank8_b_level        27\n",
       "primary_cleaner_state_floatbank8_c_air          38\n",
       "primary_cleaner_state_floatbank8_c_level        27\n",
       "primary_cleaner_state_floatbank8_d_air          39\n",
       "primary_cleaner_state_floatbank8_d_level        27\n",
       "rougher_input_feed_ag                           82\n",
       "rougher_input_feed_pb                          228\n",
       "rougher_input_feed_rate                        513\n",
       "rougher_input_feed_size                        417\n",
       "rougher_input_feed_sol                         292\n",
       "rougher_input_feed_au                           83\n",
       "rougher_input_floatbank10_sulfate             1044\n",
       "rougher_input_floatbank10_xanthate             346\n",
       "rougher_input_floatbank11_sulfate              623\n",
       "rougher_input_floatbank11_xanthate            1904\n",
       "rougher_state_floatbank10_a_air                 53\n",
       "rougher_state_floatbank10_a_level               53\n",
       "rougher_state_floatbank10_b_air                 53\n",
       "rougher_state_floatbank10_b_level               53\n",
       "rougher_state_floatbank10_c_air                 53\n",
       "rougher_state_floatbank10_c_level               46\n",
       "rougher_state_floatbank10_d_air                 58\n",
       "rougher_state_floatbank10_d_level               51\n",
       "rougher_state_floatbank10_e_air                603\n",
       "rougher_state_floatbank10_e_level               51\n",
       "rougher_state_floatbank10_f_air                 58\n",
       "rougher_state_floatbank10_f_level               58\n",
       "secondary_cleaner_state_floatbank2_a_air       363\n",
       "secondary_cleaner_state_floatbank2_a_level     109\n",
       "secondary_cleaner_state_floatbank2_b_air       155\n",
       "secondary_cleaner_state_floatbank2_b_level     112\n",
       "secondary_cleaner_state_floatbank3_a_air        97\n",
       "secondary_cleaner_state_floatbank3_a_level     113\n",
       "secondary_cleaner_state_floatbank3_b_air       108\n",
       "secondary_cleaner_state_floatbank3_b_level     110\n",
       "secondary_cleaner_state_floatbank4_a_air       129\n",
       "secondary_cleaner_state_floatbank4_a_level     113\n",
       "secondary_cleaner_state_floatbank4_b_air        92\n",
       "secondary_cleaner_state_floatbank4_b_level      93\n",
       "secondary_cleaner_state_floatbank5_a_air        85\n",
       "secondary_cleaner_state_floatbank5_a_level      85\n",
       "secondary_cleaner_state_floatbank5_b_air        85\n",
       "secondary_cleaner_state_floatbank5_b_level      84\n",
       "secondary_cleaner_state_floatbank6_a_air       103\n",
       "secondary_cleaner_state_floatbank6_a_level      85\n",
       "dtype: int64"
      ]
     },
     "metadata": {},
     "output_type": "display_data"
    },
    {
     "data": {
      "text/plain": [
       "'Количество дубликатов : 0'"
      ]
     },
     "metadata": {},
     "output_type": "display_data"
    }
   ],
   "source": [
    "display(train_data.isna().sum().head(86))\n",
    "display(f'Количество дубликатов : {train_data.duplicated().sum()}')"
   ]
  },
  {
   "cell_type": "code",
   "execution_count": 73,
   "metadata": {},
   "outputs": [
    {
     "data": {
      "text/plain": [
       "date                                                     0\n",
       "final_output_concentrate_ag                             89\n",
       "final_output_concentrate_pb                             87\n",
       "final_output_concentrate_sol                           385\n",
       "final_output_concentrate_au                             86\n",
       "final_output_recovery                                 1963\n",
       "final_output_tail_ag                                    83\n",
       "final_output_tail_pb                                   200\n",
       "final_output_tail_sol                                  271\n",
       "final_output_tail_au                                    81\n",
       "primary_cleaner_input_sulfate                         1609\n",
       "primary_cleaner_input_depressant                      1546\n",
       "primary_cleaner_input_feed_size                          0\n",
       "primary_cleaner_input_xanthate                        1151\n",
       "primary_cleaner_output_concentrate_ag                   98\n",
       "primary_cleaner_output_concentrate_pb                  448\n",
       "primary_cleaner_output_concentrate_sol                 798\n",
       "primary_cleaner_output_concentrate_au                   98\n",
       "primary_cleaner_output_tail_ag                         102\n",
       "primary_cleaner_output_tail_pb                         122\n",
       "primary_cleaner_output_tail_sol                        351\n",
       "primary_cleaner_output_tail_au                          99\n",
       "primary_cleaner_state_floatbank8_a_air                  56\n",
       "primary_cleaner_state_floatbank8_a_level                49\n",
       "primary_cleaner_state_floatbank8_b_air                  56\n",
       "primary_cleaner_state_floatbank8_b_level                43\n",
       "primary_cleaner_state_floatbank8_c_air                  54\n",
       "primary_cleaner_state_floatbank8_c_level                43\n",
       "primary_cleaner_state_floatbank8_d_air                  55\n",
       "primary_cleaner_state_floatbank8_d_level                43\n",
       "rougher_calculation_sulfate_to_au_concentrate           44\n",
       "rougher_calculation_floatbank10_sulfate_to_au_feed      44\n",
       "rougher_calculation_floatbank11_sulfate_to_au_feed      44\n",
       "rougher_calculation_au_pb_ratio                       1627\n",
       "rougher_input_feed_ag                                   98\n",
       "rougher_input_feed_pb                                  244\n",
       "rougher_input_feed_rate                                553\n",
       "rougher_input_feed_size                                439\n",
       "rougher_input_feed_sol                                 359\n",
       "rougher_input_feed_au                                   99\n",
       "rougher_input_floatbank10_sulfate                     1301\n",
       "rougher_input_floatbank10_xanthate                     469\n",
       "rougher_input_floatbank11_sulfate                      678\n",
       "rougher_input_floatbank11_xanthate                    2257\n",
       "rougher_output_concentrate_ag                           98\n",
       "rougher_output_concentrate_pb                           98\n",
       "rougher_output_concentrate_sol                         190\n",
       "rougher_output_concentrate_au                           98\n",
       "rougher_output_recovery                               3119\n",
       "rougher_output_tail_ag                                2737\n",
       "rougher_output_tail_pb                                  98\n",
       "rougher_output_tail_sol                               2736\n",
       "rougher_output_tail_au                                2736\n",
       "rougher_state_floatbank10_a_air                         70\n",
       "rougher_state_floatbank10_a_level                       69\n",
       "rougher_state_floatbank10_b_air                         70\n",
       "rougher_state_floatbank10_b_level                       69\n",
       "rougher_state_floatbank10_c_air                         70\n",
       "rougher_state_floatbank10_c_level                       62\n",
       "rougher_state_floatbank10_d_air                         75\n",
       "rougher_state_floatbank10_d_level                       67\n",
       "rougher_state_floatbank10_e_air                        620\n",
       "rougher_state_floatbank10_e_level                       67\n",
       "rougher_state_floatbank10_f_air                         75\n",
       "rougher_state_floatbank10_f_level                       74\n",
       "secondary_cleaner_output_tail_ag                       100\n",
       "secondary_cleaner_output_tail_pb                       116\n",
       "secondary_cleaner_output_tail_sol                     2215\n",
       "secondary_cleaner_output_tail_au                        98\n",
       "secondary_cleaner_state_floatbank2_a_air               383\n",
       "secondary_cleaner_state_floatbank2_a_level             125\n",
       "secondary_cleaner_state_floatbank2_b_air               178\n",
       "secondary_cleaner_state_floatbank2_b_level             128\n",
       "secondary_cleaner_state_floatbank3_a_air               131\n",
       "secondary_cleaner_state_floatbank3_a_level             129\n",
       "secondary_cleaner_state_floatbank3_b_air               124\n",
       "secondary_cleaner_state_floatbank3_b_level             126\n",
       "secondary_cleaner_state_floatbank4_a_air               145\n",
       "secondary_cleaner_state_floatbank4_a_level             129\n",
       "secondary_cleaner_state_floatbank4_b_air               108\n",
       "secondary_cleaner_state_floatbank4_b_level             109\n",
       "secondary_cleaner_state_floatbank5_a_air               101\n",
       "secondary_cleaner_state_floatbank5_a_level             101\n",
       "secondary_cleaner_state_floatbank5_b_air               101\n",
       "secondary_cleaner_state_floatbank5_b_level             100\n",
       "secondary_cleaner_state_floatbank6_a_air               119\n",
       "dtype: int64"
      ]
     },
     "metadata": {},
     "output_type": "display_data"
    },
    {
     "data": {
      "text/plain": [
       "'Количество дубликатов : 0'"
      ]
     },
     "metadata": {},
     "output_type": "display_data"
    }
   ],
   "source": [
    "display(full_data.isna().sum().head(86))\n",
    "display(f'Количество дубликатов : {full_data.duplicated().sum()}')"
   ]
  },
  {
   "cell_type": "markdown",
   "metadata": {},
   "source": [
    "<div class=\"alert alert-info\">\n",
    "По условию нашей задачи данные индексируются датой и временем получения информации (признак date). Соседние по времени параметры часто похожи.Данные упорядочены по дате, можно заполнить пропуск средним между известными значениями.\n",
    "</div>"
   ]
  },
  {
   "cell_type": "code",
   "execution_count": 74,
   "metadata": {},
   "outputs": [
    {
     "data": {
      "text/html": [
       "<div>\n",
       "<style scoped>\n",
       "    .dataframe tbody tr th:only-of-type {\n",
       "        vertical-align: middle;\n",
       "    }\n",
       "\n",
       "    .dataframe tbody tr th {\n",
       "        vertical-align: top;\n",
       "    }\n",
       "\n",
       "    .dataframe thead th {\n",
       "        text-align: right;\n",
       "    }\n",
       "</style>\n",
       "<table border=\"1\" class=\"dataframe\">\n",
       "  <thead>\n",
       "    <tr style=\"text-align: right;\">\n",
       "      <th></th>\n",
       "      <th>primary_cleaner_input_sulfate</th>\n",
       "      <th>primary_cleaner_input_depressant</th>\n",
       "      <th>primary_cleaner_input_feed_size</th>\n",
       "      <th>primary_cleaner_input_xanthate</th>\n",
       "      <th>primary_cleaner_state_floatbank8_a_air</th>\n",
       "      <th>...</th>\n",
       "      <th>secondary_cleaner_state_floatbank5_a_level</th>\n",
       "      <th>secondary_cleaner_state_floatbank5_b_air</th>\n",
       "      <th>secondary_cleaner_state_floatbank5_b_level</th>\n",
       "      <th>secondary_cleaner_state_floatbank6_a_air</th>\n",
       "      <th>secondary_cleaner_state_floatbank6_a_level</th>\n",
       "    </tr>\n",
       "    <tr>\n",
       "      <th>date</th>\n",
       "      <th></th>\n",
       "      <th></th>\n",
       "      <th></th>\n",
       "      <th></th>\n",
       "      <th></th>\n",
       "      <th></th>\n",
       "      <th></th>\n",
       "      <th></th>\n",
       "      <th></th>\n",
       "      <th></th>\n",
       "      <th></th>\n",
       "    </tr>\n",
       "  </thead>\n",
       "  <tbody>\n",
       "    <tr>\n",
       "      <th>2016-01-15 00:00:00</th>\n",
       "      <td>127.092003</td>\n",
       "      <td>10.128295</td>\n",
       "      <td>7.25</td>\n",
       "      <td>0.988759</td>\n",
       "      <td>1549.775757</td>\n",
       "      <td>...</td>\n",
       "      <td>-498.310211</td>\n",
       "      <td>8.079666</td>\n",
       "      <td>-500.470978</td>\n",
       "      <td>14.151341</td>\n",
       "      <td>-605.841980</td>\n",
       "    </tr>\n",
       "    <tr>\n",
       "      <th>2016-01-15 01:00:00</th>\n",
       "      <td>125.629232</td>\n",
       "      <td>10.296251</td>\n",
       "      <td>7.25</td>\n",
       "      <td>1.002663</td>\n",
       "      <td>1576.166671</td>\n",
       "      <td>...</td>\n",
       "      <td>-500.169983</td>\n",
       "      <td>7.984757</td>\n",
       "      <td>-500.582168</td>\n",
       "      <td>13.998353</td>\n",
       "      <td>-599.787184</td>\n",
       "    </tr>\n",
       "    <tr>\n",
       "      <th>2016-01-15 02:00:00</th>\n",
       "      <td>123.819808</td>\n",
       "      <td>11.316280</td>\n",
       "      <td>7.25</td>\n",
       "      <td>0.991265</td>\n",
       "      <td>1601.556163</td>\n",
       "      <td>...</td>\n",
       "      <td>-500.129135</td>\n",
       "      <td>8.013877</td>\n",
       "      <td>-500.517572</td>\n",
       "      <td>14.028663</td>\n",
       "      <td>-601.427363</td>\n",
       "    </tr>\n",
       "    <tr>\n",
       "      <th>2016-01-15 03:00:00</th>\n",
       "      <td>122.270188</td>\n",
       "      <td>11.322140</td>\n",
       "      <td>7.25</td>\n",
       "      <td>0.996739</td>\n",
       "      <td>1599.968720</td>\n",
       "      <td>...</td>\n",
       "      <td>-499.201640</td>\n",
       "      <td>7.977324</td>\n",
       "      <td>-500.255908</td>\n",
       "      <td>14.005551</td>\n",
       "      <td>-599.996129</td>\n",
       "    </tr>\n",
       "    <tr>\n",
       "      <th>2016-01-15 04:00:00</th>\n",
       "      <td>117.988169</td>\n",
       "      <td>11.913613</td>\n",
       "      <td>7.25</td>\n",
       "      <td>1.009869</td>\n",
       "      <td>1601.339707</td>\n",
       "      <td>...</td>\n",
       "      <td>-501.686727</td>\n",
       "      <td>7.894242</td>\n",
       "      <td>-500.356035</td>\n",
       "      <td>13.996647</td>\n",
       "      <td>-601.496691</td>\n",
       "    </tr>\n",
       "  </tbody>\n",
       "</table>\n",
       "<p>5 rows × 52 columns</p>\n",
       "</div>"
      ],
      "text/plain": [
       "                     primary_cleaner_input_sulfate  \\\n",
       "date                                                 \n",
       "2016-01-15 00:00:00                     127.092003   \n",
       "2016-01-15 01:00:00                     125.629232   \n",
       "2016-01-15 02:00:00                     123.819808   \n",
       "2016-01-15 03:00:00                     122.270188   \n",
       "2016-01-15 04:00:00                     117.988169   \n",
       "\n",
       "                     primary_cleaner_input_depressant  \\\n",
       "date                                                    \n",
       "2016-01-15 00:00:00                         10.128295   \n",
       "2016-01-15 01:00:00                         10.296251   \n",
       "2016-01-15 02:00:00                         11.316280   \n",
       "2016-01-15 03:00:00                         11.322140   \n",
       "2016-01-15 04:00:00                         11.913613   \n",
       "\n",
       "                     primary_cleaner_input_feed_size  \\\n",
       "date                                                   \n",
       "2016-01-15 00:00:00                             7.25   \n",
       "2016-01-15 01:00:00                             7.25   \n",
       "2016-01-15 02:00:00                             7.25   \n",
       "2016-01-15 03:00:00                             7.25   \n",
       "2016-01-15 04:00:00                             7.25   \n",
       "\n",
       "                     primary_cleaner_input_xanthate  \\\n",
       "date                                                  \n",
       "2016-01-15 00:00:00                        0.988759   \n",
       "2016-01-15 01:00:00                        1.002663   \n",
       "2016-01-15 02:00:00                        0.991265   \n",
       "2016-01-15 03:00:00                        0.996739   \n",
       "2016-01-15 04:00:00                        1.009869   \n",
       "\n",
       "                     primary_cleaner_state_floatbank8_a_air  ...  \\\n",
       "date                                                         ...   \n",
       "2016-01-15 00:00:00                             1549.775757  ...   \n",
       "2016-01-15 01:00:00                             1576.166671  ...   \n",
       "2016-01-15 02:00:00                             1601.556163  ...   \n",
       "2016-01-15 03:00:00                             1599.968720  ...   \n",
       "2016-01-15 04:00:00                             1601.339707  ...   \n",
       "\n",
       "                     secondary_cleaner_state_floatbank5_a_level  \\\n",
       "date                                                              \n",
       "2016-01-15 00:00:00                                 -498.310211   \n",
       "2016-01-15 01:00:00                                 -500.169983   \n",
       "2016-01-15 02:00:00                                 -500.129135   \n",
       "2016-01-15 03:00:00                                 -499.201640   \n",
       "2016-01-15 04:00:00                                 -501.686727   \n",
       "\n",
       "                     secondary_cleaner_state_floatbank5_b_air  \\\n",
       "date                                                            \n",
       "2016-01-15 00:00:00                                  8.079666   \n",
       "2016-01-15 01:00:00                                  7.984757   \n",
       "2016-01-15 02:00:00                                  8.013877   \n",
       "2016-01-15 03:00:00                                  7.977324   \n",
       "2016-01-15 04:00:00                                  7.894242   \n",
       "\n",
       "                     secondary_cleaner_state_floatbank5_b_level  \\\n",
       "date                                                              \n",
       "2016-01-15 00:00:00                                 -500.470978   \n",
       "2016-01-15 01:00:00                                 -500.582168   \n",
       "2016-01-15 02:00:00                                 -500.517572   \n",
       "2016-01-15 03:00:00                                 -500.255908   \n",
       "2016-01-15 04:00:00                                 -500.356035   \n",
       "\n",
       "                     secondary_cleaner_state_floatbank6_a_air  \\\n",
       "date                                                            \n",
       "2016-01-15 00:00:00                                 14.151341   \n",
       "2016-01-15 01:00:00                                 13.998353   \n",
       "2016-01-15 02:00:00                                 14.028663   \n",
       "2016-01-15 03:00:00                                 14.005551   \n",
       "2016-01-15 04:00:00                                 13.996647   \n",
       "\n",
       "                     secondary_cleaner_state_floatbank6_a_level  \n",
       "date                                                             \n",
       "2016-01-15 00:00:00                                 -605.841980  \n",
       "2016-01-15 01:00:00                                 -599.787184  \n",
       "2016-01-15 02:00:00                                 -601.427363  \n",
       "2016-01-15 03:00:00                                 -599.996129  \n",
       "2016-01-15 04:00:00                                 -601.496691  \n",
       "\n",
       "[5 rows x 52 columns]"
      ]
     },
     "metadata": {},
     "output_type": "display_data"
    }
   ],
   "source": [
    "# столбец date переведем в формат даты. Сделаем столбец date индексом для всех таблиц, методом interpolate заполним все пропуски\n",
    "train_data['date'] = pd.to_datetime(train_data['date'], dayfirst=True)\n",
    "train_data = train_data.set_index(['date'])\n",
    "train_data = train_data.interpolate(method='time')\n",
    "display(train_data.head())"
   ]
  },
  {
   "cell_type": "code",
   "execution_count": 75,
   "metadata": {},
   "outputs": [
    {
     "data": {
      "text/plain": [
       "primary_cleaner_input_sulfate                 0\n",
       "primary_cleaner_input_depressant              0\n",
       "primary_cleaner_input_feed_size               0\n",
       "primary_cleaner_input_xanthate                0\n",
       "primary_cleaner_state_floatbank8_a_air        0\n",
       "primary_cleaner_state_floatbank8_a_level      0\n",
       "primary_cleaner_state_floatbank8_b_air        0\n",
       "primary_cleaner_state_floatbank8_b_level      0\n",
       "primary_cleaner_state_floatbank8_c_air        0\n",
       "primary_cleaner_state_floatbank8_c_level      0\n",
       "primary_cleaner_state_floatbank8_d_air        0\n",
       "primary_cleaner_state_floatbank8_d_level      0\n",
       "rougher_input_feed_ag                         0\n",
       "rougher_input_feed_pb                         0\n",
       "rougher_input_feed_rate                       0\n",
       "rougher_input_feed_size                       0\n",
       "rougher_input_feed_sol                        0\n",
       "rougher_input_feed_au                         0\n",
       "rougher_input_floatbank10_sulfate             0\n",
       "rougher_input_floatbank10_xanthate            0\n",
       "rougher_input_floatbank11_sulfate             0\n",
       "rougher_input_floatbank11_xanthate            0\n",
       "rougher_state_floatbank10_a_air               0\n",
       "rougher_state_floatbank10_a_level             0\n",
       "rougher_state_floatbank10_b_air               0\n",
       "rougher_state_floatbank10_b_level             0\n",
       "rougher_state_floatbank10_c_air               0\n",
       "rougher_state_floatbank10_c_level             0\n",
       "rougher_state_floatbank10_d_air               0\n",
       "rougher_state_floatbank10_d_level             0\n",
       "rougher_state_floatbank10_e_air               0\n",
       "rougher_state_floatbank10_e_level             0\n",
       "rougher_state_floatbank10_f_air               0\n",
       "rougher_state_floatbank10_f_level             0\n",
       "secondary_cleaner_state_floatbank2_a_air      0\n",
       "secondary_cleaner_state_floatbank2_a_level    0\n",
       "secondary_cleaner_state_floatbank2_b_air      0\n",
       "secondary_cleaner_state_floatbank2_b_level    0\n",
       "secondary_cleaner_state_floatbank3_a_air      0\n",
       "secondary_cleaner_state_floatbank3_a_level    0\n",
       "secondary_cleaner_state_floatbank3_b_air      0\n",
       "secondary_cleaner_state_floatbank3_b_level    0\n",
       "secondary_cleaner_state_floatbank4_a_air      0\n",
       "secondary_cleaner_state_floatbank4_a_level    0\n",
       "secondary_cleaner_state_floatbank4_b_air      0\n",
       "secondary_cleaner_state_floatbank4_b_level    0\n",
       "secondary_cleaner_state_floatbank5_a_air      0\n",
       "secondary_cleaner_state_floatbank5_a_level    0\n",
       "secondary_cleaner_state_floatbank5_b_air      0\n",
       "secondary_cleaner_state_floatbank5_b_level    0\n",
       "secondary_cleaner_state_floatbank6_a_air      0\n",
       "secondary_cleaner_state_floatbank6_a_level    0\n",
       "dtype: int64"
      ]
     },
     "metadata": {},
     "output_type": "display_data"
    }
   ],
   "source": [
    "display(train_data.isna().sum().head(83))"
   ]
  },
  {
   "cell_type": "code",
   "execution_count": 76,
   "metadata": {},
   "outputs": [],
   "source": [
    "test_data['date'] = pd.to_datetime(test_data['date'], dayfirst=True)\n",
    "test_data = test_data.set_index(['date'])\n",
    "test_data = test_data.interpolate(method='time')"
   ]
  },
  {
   "cell_type": "code",
   "execution_count": 77,
   "metadata": {},
   "outputs": [],
   "source": [
    "# В full_data в целевых признаках нужно удалить пропуски, а не заполнять дабы не исказить предсказания в моделях\n",
    "full_data['date'] = pd.to_datetime(full_data['date'], dayfirst=True)\n",
    "full_data = full_data.set_index(['date'])\n",
    "full_data = full_data.dropna(subset=['rougher_output_recovery','final_output_recovery'])\n",
    "full_data = full_data.interpolate(method='time')\n",
    "#display(full_data.isna().sum().head(83))"
   ]
  },
  {
   "cell_type": "code",
   "execution_count": 78,
   "metadata": {},
   "outputs": [
    {
     "data": {
      "text/plain": [
       "primary_cleaner_input_sulfate                 0\n",
       "primary_cleaner_input_depressant              0\n",
       "primary_cleaner_input_feed_size               0\n",
       "primary_cleaner_input_xanthate                0\n",
       "primary_cleaner_state_floatbank8_a_air        0\n",
       "primary_cleaner_state_floatbank8_a_level      0\n",
       "primary_cleaner_state_floatbank8_b_air        0\n",
       "primary_cleaner_state_floatbank8_b_level      0\n",
       "primary_cleaner_state_floatbank8_c_air        0\n",
       "primary_cleaner_state_floatbank8_c_level      0\n",
       "primary_cleaner_state_floatbank8_d_air        0\n",
       "primary_cleaner_state_floatbank8_d_level      0\n",
       "rougher_input_feed_ag                         0\n",
       "rougher_input_feed_pb                         0\n",
       "rougher_input_feed_rate                       0\n",
       "rougher_input_feed_size                       0\n",
       "rougher_input_feed_sol                        0\n",
       "rougher_input_feed_au                         0\n",
       "rougher_input_floatbank10_sulfate             0\n",
       "rougher_input_floatbank10_xanthate            0\n",
       "rougher_input_floatbank11_sulfate             0\n",
       "rougher_input_floatbank11_xanthate            0\n",
       "rougher_state_floatbank10_a_air               0\n",
       "rougher_state_floatbank10_a_level             0\n",
       "rougher_state_floatbank10_b_air               0\n",
       "rougher_state_floatbank10_b_level             0\n",
       "rougher_state_floatbank10_c_air               0\n",
       "rougher_state_floatbank10_c_level             0\n",
       "rougher_state_floatbank10_d_air               0\n",
       "rougher_state_floatbank10_d_level             0\n",
       "rougher_state_floatbank10_e_air               0\n",
       "rougher_state_floatbank10_e_level             0\n",
       "rougher_state_floatbank10_f_air               0\n",
       "rougher_state_floatbank10_f_level             0\n",
       "secondary_cleaner_state_floatbank2_a_air      0\n",
       "secondary_cleaner_state_floatbank2_a_level    0\n",
       "secondary_cleaner_state_floatbank2_b_air      0\n",
       "secondary_cleaner_state_floatbank2_b_level    0\n",
       "secondary_cleaner_state_floatbank3_a_air      0\n",
       "secondary_cleaner_state_floatbank3_a_level    0\n",
       "secondary_cleaner_state_floatbank3_b_air      0\n",
       "secondary_cleaner_state_floatbank3_b_level    0\n",
       "secondary_cleaner_state_floatbank4_a_air      0\n",
       "secondary_cleaner_state_floatbank4_a_level    0\n",
       "secondary_cleaner_state_floatbank4_b_air      0\n",
       "secondary_cleaner_state_floatbank4_b_level    0\n",
       "secondary_cleaner_state_floatbank5_a_air      0\n",
       "secondary_cleaner_state_floatbank5_a_level    0\n",
       "secondary_cleaner_state_floatbank5_b_air      0\n",
       "secondary_cleaner_state_floatbank5_b_level    0\n",
       "secondary_cleaner_state_floatbank6_a_air      0\n",
       "secondary_cleaner_state_floatbank6_a_level    0\n",
       "dtype: int64"
      ]
     },
     "metadata": {},
     "output_type": "display_data"
    }
   ],
   "source": [
    "# Оставим в обучающей и тестовой выборках индексы значений только совпадающие с индексами в Общей выборке.\n",
    "#train_data = train_data[~train_data.index.isin(full_data.index)]\n",
    "#test_data = test_data[~test_data.index.isin(full_data.index)]\n",
    "train_data = train_data.query('index in @full_data.index')\n",
    "test_data = test_data.query('index in @full_data.index')\n",
    "display(train_data.isna().sum().head(83))"
   ]
  },
  {
   "cell_type": "markdown",
   "metadata": {},
   "source": [
    "<a id='Error'></a>"
   ]
  },
  {
   "cell_type": "markdown",
   "metadata": {},
   "source": [
    "<div class=\"alert alert-block alert-danger\">\n",
    "<b>Комментарий ревьюера:</b> \n",
    "Пропуски в целевых столбцах (их у нас два) заполнять некорректно, их следует удалить.\n",
    "</div>\n",
    "\n",
    "<div class=\"alert alert-block alert-success\">\n",
    "<b>Комментарий ревьюера:</b> \n",
    "Остальные пропуски, действительно, можно заполнить методом interpolate. Или их можно было заполнить предыдущими значениями.\n",
    "</div>"
   ]
  },
  {
   "cell_type": "markdown",
   "metadata": {},
   "source": [
    "<div style=\"border:solid blue 2px; padding: 20px\">\n",
    "    \n",
    "<font color='blue'> Я не решался что-то удалять из-за уменьшения  датасета, но если я правильно понимаю - в целевых признаках нужно удалить пропуски, а не заполнять дабы не исказить предсказания в моделях? В итоге у меня не получается удалить пропуски в целевых признаках full - у меня так не работает подсчет лучшей модели, так как появляются около 1000 пропусков после того как я разделяю выборку на features и target - train_target_rougher = full_data.loc[train_data.index,'rougher_output_recovery']. Если удалить эти новые пропуски, то у нас не совпадают выборки, которые мы подаем на модель... Что делать? подскажи...."
   ]
  },
  {
   "cell_type": "markdown",
   "metadata": {},
   "source": [
    "<div class=\"alert alert-block alert-danger\">\n",
    "<b>Комментарий ревьюера v2:</b>    \n",
    "Да, пропуски в целевых признаках обязательно следует удалять, чтобы не исказить предсказания. Да, можно сначала удалить пропуски в целевых признаках выборки full, но затем нужно оставить в обучающей и тестовой выборке только те записи, которые остались в выборке full (пригодится функция *.isin(full_data.index)).\n",
    "</div>"
   ]
  },
  {
   "cell_type": "markdown",
   "metadata": {},
   "source": [
    "<div style=\"border:solid blue 2px; padding: 20px\">\n",
    "    \n",
    "<font color='blue'> Мучался с isin(full_data.index)) но, что-то не не получилось )) буду сидеть учить. Пока решил сделать методом query('index in @full_data.index')"
   ]
  },
  {
   "cell_type": "markdown",
   "metadata": {},
   "source": [
    "<div class=\"alert alert-info\">\n",
    "Проверим корреляцию между целевыми признаками и всеми остальными, выведим на экран только корреляцию больше 0.5. Так же посмотрим на статистические показатели, посмотрим на стандартное отклонение среднее, медиану и максимальные и минимальные значения\n",
    "</div>"
   ]
  },
  {
   "cell_type": "markdown",
   "metadata": {},
   "source": [
    "<a href='#0.0'>Содержание'</a>"
   ]
  },
  {
   "cell_type": "markdown",
   "metadata": {},
   "source": [
    "### 1.5 Исследование корреляции признаков <a id='1.5'></a>"
   ]
  },
  {
   "cell_type": "code",
   "execution_count": 79,
   "metadata": {},
   "outputs": [],
   "source": [
    "# Создадим функцию, которая выводит корреляцию между признаками и целевым признаком.\n",
    "# Функция получает таблицу с нужными столбцами на входе, перебирает циклом столбцы и выводит корреляцию\n",
    "def corr_output(data):\n",
    "    for column in data:\n",
    "        correlation_1 = full_data['rougher_output_recovery'].corr(data[column]) # выводим корреляцию методом corr\n",
    "        if abs(correlation_1) >= 0.5:\n",
    "            display('Корреляция между целевым признаком rougher recovery и признаком {}: {:.2f}'.format(column, correlation_1))\n",
    "        correlation_2 = full_data['final_output_recovery'].corr(data[column]) # выводим корреляцию методом corr\n",
    "        if abs(correlation_2) >= 0.5:\n",
    "            display('Корреляция между целевым признаком final recovery и признаком {}: {:.2f}'.format(column, correlation_2))\n",
    "corr_output(train_data)"
   ]
  },
  {
   "cell_type": "markdown",
   "metadata": {},
   "source": [
    "<div class=\"alert alert-block alert-warning\">\n",
    "    \n",
    "<b>Комментарий ревьюера:</b> \n",
    "    \n",
    "~~С 0.5 нужно сравнивать **абсолютное** значение коэффициента корреляции, так как коэффициент может принимать и отрицательные значения.~~\n",
    "    \n",
    "~~Замечание относится и к анализу корреляций ниже – с порогом 0.7 необходимо сравнивать абсолютные значения.~~\n",
    "</div>"
   ]
  },
  {
   "cell_type": "markdown",
   "metadata": {},
   "source": [
    "<div style=\"border:solid blue 2px; padding: 20px\">\n",
    "    \n",
    "<font color='blue'> Все верно! Действительно, если я указываю условия >= то отрицательные значения не попадут на вывод! а по модулю все заработает, но единственный минус мы не сможем понять это отрицательная корреляция или положительная )) Исправил!"
   ]
  },
  {
   "cell_type": "markdown",
   "metadata": {},
   "source": [
    "<div class=\"alert alert-block alert-success\">\n",
    "<b>Комментарий ревьюера v2:</b>    \n",
    "Да, все верно.\n",
    "</div>"
   ]
  },
  {
   "cell_type": "code",
   "execution_count": 80,
   "metadata": {},
   "outputs": [
    {
     "data": {
      "text/html": [
       "<div>\n",
       "<style scoped>\n",
       "    .dataframe tbody tr th:only-of-type {\n",
       "        vertical-align: middle;\n",
       "    }\n",
       "\n",
       "    .dataframe tbody tr th {\n",
       "        vertical-align: top;\n",
       "    }\n",
       "\n",
       "    .dataframe thead th {\n",
       "        text-align: right;\n",
       "    }\n",
       "</style>\n",
       "<table border=\"1\" class=\"dataframe\">\n",
       "  <thead>\n",
       "    <tr style=\"text-align: right;\">\n",
       "      <th></th>\n",
       "      <th>primary_cleaner_input_sulfate</th>\n",
       "      <th>primary_cleaner_input_depressant</th>\n",
       "      <th>primary_cleaner_input_feed_size</th>\n",
       "      <th>primary_cleaner_input_xanthate</th>\n",
       "      <th>primary_cleaner_state_floatbank8_a_air</th>\n",
       "      <th>...</th>\n",
       "      <th>secondary_cleaner_state_floatbank5_a_level</th>\n",
       "      <th>secondary_cleaner_state_floatbank5_b_air</th>\n",
       "      <th>secondary_cleaner_state_floatbank5_b_level</th>\n",
       "      <th>secondary_cleaner_state_floatbank6_a_air</th>\n",
       "      <th>secondary_cleaner_state_floatbank6_a_level</th>\n",
       "    </tr>\n",
       "  </thead>\n",
       "  <tbody>\n",
       "    <tr>\n",
       "      <th>count</th>\n",
       "      <td>14149.000000</td>\n",
       "      <td>14149.000000</td>\n",
       "      <td>14149.000000</td>\n",
       "      <td>14149.000000</td>\n",
       "      <td>14149.000000</td>\n",
       "      <td>...</td>\n",
       "      <td>14149.000000</td>\n",
       "      <td>14149.000000</td>\n",
       "      <td>14149.000000</td>\n",
       "      <td>14149.000000</td>\n",
       "      <td>14149.000000</td>\n",
       "    </tr>\n",
       "    <tr>\n",
       "      <th>mean</th>\n",
       "      <td>133.186336</td>\n",
       "      <td>8.851629</td>\n",
       "      <td>7.322310</td>\n",
       "      <td>0.881161</td>\n",
       "      <td>1608.015611</td>\n",
       "      <td>...</td>\n",
       "      <td>-483.957101</td>\n",
       "      <td>13.064233</td>\n",
       "      <td>-483.967715</td>\n",
       "      <td>19.576542</td>\n",
       "      <td>-506.804980</td>\n",
       "    </tr>\n",
       "    <tr>\n",
       "      <th>std</th>\n",
       "      <td>39.618377</td>\n",
       "      <td>3.376536</td>\n",
       "      <td>0.614062</td>\n",
       "      <td>0.375985</td>\n",
       "      <td>128.384508</td>\n",
       "      <td>...</td>\n",
       "      <td>37.891666</td>\n",
       "      <td>5.765570</td>\n",
       "      <td>39.206766</td>\n",
       "      <td>5.764623</td>\n",
       "      <td>37.085999</td>\n",
       "    </tr>\n",
       "    <tr>\n",
       "      <th>min</th>\n",
       "      <td>0.003112</td>\n",
       "      <td>0.000000</td>\n",
       "      <td>1.080000</td>\n",
       "      <td>0.000005</td>\n",
       "      <td>0.006352</td>\n",
       "      <td>...</td>\n",
       "      <td>-797.142475</td>\n",
       "      <td>0.646208</td>\n",
       "      <td>-800.006180</td>\n",
       "      <td>0.195324</td>\n",
       "      <td>-809.398668</td>\n",
       "    </tr>\n",
       "    <tr>\n",
       "      <th>25%</th>\n",
       "      <td>106.768242</td>\n",
       "      <td>6.037872</td>\n",
       "      <td>6.960000</td>\n",
       "      <td>0.604464</td>\n",
       "      <td>1595.695815</td>\n",
       "      <td>...</td>\n",
       "      <td>-500.363169</td>\n",
       "      <td>8.994384</td>\n",
       "      <td>-500.105994</td>\n",
       "      <td>14.989244</td>\n",
       "      <td>-500.745309</td>\n",
       "    </tr>\n",
       "    <tr>\n",
       "      <th>50%</th>\n",
       "      <td>132.967762</td>\n",
       "      <td>8.033766</td>\n",
       "      <td>7.290000</td>\n",
       "      <td>0.887145</td>\n",
       "      <td>1601.827195</td>\n",
       "      <td>...</td>\n",
       "      <td>-499.702424</td>\n",
       "      <td>11.997537</td>\n",
       "      <td>-499.914556</td>\n",
       "      <td>19.984165</td>\n",
       "      <td>-500.061488</td>\n",
       "    </tr>\n",
       "    <tr>\n",
       "      <th>75%</th>\n",
       "      <td>159.797693</td>\n",
       "      <td>11.512843</td>\n",
       "      <td>7.700000</td>\n",
       "      <td>1.100079</td>\n",
       "      <td>1699.717397</td>\n",
       "      <td>...</td>\n",
       "      <td>-487.864322</td>\n",
       "      <td>17.982826</td>\n",
       "      <td>-453.274822</td>\n",
       "      <td>24.991615</td>\n",
       "      <td>-499.536481</td>\n",
       "    </tr>\n",
       "    <tr>\n",
       "      <th>max</th>\n",
       "      <td>250.127834</td>\n",
       "      <td>20.052255</td>\n",
       "      <td>10.470000</td>\n",
       "      <td>2.512968</td>\n",
       "      <td>2079.531340</td>\n",
       "      <td>...</td>\n",
       "      <td>-275.073125</td>\n",
       "      <td>27.926001</td>\n",
       "      <td>-157.396071</td>\n",
       "      <td>32.188906</td>\n",
       "      <td>-104.427459</td>\n",
       "    </tr>\n",
       "  </tbody>\n",
       "</table>\n",
       "<p>8 rows × 52 columns</p>\n",
       "</div>"
      ],
      "text/plain": [
       "       primary_cleaner_input_sulfate  primary_cleaner_input_depressant  \\\n",
       "count                   14149.000000                      14149.000000   \n",
       "mean                      133.186336                          8.851629   \n",
       "std                        39.618377                          3.376536   \n",
       "min                         0.003112                          0.000000   \n",
       "25%                       106.768242                          6.037872   \n",
       "50%                       132.967762                          8.033766   \n",
       "75%                       159.797693                         11.512843   \n",
       "max                       250.127834                         20.052255   \n",
       "\n",
       "       primary_cleaner_input_feed_size  primary_cleaner_input_xanthate  \\\n",
       "count                     14149.000000                    14149.000000   \n",
       "mean                          7.322310                        0.881161   \n",
       "std                           0.614062                        0.375985   \n",
       "min                           1.080000                        0.000005   \n",
       "25%                           6.960000                        0.604464   \n",
       "50%                           7.290000                        0.887145   \n",
       "75%                           7.700000                        1.100079   \n",
       "max                          10.470000                        2.512968   \n",
       "\n",
       "       primary_cleaner_state_floatbank8_a_air  ...  \\\n",
       "count                            14149.000000  ...   \n",
       "mean                              1608.015611  ...   \n",
       "std                                128.384508  ...   \n",
       "min                                  0.006352  ...   \n",
       "25%                               1595.695815  ...   \n",
       "50%                               1601.827195  ...   \n",
       "75%                               1699.717397  ...   \n",
       "max                               2079.531340  ...   \n",
       "\n",
       "       secondary_cleaner_state_floatbank5_a_level  \\\n",
       "count                                14149.000000   \n",
       "mean                                  -483.957101   \n",
       "std                                     37.891666   \n",
       "min                                   -797.142475   \n",
       "25%                                   -500.363169   \n",
       "50%                                   -499.702424   \n",
       "75%                                   -487.864322   \n",
       "max                                   -275.073125   \n",
       "\n",
       "       secondary_cleaner_state_floatbank5_b_air  \\\n",
       "count                              14149.000000   \n",
       "mean                                  13.064233   \n",
       "std                                    5.765570   \n",
       "min                                    0.646208   \n",
       "25%                                    8.994384   \n",
       "50%                                   11.997537   \n",
       "75%                                   17.982826   \n",
       "max                                   27.926001   \n",
       "\n",
       "       secondary_cleaner_state_floatbank5_b_level  \\\n",
       "count                                14149.000000   \n",
       "mean                                  -483.967715   \n",
       "std                                     39.206766   \n",
       "min                                   -800.006180   \n",
       "25%                                   -500.105994   \n",
       "50%                                   -499.914556   \n",
       "75%                                   -453.274822   \n",
       "max                                   -157.396071   \n",
       "\n",
       "       secondary_cleaner_state_floatbank6_a_air  \\\n",
       "count                              14149.000000   \n",
       "mean                                  19.576542   \n",
       "std                                    5.764623   \n",
       "min                                    0.195324   \n",
       "25%                                   14.989244   \n",
       "50%                                   19.984165   \n",
       "75%                                   24.991615   \n",
       "max                                   32.188906   \n",
       "\n",
       "       secondary_cleaner_state_floatbank6_a_level  \n",
       "count                                14149.000000  \n",
       "mean                                  -506.804980  \n",
       "std                                     37.085999  \n",
       "min                                   -809.398668  \n",
       "25%                                   -500.745309  \n",
       "50%                                   -500.061488  \n",
       "75%                                   -499.536481  \n",
       "max                                   -104.427459  \n",
       "\n",
       "[8 rows x 52 columns]"
      ]
     },
     "execution_count": 80,
     "metadata": {},
     "output_type": "execute_result"
    }
   ],
   "source": [
    "train_data.describe()"
   ]
  },
  {
   "cell_type": "code",
   "execution_count": 81,
   "metadata": {},
   "outputs": [
    {
     "data": {
      "text/plain": [
       "<matplotlib.axes._subplots.AxesSubplot at 0x7fbe1ff16f40>"
      ]
     },
     "execution_count": 81,
     "metadata": {},
     "output_type": "execute_result"
    },
    {
     "data": {
      "image/png": "[encoded data removed]",
      "text/plain": [
       "<Figure size 720x576 with 2 Axes>"
      ]
     },
     "metadata": {},
     "output_type": "display_data"
    }
   ],
   "source": [
    "# Визуализируем нашу корреляцию, но уже между всеми признаками на этапе флотации\n",
    "# выведим корреляцию больше 0.7 - сильная корреляция\n",
    "plt.figure(figsize=(10,8))\n",
    "sns.heatmap(abs(train_data.loc[:,'rougher_input_feed_ag':'rougher_state_floatbank10_f_level'].corr())>=0.70,\n",
    "            cmap='coolwarm',annot=True)"
   ]
  },
  {
   "cell_type": "code",
   "execution_count": 82,
   "metadata": {},
   "outputs": [
    {
     "data": {
      "text/plain": [
       "<matplotlib.axes._subplots.AxesSubplot at 0x7fbe1f5bd3a0>"
      ]
     },
     "execution_count": 82,
     "metadata": {},
     "output_type": "execute_result"
    },
    {
     "data": {
      "image/png": "[encoded data removed]",
      "text/plain": [
       "<Figure size 576x432 with 2 Axes>"
      ]
     },
     "metadata": {},
     "output_type": "display_data"
    }
   ],
   "source": [
    "# Визуализируем нашу корреляцию, но уже между всеми признаками на первоначальном этапе отчистки,\n",
    "# выведим корреляцию больше 0.7 - сильная корреляция\n",
    "plt.figure(figsize=(8,6))\n",
    "sns.heatmap(abs(train_data.loc[:,:'primary_cleaner_state_floatbank8_d_level'].corr())>=0.70,cmap='coolwarm',annot=True)"
   ]
  },
  {
   "cell_type": "code",
   "execution_count": 83,
   "metadata": {},
   "outputs": [
    {
     "data": {
      "text/plain": [
       "<matplotlib.axes._subplots.AxesSubplot at 0x7fbe1ece0040>"
      ]
     },
     "execution_count": 83,
     "metadata": {},
     "output_type": "execute_result"
    },
    {
     "data": {
      "image/png": "[encoded data removed]",
      "text/plain": [
       "<Figure size 576x432 with 2 Axes>"
      ]
     },
     "metadata": {},
     "output_type": "display_data"
    }
   ],
   "source": [
    "# Визуализируем нашу корреляцию, но уже между всеми признаками на первоначальном этапе отчистки,\n",
    "# выведим корреляцию больше 0.7 - сильная корреляция\n",
    "plt.figure(figsize=(8,6))\n",
    "sns.heatmap(abs(train_data.loc[:,'secondary_cleaner_state_floatbank2_a_air':'secondary_cleaner_state_floatbank6_a_level'].corr())>=0.70,\n",
    "           cmap='coolwarm',annot=True)"
   ]
  },
  {
   "cell_type": "markdown",
   "metadata": {},
   "source": [
    "<div class=\"alert alert-info\">\n",
    "В ходе проведенного анализа сделали следующее:\n",
    "Изменили названия всех столбцов, заменим точки на нижнее подчеркивание.\n",
    "В данных обнаружены пропуски, дубликаты отсутствуют.\n",
    "Провели точность расчета эффективности обогащения для руды МАЕ.\n",
    "Проанализированы признаки, недоступные в тестовой выборке.\n",
    "Заполнены пропуски в данных.\n",
    "Изучили корреляцию и статистические показатели\n",
    "Можно было удалить коррелирующие столбцы для облегчения датасета, но не стал этого делать так, как не известно какие данные понадобятся заказчику\n",
    "</div>"
   ]
  },
  {
   "cell_type": "markdown",
   "metadata": {},
   "source": [
    "<div class=\"alert alert-block alert-success\">\n",
    "<b>Комментарий ревьюера:</b> \n",
    "Корреляция по модулю выше 0.7 считается высокой, выше 0.9 – очень высокой. Можно было бы подготовить несколько наборов признаков: с удалением высоко/очень высоко скоррелированных столбцов и без удаления и сравнить результаты.\n",
    "</div>"
   ]
  },
  {
   "cell_type": "markdown",
   "metadata": {},
   "source": [
    "<div style=\"border:solid blue 2px; padding: 20px\">\n",
    "    \n",
    "<font color='blue'> Я  так и планировал сделать, но из-за дедлайна я делал все быстро и с ошибками)) обычно, после зачтения проекта я с ним экспериментирую у себя локально..."
   ]
  },
  {
   "cell_type": "markdown",
   "metadata": {},
   "source": [
    "<a href='#0.0'>Содержание'</a>"
   ]
  },
  {
   "cell_type": "markdown",
   "metadata": {},
   "source": [
    "# 2. Анализ данных"
   ]
  },
  {
   "cell_type": "markdown",
   "metadata": {},
   "source": [
    "### 2.1 Исследование концентрации металлов (Au, Ag, Pb) на различных этапах очистки <a id='2.1'></a>"
   ]
  },
  {
   "cell_type": "code",
   "execution_count": 84,
   "metadata": {},
   "outputs": [
    {
     "data": {
      "image/png": "[encoded data removed]",
      "text/plain": [
       "<Figure size 1440x432 with 3 Axes>"
      ]
     },
     "metadata": {},
     "output_type": "display_data"
    }
   ],
   "source": [
    "# Посмотриv, как меняется концентрация металлов (Au, Ag, Pb) на различных этапах очистки. \n",
    "plt.subplots(figsize=(20,6))\n",
    "sns.set(style=\"darkgrid\")\n",
    "\n",
    "plt.subplot(1,3,1)\n",
    "ax = sns.distplot(full_data['rougher_input_feed_ag'],\n",
    "                  kde_kws={\"color\": \"g\", \"label\": \"сырье\"})\n",
    "ax = sns.distplot(full_data['rougher_output_concentrate_ag'],\n",
    "                  kde_kws={\"color\": \"b\", \"label\": \"флотация\"})\n",
    "ax = sns.distplot(full_data['primary_cleaner_output_concentrate_ag'],\n",
    "                  kde_kws={\"color\": \"r\", \"label\": \"первичная очистка\"})\n",
    "ax = sns.distplot(full_data['final_output_concentrate_ag'],\n",
    "                  kde_kws={\"color\": \"black\", \"label\": \"финальный результат\"})                                                   \n",
    "ax.set_xlabel('Значение')\n",
    "ax.set_ylabel('Частота')\n",
    "plt.title('Серебро')\n",
    "\n",
    "plt.subplot(1,3,2)\n",
    "ax = sns.distplot(full_data['rougher_input_feed_pb'],\n",
    "                  kde_kws={\"color\": \"g\", \"label\": \"сырье\"})\n",
    "ax = sns.distplot(full_data['rougher_output_concentrate_pb'],\n",
    "                  kde_kws={\"color\": \"b\", \"label\": \"флотация\"})\n",
    "ax = sns.distplot(full_data['primary_cleaner_output_concentrate_pb'],\n",
    "                  kde_kws={\"color\": \"r\", \"label\": \"первичная очистка\"})\n",
    "ax = sns.distplot(full_data['final_output_concentrate_pb'],\n",
    "                  kde_kws={\"color\": \"black\", \"label\": \"финальный результат\"})                                                   \n",
    "ax.set_xlabel('Значение')\n",
    "ax.set_ylabel('Частота')\n",
    "plt.title('Свинец')\n",
    "\n",
    "plt.subplot(1,3,3)\n",
    "ax = sns.distplot(full_data['rougher_input_feed_au'],\n",
    "                  kde_kws={\"color\": \"g\", \"label\": \"сырье\"})\n",
    "ax = sns.distplot(full_data['rougher_output_concentrate_au'],\n",
    "                  kde_kws={\"color\": \"b\", \"label\": \"флотация\"})\n",
    "ax = sns.distplot(full_data['primary_cleaner_output_concentrate_au'],\n",
    "                  kde_kws={\"color\": \"r\", \"label\": \"первичная очистка\"})\n",
    "ax = sns.distplot(full_data['final_output_concentrate_au'],\n",
    "                  kde_kws={\"color\": \"black\", \"label\": \"финальный результат\"})   \n",
    "ax.set_xlabel('Значение')\n",
    "ax.set_ylabel('Частота')\n",
    "plt.title('Золото')\n",
    "\n",
    "plt.show()"
   ]
  },
  {
   "cell_type": "markdown",
   "metadata": {},
   "source": [
    "<div class=\"alert alert-info\">\n",
    "Концентрация металлов менялась в сторону увеличения доли золота на каждом последующем этапе при этом свинец тоже увеличевался до последнего этапа отчистки(после первичной отчистки концентрация металла перестала увеличиваться). Доля серебра же наоборот снижается с каждым этапом отчистки.\n",
    "<div>"
   ]
  },
  {
   "cell_type": "markdown",
   "metadata": {},
   "source": [
    "<div class=\"alert alert-block alert-danger\">\n",
    "<b>Комментарий ревьюера:</b> \n",
    "    \n",
    "~~Добавь этап rougher.input.feed_*.~~\n",
    "</div>\n",
    "\n",
    "<div class=\"alert alert-block alert-warning\">\n",
    "<b>Комментарий ревьюера:</b> \n",
    "    \n",
    "~~Графики отличные, но лучше их перегруппировать: изобразить по одному графику для каждого металла, а этапы выделить разными цветами. Так проследить изменение концентраций будет легче.~~\n",
    "</div>"
   ]
  },
  {
   "cell_type": "markdown",
   "metadata": {},
   "source": [
    "<div style=\"border:solid blue 2px; padding: 20px\">\n",
    "    \n",
    "<font color='blue'> Исправил! забыл про сырье"
   ]
  },
  {
   "cell_type": "markdown",
   "metadata": {},
   "source": [
    "<div class=\"alert alert-block alert-warning\">\n",
    "<b>Комментарий ревьюера v2:</b>    \n",
    "Проверь выводы: что происходит с концентрацией свинца?\n",
    "</div>"
   ]
  },
  {
   "cell_type": "markdown",
   "metadata": {},
   "source": [
    "<div style=\"border:solid blue 2px; padding: 20px\">\n",
    "    \n",
    "<font color='blue'> Дополнил! "
   ]
  },
  {
   "cell_type": "markdown",
   "metadata": {},
   "source": [
    "<a href='#0.0'>Содержание'</a>"
   ]
  },
  {
   "cell_type": "markdown",
   "metadata": {},
   "source": [
    "### 2.2 Исследование распределения гранул сырья в обучающей и тестовой выборке <a id='2.2'></a>"
   ]
  },
  {
   "cell_type": "code",
   "execution_count": 85,
   "metadata": {},
   "outputs": [
    {
     "data": {
      "image/png": "[encoded data removed]",
      "text/plain": [
       "<Figure size 1152x576 with 1 Axes>"
      ]
     },
     "metadata": {},
     "output_type": "display_data"
    }
   ],
   "source": [
    "# Сравним распределения размеров гранул сырья на обучающей и тестовой выборках. \n",
    "# Создадим график для визуального анализа распредиления\n",
    "plt.subplots(figsize=(16,8))\n",
    "ax = sns.distplot(train_data['rougher_input_feed_size'],\n",
    "                  kde_kws={\"color\": \"g\", \"label\": \"Обучающая выборка\"})\n",
    "ax = sns.distplot(test_data['rougher_input_feed_size'],\n",
    "                  kde_kws={\"color\": \"r\", \"label\": \"Тестовая выборка\"})\n",
    "ax.set_xlabel('Значение')\n",
    "ax.set_ylabel('Частота')\n",
    "plt.title('Распределения размеров гранул')\n",
    "plt.show()"
   ]
  },
  {
   "cell_type": "markdown",
   "metadata": {},
   "source": [
    "<div class=\"alert alert-block alert-danger\">\n",
    "    \n",
    "<b>Комментарий ревьюера:</b> \n",
    "    \n",
    "~~Нас интересует размер гранул **сырья** rougher.input.feed_size.~~\n",
    "</div>\n",
    "\n",
    "<div class=\"alert alert-block alert-warning\">\n",
    "    \n",
    "<b>Комментарий ревьюера:</b> \n",
    "    \n",
    "~~Так как число объектов в обучающей и тестовой выборках отличается, то сравнивать гистограммы **частот** между собой неудобно, нужны гистограммы/кривые **плотностей распределений**. Но так как ты ниже еще изображаешь графики boxplot, то замечание не критическое.~~\n",
    "</div>"
   ]
  },
  {
   "cell_type": "markdown",
   "metadata": {},
   "source": [
    "<div style=\"border:solid blue 2px; padding: 20px\">\n",
    "    \n",
    "<font color='blue'> Исправил! Это все дедлайн виноват )))"
   ]
  },
  {
   "cell_type": "markdown",
   "metadata": {},
   "source": [
    "<div class=\"alert alert-block alert-success\">\n",
    "<b>Комментарий ревьюера v2:</b>    \n",
    "Отличный график :) Визуально значительных отличий между распределениями нет.\n",
    "</div>"
   ]
  },
  {
   "cell_type": "code",
   "execution_count": 86,
   "metadata": {},
   "outputs": [
    {
     "data": {
      "image/png": "[encoded data removed]",
      "text/plain": [
       "<Figure size 1152x144 with 1 Axes>"
      ]
     },
     "metadata": {},
     "output_type": "display_data"
    },
    {
     "data": {
      "image/png": "[encoded data removed]",
      "text/plain": [
       "<Figure size 1152x144 with 1 Axes>"
      ]
     },
     "metadata": {},
     "output_type": "display_data"
    }
   ],
   "source": [
    "# посторим ящик с усами для наглядного анализа выбросов и аномальных значений\n",
    "plt.figure(figsize=(16,2))\n",
    "plt.xticks(np.arange(0,16,step=0.5))\n",
    "plt.xlim(5, 10)\n",
    "sns.boxplot(x='primary_cleaner_input_feed_size', data=train_data)\n",
    "plt.show()    \n",
    "plt.figure(figsize=(16,2))\n",
    "plt.xticks(np.arange(0,16,step=0.5))\n",
    "plt.xlim(5, 10)\n",
    "sns.boxplot(x='primary_cleaner_input_feed_size', data=test_data)\n",
    "plt.show()"
   ]
  },
  {
   "cell_type": "markdown",
   "metadata": {},
   "source": [
    "<div class=\"alert alert-block alert-warning\">\n",
    "<b>Комментарий ревьюера:</b> \n",
    "    \n",
    "~~Задай один и тот же диапазон по оси x для удобства сравнения.~~\n",
    "</div>"
   ]
  },
  {
   "cell_type": "code",
   "execution_count": 87,
   "metadata": {},
   "outputs": [
    {
     "data": {
      "text/plain": [
       "'Статистические показатели обучающей выборки:'"
      ]
     },
     "metadata": {},
     "output_type": "display_data"
    },
    {
     "data": {
      "text/plain": [
       "count    14149.000000\n",
       "mean         7.322310\n",
       "std          0.614062\n",
       "min          1.080000\n",
       "25%          6.960000\n",
       "50%          7.290000\n",
       "75%          7.700000\n",
       "max         10.470000\n",
       "Name: primary_cleaner_input_feed_size, dtype: float64"
      ]
     },
     "metadata": {},
     "output_type": "display_data"
    },
    {
     "data": {
      "text/plain": [
       "'Статистические показатели тестовой выборки:'"
      ]
     },
     "metadata": {},
     "output_type": "display_data"
    },
    {
     "data": {
      "text/plain": [
       "count    5290.000000\n",
       "mean        7.266339\n",
       "std         0.610219\n",
       "min         5.650000\n",
       "25%         6.890000\n",
       "50%         7.250000\n",
       "75%         7.600000\n",
       "max        15.500000\n",
       "Name: primary_cleaner_input_feed_size, dtype: float64"
      ]
     },
     "metadata": {},
     "output_type": "display_data"
    }
   ],
   "source": [
    "# Выведим статистические показатели для сравнения распредилений\n",
    "display('Статистические показатели обучающей выборки:')\n",
    "display(train_data['primary_cleaner_input_feed_size'].describe())\n",
    "display('Статистические показатели тестовой выборки:')\n",
    "display(test_data['primary_cleaner_input_feed_size'].describe())"
   ]
  },
  {
   "cell_type": "markdown",
   "metadata": {},
   "source": [
    "<div class=\"alert alert-info\">\n",
    "Распределения на графике имеет похожую форму и принимают одинаковые значения, с разной плотностью для разных выборок. Изучим описательные статистики:максимальные значения 10 и 15 - можно отбросить значения свыше 11, минимальные значения 1 и 5 - можно отбросить то, что меньше 1, средние одинаковы для выборок, медиана почти одинаковая. Распределения не отличаются.\n",
    "<div>"
   ]
  },
  {
   "cell_type": "markdown",
   "metadata": {},
   "source": [
    "<a href='#0.0'>Содержание'</a>"
   ]
  },
  {
   "cell_type": "markdown",
   "metadata": {},
   "source": [
    "### 2.3 Исследование суммарной концентрации всех веществ на разных стадиях: в сырье, в черновом и финальном концентратах <a id='2.3'></a>"
   ]
  },
  {
   "cell_type": "code",
   "execution_count": 88,
   "metadata": {},
   "outputs": [],
   "source": [
    "# Исследуем суммарную концентрацию всех веществ на разных стадиях: в сырье, в черновом и финальном концентратах. \n",
    "# Создадим функцию, которая выводит три три параметра с суммарным значением столбцов концентрации металлов\n",
    "def total_concentration(data):\n",
    "    raw_material = (data['rougher_input_feed_ag']+\n",
    "                              data['rougher_input_feed_pb']+\n",
    "                              data['rougher_input_feed_sol']+\n",
    "                              data['rougher_input_feed_au'])\n",
    "    rough = (data['rougher_output_concentrate_ag']+\n",
    "                                      data['rougher_output_concentrate_pb']+\n",
    "                                      data['rougher_output_concentrate_au']+\n",
    "                                      data['rougher_output_concentrate_sol'])\n",
    "    final = (data['final_output_concentrate_ag']+\n",
    "                                    data['final_output_concentrate_pb']+\n",
    "                                    data['final_output_concentrate_au']+\n",
    "                                    data['final_output_concentrate_sol'])\n",
    "    return raw_material,rough,final"
   ]
  },
  {
   "cell_type": "code",
   "execution_count": 89,
   "metadata": {},
   "outputs": [
    {
     "data": {
      "image/png": "[encoded data removed]",
      "text/plain": [
       "<Figure size 1152x576 with 1 Axes>"
      ]
     },
     "metadata": {},
     "output_type": "display_data"
    }
   ],
   "source": [
    "rougher_input_feed_all,rougher_output_concentrate_all,final_output_concentrate_all = total_concentration(full_data)\n",
    "# Построим график для визуального анализа\n",
    "plt.figure(figsize=(16,8))\n",
    "sns.distplot(rougher_input_feed_all,color='r')\n",
    "sns.distplot(rougher_output_concentrate_all,color='b')\n",
    "sns.distplot(final_output_concentrate_all,color='g')\n",
    "plt.xticks(np.arange(0,90,step=5))\n",
    "plt.legend(labels=['Сырье','Черновой концентрат','Финальный концентрат'])\n",
    "plt.title(\"Суммарная концентрация всех веществ на разных стадиях\")\n",
    "plt.xlabel('Значения')\n",
    "plt.ylabel('Частота')\n",
    "plt.show()"
   ]
  },
  {
   "cell_type": "markdown",
   "metadata": {},
   "source": [
    "<div class=\"alert alert-info\">\n",
    "Очень много аномальных значений равных нулю, скорее всего возникли из-за ошибок выгрузки данных,аномалии необходимо удалить в обеих выборках.\n",
    "<div>"
   ]
  },
  {
   "cell_type": "markdown",
   "metadata": {},
   "source": [
    "<div class=\"alert alert-block alert-success\">\n",
    "<b>Комментарий ревьюера:</b> \n",
    "График отличный. Да, видно значительное число околонулевых наблюдений. Скорее всего, они связаны со сбоями измерительного оборудования, их необходимо удалить.\n",
    "</div>"
   ]
  },
  {
   "cell_type": "code",
   "execution_count": 90,
   "metadata": {},
   "outputs": [],
   "source": [
    "# Создадим функцию для удаления аномалий\n",
    "def removing_zeros(data,column):   \n",
    "    data[column] = data[data[column]>=1][column]\n",
    "    data.dropna(subset = [column], inplace = True)\n",
    "    return data[column]"
   ]
  },
  {
   "cell_type": "code",
   "execution_count": 91,
   "metadata": {},
   "outputs": [],
   "source": [
    "# Применим функцию к обучающей выборке\n",
    "train_data['rougher_input_feed_ag'] = removing_zeros(train_data,'rougher_input_feed_ag')\n",
    "train_data['rougher_input_feed_pb'] = removing_zeros(train_data,'rougher_input_feed_pb')\n",
    "train_data['rougher_input_feed_sol'] = removing_zeros(train_data,'rougher_input_feed_sol')\n",
    "train_data['rougher_input_feed_au'] = removing_zeros(train_data,'rougher_input_feed_au')"
   ]
  },
  {
   "cell_type": "code",
   "execution_count": 92,
   "metadata": {},
   "outputs": [],
   "source": [
    "# Применим функцию к тестовой выборке\n",
    "test_data['rougher_input_feed_ag'] = removing_zeros(test_data,'rougher_input_feed_ag')\n",
    "test_data['rougher_input_feed_pb'] = removing_zeros(test_data,'rougher_input_feed_pb')\n",
    "test_data['rougher_input_feed_sol'] = removing_zeros(test_data,'rougher_input_feed_sol')\n",
    "test_data['rougher_input_feed_au'] = removing_zeros(test_data,'rougher_input_feed_au')"
   ]
  },
  {
   "cell_type": "code",
   "execution_count": 93,
   "metadata": {},
   "outputs": [
    {
     "data": {
      "image/png": "[encoded data removed]",
      "text/plain": [
       "<Figure size 1440x720 with 2 Axes>"
      ]
     },
     "metadata": {},
     "output_type": "display_data"
    }
   ],
   "source": [
    "# Проверим наше удаление и выведим график по нужным нам столбцам в обучающей и тестовой выборках\n",
    "raw_material_train = (train_data['rougher_input_feed_ag']+\n",
    "                              train_data['rougher_input_feed_pb']+\n",
    "                              train_data['rougher_input_feed_sol']+\n",
    "                              train_data['rougher_input_feed_au'])\n",
    "raw_material_test = (test_data['rougher_input_feed_ag']+\n",
    "                              test_data['rougher_input_feed_pb']+\n",
    "                              test_data['rougher_input_feed_sol']+\n",
    "                              test_data['rougher_input_feed_au'])\n",
    "plt.subplots(figsize=(20, 10))\n",
    "plt.subplot(2,2,1)\n",
    "sns.distplot(raw_material_train,color='r')\n",
    "plt.xticks(np.arange(0,90,step=5))\n",
    "plt.title(\"Суммарная концентрация всех веществ в сырье на обучающей выборке\")\n",
    "plt.xlabel('Значения')\n",
    "plt.subplot(2,2,2)\n",
    "sns.distplot(raw_material_test,color='r')\n",
    "plt.xticks(np.arange(0,90,step=5))\n",
    "plt.title(\"Суммарная концентрация всех веществ в сырье на тестовой выборке\")\n",
    "plt.xlabel('Значения')\n",
    "plt.show()"
   ]
  },
  {
   "cell_type": "markdown",
   "metadata": {},
   "source": [
    "<div class=\"alert alert-info\">\n",
    "В ходе исследования данных, произвели следующие действия:\n",
    "    Изучили концентрацию металлов на различных этапах очистки\n",
    "    Изучили распределение гранул сырья в обучающей и тестовой выборках \n",
    "    Изучили суммарную концентрацию всех веществ на всех этапах\n",
    "    Удалены аномалии.\n",
    "<div>"
   ]
  },
  {
   "cell_type": "markdown",
   "metadata": {},
   "source": [
    "<div class=\"alert alert-block alert-success\">\n",
    "<b>Комментарий ревьюера:</b> \n",
    "Отлично, аномалий не осталось. Молодец, что повторно строишь графики, чтобы в этом убедиться.\n",
    "</div>"
   ]
  },
  {
   "cell_type": "markdown",
   "metadata": {},
   "source": [
    "<a href='#0.0'>Содержание'</a>"
   ]
  },
  {
   "cell_type": "markdown",
   "metadata": {},
   "source": [
    "# 3. Модель"
   ]
  },
  {
   "cell_type": "markdown",
   "metadata": {},
   "source": [
    "### 3.1. Напишите функцию для вычисления итоговой sMAPE <a id='3.1'></a> "
   ]
  },
  {
   "cell_type": "code",
   "execution_count": 94,
   "metadata": {},
   "outputs": [],
   "source": [
    "# Создадим функцию для вычисления метрики sMAPE и итоговой метрики sMAPE:\n",
    "def sMAPE(target, pred):\n",
    "    #smape = np.mean(200*np.abs(target-pred)/(np.abs(target)+np.abs(pred)))\n",
    "    smape = np.mean(abs(target - pred)/((abs(target) + abs(pred))/2))*100\n",
    "    return smape\n",
    "def result_smape(smape_rougher, smape_final):\n",
    "    result = 0.25*smape_rougher + 0.75*smape_final\n",
    "    return result"
   ]
  },
  {
   "cell_type": "markdown",
   "metadata": {},
   "source": [
    "<div class=\"alert alert-block alert-success\">\n",
    "<b>Комментарий ревьюера:</b> \n",
    "Функции для расчета sMAPE корректные.\n",
    "</div>"
   ]
  },
  {
   "cell_type": "code",
   "execution_count": 95,
   "metadata": {},
   "outputs": [],
   "source": [
    "# Сохраним для выборки данные в отдельных переменных. features — запишите в неё признаки; target — целевой признак.\n",
    "# так как у нас два целевых признака - сохраним отдельно для каждого признака и выборки и целевые признаки\n",
    "features_train_rougher = train_data.loc[:,'rougher_input_feed_ag':'rougher_state_floatbank10_f_level']\n",
    "features_train_final = train_data\n",
    "features_test_rougher = test_data.loc[:,'rougher_input_feed_ag':'rougher_state_floatbank10_f_level']\n",
    "features_test_final = test_data\n",
    "\n",
    "train_target_rougher = full_data.loc[train_data.index,'rougher_output_recovery']\n",
    "train_target_final = full_data.loc[train_data.index,'final_output_recovery']\n",
    "test_target_rougher = full_data.loc[test_data.index,'rougher_output_recovery']\n",
    "test_target_final = full_data.loc[test_data.index,'final_output_recovery']"
   ]
  },
  {
   "cell_type": "code",
   "execution_count": 96,
   "metadata": {},
   "outputs": [
    {
     "data": {
      "text/plain": [
       "(13986, 22)"
      ]
     },
     "metadata": {},
     "output_type": "display_data"
    },
    {
     "data": {
      "text/plain": [
       "(13986, 52)"
      ]
     },
     "metadata": {},
     "output_type": "display_data"
    },
    {
     "data": {
      "text/plain": [
       "(5276, 22)"
      ]
     },
     "metadata": {},
     "output_type": "display_data"
    },
    {
     "data": {
      "text/plain": [
       "(5276, 52)"
      ]
     },
     "metadata": {},
     "output_type": "display_data"
    },
    {
     "data": {
      "text/plain": [
       "(13986,)"
      ]
     },
     "metadata": {},
     "output_type": "display_data"
    },
    {
     "data": {
      "text/plain": [
       "(13986,)"
      ]
     },
     "metadata": {},
     "output_type": "display_data"
    },
    {
     "data": {
      "text/plain": [
       "(5276,)"
      ]
     },
     "metadata": {},
     "output_type": "display_data"
    },
    {
     "data": {
      "text/plain": [
       "(5276,)"
      ]
     },
     "metadata": {},
     "output_type": "display_data"
    }
   ],
   "source": [
    "# Проверим размер выборок\n",
    "display(features_train_rougher.shape)\n",
    "display(features_train_final.shape)\n",
    "display(features_test_rougher.shape)\n",
    "display(features_test_final.shape)\n",
    "display(train_target_rougher.shape)\n",
    "display(train_target_final.shape)\n",
    "display(test_target_rougher.shape)\n",
    "display(test_target_final.shape)"
   ]
  },
  {
   "cell_type": "markdown",
   "metadata": {},
   "source": [
    "<div class=\"alert alert-block alert-success\">\n",
    "<b>Комментарий ревьюера:</b> \n",
    "Ок, все верно. В принципе, для предсказания первого целевого признака тоже было допустимо использовать все признаки.\n",
    "</div>"
   ]
  },
  {
   "cell_type": "code",
   "execution_count": 97,
   "metadata": {},
   "outputs": [],
   "source": [
    "# Не совсем разобрался делать нам стандартизацию или нет.....\n",
    "#scaler = StandardScaler()\n",
    "#scaler.fit(features)\n",
    "#features = scaler.transform(features)\n",
    "#features_train = scaler.transform(features)\n",
    "#features_valid[numeric] = scaler.transform(features_valid[numeric])"
   ]
  },
  {
   "cell_type": "markdown",
   "metadata": {},
   "source": [
    "<div class=\"alert alert-block alert-success\">\n",
    "<b>Комментарий ревьюера:</b> \n",
    "Масштабирование – по желанию :)\n",
    "</div>"
   ]
  },
  {
   "cell_type": "markdown",
   "metadata": {},
   "source": [
    "<a href='#0.0'>Содержание'</a>"
   ]
  },
  {
   "cell_type": "markdown",
   "metadata": {},
   "source": [
    "### 3.2. Обучение разных моделей и оценка их качества кросс-валидацией <a id='3.2'></a>"
   ]
  },
  {
   "cell_type": "code",
   "execution_count": 98,
   "metadata": {},
   "outputs": [],
   "source": [
    "# Запишем в параметры нужные нам агрументы для функций: параметры для способа GridSearchCV, \n",
    "# изменим на нашу метрику, стандартную метрику в функции  cross_val_score\n",
    "scorer = make_scorer(sMAPE,greater_is_better=False)\n",
    "state = 12345\n",
    "parameters_tree = {'max_depth': range(1,11),'min_samples_leaf': range(1,6),'min_samples_split': range(2,6,2)}\n",
    "parameters_forest = {'n_estimators': range(10,41,10),'max_depth': range(1,6)}\n",
    "parameters_linear = {}"
   ]
  },
  {
   "cell_type": "markdown",
   "metadata": {},
   "source": [
    "<div class=\"alert alert-block alert-danger\">\n",
    "<b>Комментарий ревьюера:</b> \n",
    "    \n",
    "~~Обрати внимание на аргумент greater_is_better:\n",
    "    scorer = make_scorer(..., greater_is_better=...)\n",
    "Если неправильно его задать, то при вызове GridSearchCV(..., scoring=scorer) будут отбираться худшие, а не лучшие по нашей метрике качества гиперпараметры моделей.~~\n",
    "</div>"
   ]
  },
  {
   "cell_type": "markdown",
   "metadata": {},
   "source": [
    "<div style=\"border:solid blue 2px; padding: 20px\">\n",
    "    \n",
    "<font color='blue'> Исправил! Спасибо, теперь я понял этот параметр"
   ]
  },
  {
   "cell_type": "code",
   "execution_count": 99,
   "metadata": {},
   "outputs": [],
   "source": [
    "# Создадим функцию для преминения способа GridSearchCV для нахождения лучших параметров модели\n",
    "# и посчитаем методом кросс-валидации среднее Smape\n",
    "def best_parameters(Regressor,features,target,param):\n",
    "    model = GridSearchCV(estimator=Regressor, param_grid=param, scoring=scorer, n_jobs=-1,)\n",
    "    model.fit(features, target)\n",
    "    score = np.abs(cross_val_score(model, features, target, cv=4, scoring=scorer).mean())\n",
    "    display(f'Лучшие параметры: {model.best_params_}') \n",
    "    display('Метрики качества модели:')\n",
    "    display(score)\n",
    "    return score"
   ]
  },
  {
   "cell_type": "markdown",
   "metadata": {},
   "source": [
    "<div class=\"alert alert-block alert-success\">\n",
    "<b>Комментарий ревьюера:</b> \n",
    "Отличная функция, которая очень пригодится, чтобы не дублировать код для каждой модели и каждого целевого признака.\n",
    "</div>"
   ]
  },
  {
   "cell_type": "code",
   "execution_count": 100,
   "metadata": {},
   "outputs": [
    {
     "data": {
      "text/plain": [
       "'Модель решающего дерева для флотационного этапа:'"
      ]
     },
     "metadata": {},
     "output_type": "display_data"
    },
    {
     "data": {
      "text/plain": [
       "\"Лучшие параметры: {'max_depth': 3, 'min_samples_leaf': 4, 'min_samples_split': 2}\""
      ]
     },
     "metadata": {},
     "output_type": "display_data"
    },
    {
     "data": {
      "text/plain": [
       "'Метрики качества модели:'"
      ]
     },
     "metadata": {},
     "output_type": "display_data"
    },
    {
     "data": {
      "text/plain": [
       "12.661113300595709"
      ]
     },
     "metadata": {},
     "output_type": "display_data"
    }
   ],
   "source": [
    "display('Модель решающего дерева для флотационного этапа:')\n",
    "score_tree_rougher = best_parameters(DecisionTreeRegressor(random_state=state),\n",
    "                                     features_train_rougher,train_target_rougher,parameters_tree)"
   ]
  },
  {
   "cell_type": "code",
   "execution_count": 101,
   "metadata": {},
   "outputs": [
    {
     "data": {
      "text/plain": [
       "'Модель решающего дерева для финального этапа:'"
      ]
     },
     "metadata": {},
     "output_type": "display_data"
    },
    {
     "data": {
      "text/plain": [
       "\"Лучшие параметры: {'max_depth': 2, 'min_samples_leaf': 1, 'min_samples_split': 2}\""
      ]
     },
     "metadata": {},
     "output_type": "display_data"
    },
    {
     "data": {
      "text/plain": [
       "'Метрики качества модели:'"
      ]
     },
     "metadata": {},
     "output_type": "display_data"
    },
    {
     "data": {
      "text/plain": [
       "10.809647843257752"
      ]
     },
     "metadata": {},
     "output_type": "display_data"
    }
   ],
   "source": [
    "display('Модель решающего дерева для финального этапа:')\n",
    "score_tree_final = best_parameters(DecisionTreeRegressor(random_state=state),\n",
    "                                   features_train_final,train_target_final,parameters_tree)"
   ]
  },
  {
   "cell_type": "code",
   "execution_count": 102,
   "metadata": {},
   "outputs": [
    {
     "data": {
      "text/plain": [
       "'Итоговая метрика для модели решаюшего дерева:'"
      ]
     },
     "metadata": {},
     "output_type": "display_data"
    },
    {
     "data": {
      "text/plain": [
       "11.272514207592241"
      ]
     },
     "execution_count": 102,
     "metadata": {},
     "output_type": "execute_result"
    }
   ],
   "source": [
    "display('Итоговая метрика для модели решаюшего дерева:')\n",
    "result_smape(score_tree_rougher,score_tree_final)"
   ]
  },
  {
   "cell_type": "code",
   "execution_count": 103,
   "metadata": {},
   "outputs": [
    {
     "data": {
      "text/plain": [
       "'Модель линейной регрессии для флотационного этапа:'"
      ]
     },
     "metadata": {},
     "output_type": "display_data"
    },
    {
     "data": {
      "text/plain": [
       "'Лучшие параметры: {}'"
      ]
     },
     "metadata": {},
     "output_type": "display_data"
    },
    {
     "data": {
      "text/plain": [
       "'Метрики качества модели:'"
      ]
     },
     "metadata": {},
     "output_type": "display_data"
    },
    {
     "data": {
      "text/plain": [
       "12.998192629977504"
      ]
     },
     "metadata": {},
     "output_type": "display_data"
    }
   ],
   "source": [
    "display('Модель линейной регрессии для флотационного этапа:')\n",
    "score_linear_rougher = best_parameters(LinearRegression(),features_train_rougher,\n",
    "                                       train_target_rougher,parameters_linear)"
   ]
  },
  {
   "cell_type": "code",
   "execution_count": 104,
   "metadata": {},
   "outputs": [
    {
     "data": {
      "text/plain": [
       "'Модель линейной регрессии для финального этапа:'"
      ]
     },
     "metadata": {},
     "output_type": "display_data"
    },
    {
     "data": {
      "text/plain": [
       "'Лучшие параметры: {}'"
      ]
     },
     "metadata": {},
     "output_type": "display_data"
    },
    {
     "data": {
      "text/plain": [
       "'Метрики качества модели:'"
      ]
     },
     "metadata": {},
     "output_type": "display_data"
    },
    {
     "data": {
      "text/plain": [
       "12.160397379124152"
      ]
     },
     "metadata": {},
     "output_type": "display_data"
    }
   ],
   "source": [
    "display('Модель линейной регрессии для финального этапа:')\n",
    "score_linear_final = best_parameters(LinearRegression(),features_train_final,\n",
    "                                     train_target_final,parameters_linear)"
   ]
  },
  {
   "cell_type": "code",
   "execution_count": 105,
   "metadata": {},
   "outputs": [
    {
     "data": {
      "text/plain": [
       "'Итоговая метрика для модели линейной регерссии:'"
      ]
     },
     "metadata": {},
     "output_type": "display_data"
    },
    {
     "data": {
      "text/plain": [
       "12.36984619183749"
      ]
     },
     "execution_count": 105,
     "metadata": {},
     "output_type": "execute_result"
    }
   ],
   "source": [
    "display('Итоговая метрика для модели линейной регерссии:')\n",
    "result_smape(score_linear_rougher,score_linear_final)"
   ]
  },
  {
   "cell_type": "code",
   "execution_count": 106,
   "metadata": {},
   "outputs": [
    {
     "data": {
      "text/plain": [
       "'Модель случайного леса для флотационного этапа:'"
      ]
     },
     "metadata": {},
     "output_type": "display_data"
    },
    {
     "data": {
      "text/plain": [
       "\"Лучшие параметры: {'max_depth': 3, 'n_estimators': 10}\""
      ]
     },
     "metadata": {},
     "output_type": "display_data"
    },
    {
     "data": {
      "text/plain": [
       "'Метрики качества модели:'"
      ]
     },
     "metadata": {},
     "output_type": "display_data"
    },
    {
     "data": {
      "text/plain": [
       "13.0224546928012"
      ]
     },
     "metadata": {},
     "output_type": "display_data"
    }
   ],
   "source": [
    "display('Модель случайного леса для флотационного этапа:')\n",
    "score_forest_rougher = best_parameters(RandomForestRegressor(random_state=state),\n",
    "                                       features_train_rougher,train_target_rougher,parameters_forest)"
   ]
  },
  {
   "cell_type": "code",
   "execution_count": 107,
   "metadata": {},
   "outputs": [
    {
     "data": {
      "text/plain": [
       "'Модель случайного леса для финального этапа:'"
      ]
     },
     "metadata": {},
     "output_type": "display_data"
    },
    {
     "data": {
      "text/plain": [
       "\"Лучшие параметры: {'max_depth': 5, 'n_estimators': 40}\""
      ]
     },
     "metadata": {},
     "output_type": "display_data"
    },
    {
     "data": {
      "text/plain": [
       "'Метрики качества модели:'"
      ]
     },
     "metadata": {},
     "output_type": "display_data"
    },
    {
     "data": {
      "text/plain": [
       "10.810332774482728"
      ]
     },
     "metadata": {},
     "output_type": "display_data"
    }
   ],
   "source": [
    "display('Модель случайного леса для финального этапа:')\n",
    "score_forest_final = best_parameters(RandomForestRegressor(random_state=state),\n",
    "                                     features_train_final,train_target_final,parameters_forest)"
   ]
  },
  {
   "cell_type": "code",
   "execution_count": 108,
   "metadata": {},
   "outputs": [
    {
     "data": {
      "text/plain": [
       "'Итоговая метрика для модели случайного леса:'"
      ]
     },
     "metadata": {},
     "output_type": "display_data"
    },
    {
     "data": {
      "text/plain": [
       "11.363363254062344"
      ]
     },
     "execution_count": 108,
     "metadata": {},
     "output_type": "execute_result"
    }
   ],
   "source": [
    "display('Итоговая метрика для модели случайного леса:')\n",
    "result_smape(score_forest_rougher,score_forest_final)"
   ]
  },
  {
   "cell_type": "markdown",
   "metadata": {},
   "source": [
    "<div class=\"alert alert-block alert-warning\">\n",
    "    \n",
    "<b>Комментарий ревьюера:</b> \n",
    "Лучшую модель можно было выбирать **отдельно** для каждого целевого признака – тогда итоговое качество получилось бы лучше.\n",
    "</div>"
   ]
  },
  {
   "cell_type": "markdown",
   "metadata": {},
   "source": [
    "<div style=\"border:solid blue 2px; padding: 20px\">\n",
    "    \n",
    "<font color='blue'> А, я разве не так делаю? У меня для для каждого целевого признака ищет лучшую модель и находит  для них Smape, затем находит итоговое Smapе ... Подскажи, пожалуйста!"
   ]
  },
  {
   "cell_type": "markdown",
   "metadata": {},
   "source": [
    "<div class=\"alert alert-block alert-warning\">\n",
    "<b>Комментарий ревьюера v2:</b>    \n",
    "Итоговое sMAPE будет наименьшим, когда каждое из двух sMAPE (для каждого этапа) будет наименьшим. Поэтому можно выбрать отдельно модель для первого целевого признака (с наименьшим sMAPE) и отдельно – для второго целевого признака. К примеру, для первого целевого признака – модель решающего дерева, а для второго – модель случайного леса. И только после этого вычислить итоговое sMAPE. \n",
    "    \n",
    "Но, судя по текущим результатам, данный подход выйгрыша в итоговом sMAPE не даст: для обоих целевых признаков лучшей моделью является случайный лес.\n",
    "</div>"
   ]
  },
  {
   "cell_type": "markdown",
   "metadata": {},
   "source": [
    "<div style=\"border:solid blue 2px; padding: 20px\">\n",
    "    \n",
    "<font color='blue'> Понял! А, что, так можно? )) я не знал ... Добавил! В общем я пробовал на тесте все модели и разные модели для каждого целевого признака. в Итоге - лучшее итоговое sMAPE на линейной регрессии."
   ]
  },
  {
   "cell_type": "markdown",
   "metadata": {},
   "source": [
    "<a href='#0.0'>Содержание'</a>"
   ]
  },
  {
   "cell_type": "markdown",
   "metadata": {},
   "source": [
    "### 3.3 Тестирование лучшей модели <a id='3.3'></a>"
   ]
  },
  {
   "cell_type": "code",
   "execution_count": 109,
   "metadata": {},
   "outputs": [
    {
     "data": {
      "text/plain": [
       "'Тест модели на этапе флоатации'"
      ]
     },
     "metadata": {},
     "output_type": "display_data"
    },
    {
     "data": {
      "text/plain": [
       "'sMAPE метрика - 8.977888381564826'"
      ]
     },
     "metadata": {},
     "output_type": "display_data"
    }
   ],
   "source": [
    "display('Тест модели на этапе флоатации')\n",
    "#model = LinearRegression()\n",
    "model = DecisionTreeRegressor(random_state=state,max_depth=3, min_samples_leaf=4, min_samples_split=2)\n",
    "#model = RandomForestRegressor(random_state=state,max_depth=5,n_estimators=10)\n",
    "model_rougher = model.fit(features_train_rougher,train_target_rougher)\n",
    "pred_rougher = model_rougher.predict(features_test_rougher)\n",
    "rougher = sMAPE(test_target_rougher, pred_rougher)\n",
    "display(f'sMAPE метрика - {rougher}')"
   ]
  },
  {
   "cell_type": "markdown",
   "metadata": {},
   "source": [
    "<div class=\"alert alert-block alert-danger\">\n",
    "    \n",
    "<b>Комментарий ревьюера:</b> \n",
    "    \n",
    "~~Итоговые модели должны настраиваться (fit) на **обучающей** выборке. Тестовая выборка нужна только для того, чтобы оценить качество предсказаний построенных моделей.~~\n",
    "</div>"
   ]
  },
  {
   "cell_type": "markdown",
   "metadata": {},
   "source": [
    "<div style=\"border:solid blue 2px; padding: 20px\">\n",
    "    \n",
    "<font color='blue'> Исправил! "
   ]
  },
  {
   "cell_type": "markdown",
   "metadata": {},
   "source": [
    "<div class=\"alert alert-block alert-danger\">\n",
    "<b>Комментарий ревьюера v2:</b>    \n",
    "Перепроверь гиперпараметры лучших моделей: max_depth = 4 на этапе флотации.\n",
    "</div>"
   ]
  },
  {
   "cell_type": "markdown",
   "metadata": {},
   "source": [
    "<div style=\"border:solid blue 2px; padding: 20px\">\n",
    "    \n",
    "<font color='blue'> Исправил! "
   ]
  },
  {
   "cell_type": "code",
   "execution_count": 110,
   "metadata": {},
   "outputs": [
    {
     "data": {
      "text/plain": [
       "'Тест модели на финальном этапе'"
      ]
     },
     "metadata": {},
     "output_type": "display_data"
    },
    {
     "data": {
      "text/plain": [
       "'sMAPE метрика - 9.19391629109989'"
      ]
     },
     "metadata": {},
     "output_type": "display_data"
    }
   ],
   "source": [
    "display('Тест модели на финальном этапе')\n",
    "#model = LinearRegression()\n",
    "model = DecisionTreeRegressor(random_state=state,max_depth=2, min_samples_leaf=1, min_samples_split=2)\n",
    "#model = RandomForestRegressor(random_state=state,max_depth=1,n_estimators=10)\n",
    "model_final = model.fit(features_train_final,train_target_final)\n",
    "pred_final = model_final.predict(features_test_final)\n",
    "final = sMAPE(test_target_final, pred_final)\n",
    "display(f'sMAPE метрика - {final}')"
   ]
  },
  {
   "cell_type": "code",
   "execution_count": 111,
   "metadata": {},
   "outputs": [
    {
     "data": {
      "text/plain": [
       "'Итоговое sMAPE - 9.139909313716124'"
      ]
     },
     "metadata": {},
     "output_type": "display_data"
    }
   ],
   "source": [
    "smape = result_smape(rougher, final)\n",
    "display(f'Итоговое sMAPE - {smape}')"
   ]
  },
  {
   "cell_type": "code",
   "execution_count": 112,
   "metadata": {},
   "outputs": [
    {
     "data": {
      "text/plain": [
       "'Константная модель'"
      ]
     },
     "metadata": {},
     "output_type": "display_data"
    },
    {
     "data": {
      "text/plain": [
       "'Итоговое sMAPE - 10.128250804280345'"
      ]
     },
     "metadata": {},
     "output_type": "display_data"
    }
   ],
   "source": [
    "#Создадим константную модель и посчитаем её среднюю абсолютную процентную ошибку.\n",
    "display('Константная модель')\n",
    "constant_rougher = pd.Series(train_target_rougher.mean(), test_target_rougher.index) ### ошибка \n",
    "rougher = sMAPE(test_target_rougher, constant_rougher)\n",
    "constant_final = pd.Series(train_target_final.mean(), test_target_final.index) ### ошибка\n",
    "final = sMAPE(test_target_final, constant_final)\n",
    "display(f'Итоговое sMAPE - {result_smape(rougher, final)}')"
   ]
  },
  {
   "cell_type": "markdown",
   "metadata": {},
   "source": [
    "<div class=\"alert alert-block alert-danger\">\n",
    "<b>Комментарий ревьюера:</b> \n",
    "    \n",
    "~~Константная модель, как и все другие, должна настраиваться на обучающей выборке – поэтому средние значения целевых признаков следует вычислять по обучающей, а не по тестовой выборке.~~\n",
    "</div>"
   ]
  },
  {
   "cell_type": "markdown",
   "metadata": {},
   "source": [
    "<div style=\"border:solid blue 2px; padding: 20px\">\n",
    "    \n",
    "<font color='blue'> Исправил! "
   ]
  },
  {
   "cell_type": "markdown",
   "metadata": {},
   "source": [
    "<div class=\"alert alert-block alert-danger\">\n",
    "    \n",
    "<b>Комментарий ревьюера v2:</b>    \n",
    "Средние значения целевых признаков вычисляются корректно (по обучающей выборке). Но нас интересует качество на **тестовой**, а не на обучающей выборке (чтобы сравнить с качеством итоговой модели). Поэтому столбцы constant_rougher и constant_final должны иметь индексы тестовой выборки. И, соответственно, sMAPE должно вычисляться на тестовой выборке.\n",
    "</div>"
   ]
  },
  {
   "cell_type": "markdown",
   "metadata": {},
   "source": [
    "<div style=\"border:solid blue 2px; padding: 20px\">\n",
    "    \n",
    "<font color='blue'> Исправил! "
   ]
  },
  {
   "cell_type": "markdown",
   "metadata": {},
   "source": [
    "<a href='#0.0'>Содержание'</a>"
   ]
  },
  {
   "cell_type": "markdown",
   "metadata": {},
   "source": [
    "<a id='3.4'></a>"
   ]
  },
  {
   "cell_type": "markdown",
   "metadata": {},
   "source": [
    "### Вывод\n",
    "\n",
    "Заказчик иследования предоставил нам 3 таблицы - одна с исходными данными и две разделенные (тренировочная и обучающая выборка). В тестовую таблицу попали только 53 столбца. Некоторые параметры недоступны, потому что замеряются и/или рассчитываются значительно позже. Из-за этого в тестовой выборке отсутствуют некоторые признаки, которые могут быть в обучающей. Также в тестовом наборе нет целевых признаков.\n",
    "\n",
    "Стoлбцы именованны в нижнем регистре на латинице. Но есть точки в названниях - желательно перевести их в нижнее подчеркивание. В данных есть много пропусков, исследуем их количество:\n",
    " * Обучающий датасет содержит 16860 записей и 87 столбцов\n",
    " * Тестовый датасет содержит 5856 записей и 53 столбца\n",
    " * Полный датасет содержит  22716 записей и 87 столбцов\n",
    " \n",
    "Были изучены датасеты с информацией об обогащении и очистке золота, обнаруженные пропуски заполнены и удалены аномалии. Была проверена точность расчета эффективности обогащения для руды - средняя абсолютная ошибка стремится к нулю; были проанализированы признаки, недоступные в тестовой выборке - ими оказались данные со всех этапов с долей элементов в концентратах, отвальных хвостах и др.\n",
    "В ходе проведенного анализа сделали следующее:\n",
    "Изменили названия всех столбцов, заменим точки на нижнее подчеркивание.\n",
    "В данных обнаружены пропуски, дубликаты отсутствуют.\n",
    "Провели точность расчета эффективности обогащения для руды МАЕ.\n",
    "Проанализированы признаки, недоступные в тестовой выборке.\n",
    "Заполнены пропуски в данных.\n",
    "Изучили корреляцию и статистические показатели\n",
    "Можно было удалить коррелирующие столбцы для облегчения датасета, но не стал этого делать так, как не известно какие данные понадобятся заказчику\n",
    "Был проведен исследовательский анализ данных:\n",
    "\n",
    "Концентрация металлов менялась в сторону увеличения доли золота на каждом последующем этапе при этом свинец почти не менялся - видимо его очень трудно выводит отчищать от него руду. Доля серебра же наоборот снижается с каждым этапом\n",
    "Распределения на графике имеет похожую форму и принимают одинаковые значения, с разной плотностью для разных выборок. Изучим описательные статистики:максимальные значения 10 и 15 - можно отбросить значения свыше 11, минимальные значения 1 и 5 - можно отбросить то, что меньше 1, средние одинаковы для выборок, медиана почти одинаковая. Распределения не отличаются.\n",
    "В ходе исследования данных, произвели следующие действия:\n",
    "    Изучили концентрацию металлов на различных этапах очистки\n",
    "    Изучили распределение гранул сырья в обучающей и тестовой выборках \n",
    "    Изучили суммарную концентрацию всех веществ на всех этапах\n",
    "    Удалены аномалии.\n",
    "    \n",
    "Используемые модели:\n",
    " - модель решающего дерева\n",
    " - модель линейной регрессии\n",
    " - модель случайного леса \n",
    " \n",
    "### При помощи кросс-валидации была выбрана самая эффективная модель, которой оказалась модель Линейной регрессии. Итоговое sMAPE удалось получить - 8.2846. \n"
   ]
  },
  {
   "cell_type": "markdown",
   "metadata": {},
   "source": [
    "<div style=\"border:solid green 2px; padding: 20px\">\n",
    "Казбек, этот проект один из самых сложных, но ты отлично с ним справился :) Отдельное спасибо за наглядные и красивые графики 👍\n",
    "    \n",
    "Доработать нужно следующее:\n",
    "    \n",
    "    - удалить пропуски в целевых признаках;\n",
    "    - добавить этап rougher.input.feed_* при анализе концентраций;\n",
    "    - сравнить распределения размеров гранул сырья rougher.input.feed_size;\n",
    "    - задать аргумент greater_is_better при вызове make_scorer(...);\n",
    "    - корректно измерить качество итоговых моделей на тестовой выборке;\n",
    "    - вычислять средние значения целевых признаков для константной модели по обучающей выборке;\n",
    "    - исправить желтые замечания (их должно быть не больше двух)."
   ]
  },
  {
   "cell_type": "markdown",
   "metadata": {},
   "source": [
    "<div style=\"border:solid green 2px; padding: 20px\">\n",
    "Казбек, спасибо, осталось несколько замечаний:\n",
    "    \n",
    "    - нужно удалить пропуски в целевых признаках;\n",
    "    - внимательно задать гиперпараметры лучших моделей при оценивании их качества на тестовой выборке;\n",
    "    - оценить качество константной модели на тестовой выборке."
   ]
  },
  {
   "cell_type": "markdown",
   "metadata": {},
   "source": [
    "- [x]  Jupyter Notebook открыт\n",
    "- [ ]  Весь код выполняется без ошибок\n",
    "- [ ]  Ячейки с кодом расположены в порядке выполнения\n",
    "- [ ]  Выполнен шаг 1: данные подготовлены\n",
    "    - [ ]  Проверена формула вычисления эффективности обогащения\n",
    "    - [ ]  Проанализированы признаки, недоступные в тестовой выборке\n",
    "    - [ ]  Проведена предобработка данных\n",
    "- [ ]  Выполнен шаг 2: данные проанализированы\n",
    "    - [ ]  Исследовано изменение концентрации элементов на каждом этапе\n",
    "    - [ ]  Проанализированы распределения размеров гранул на обучающей и тестовой выборках\n",
    "    - [ ]  Исследованы суммарные концентрации\n",
    "    - [ ]  Проанализированы и обработаны аномальные значения\n",
    "- [ ]  Выполнен шаг 3: построена модель прогнозирования\n",
    "    - [ ]  Написана функция для вычисления итогового *sMAPE*\n",
    "    - [ ]  Обучено и проверено несколько моделей\n",
    "    - [ ]  Выбрана лучшая модель, её качество проверено на тестовой выборке"
   ]
  }
 ],
 "metadata": {
  "kernelspec": {
   "display_name": "Python 3",
   "language": "python",
   "name": "python3"
  },
  "language_info": {
   "codemirror_mode": {
    "name": "ipython",
    "version": 3
   },
   "file_extension": ".py",
   "mimetype": "text/x-python",
   "name": "python",
   "nbconvert_exporter": "python",
   "pygments_lexer": "ipython3",
   "version": "3.8.3"
  }
 },
 "nbformat": 4,
 "nbformat_minor": 2
}
